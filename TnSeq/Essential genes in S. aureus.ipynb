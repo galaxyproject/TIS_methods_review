{
 "cells": [
  {
   "cell_type": "markdown",
   "metadata": {},
   "source": [
    "# Abstract"
   ]
  },
  {
   "cell_type": "markdown",
   "metadata": {},
   "source": [
    "I am interested in Transposon sequencing analyses and I stumbled upon a paper <cite data-cite=\"6932338/9J4IFRXF\"></cite> that performed a TraDis analysis of the *Escherishia coli* K12 genome. TraDis methods, for Transposon Directed Insertion Sequencing, uses specific PCR amplification of regions flanking transposons that have been inserted in the genome. This paper compare TraDis results to single genes deletion libraries to identify essential genes. It also discuss the importance of correction for gene and genome length, as well as the manual curration of any TraDis results. \n",
    "\n",
    "In this notebook, I replicate their analysis, then compare it with the results of software for TraDis Data. "
   ]
  },
  {
   "cell_type": "markdown",
   "metadata": {},
   "source": [
    "# Table of contents\n",
    "\n",
    "<div id=\"toc\"></div>"
   ]
  },
  {
   "cell_type": "markdown",
   "metadata": {},
   "source": [
    "# Introduction"
   ]
  },
  {
   "cell_type": "markdown",
   "metadata": {},
   "source": [
    "This notebook contain a comparison of methods to analyse TraDis data to predict essential genes in *Escherichia Coli* K12. \n",
    "The first step is to understand the biology of the technic to assess any systematic biases that we would need to account for. This will impact the pre-processing of the data, from the raw reads to the count of insertion at each insertion site. \n",
    "\n",
    "I first tried to replicate the exact analysis presented in the paper <cite data-cite=\"6932338/9J4IFRXF\">.The paper present a simple method of ploting the genes saturations, and identifying the distributions corresponding to essential and essential genes. The genes are then classified in one distribution or the other, and we discuss the impact of the choices of thresholds and parameters.\n",
    "    \n",
    "The next step is to compare these results to the ones provided by a stand alone software, TRANSIT, that provides a classification based on the Gumbel distribution.\n",
    "\n",
    "And finally we compare the two techniques single gene deletion mutants libraries, and manually inspect the genes that are classifies differently in each case.\n",
    "\n",
    "*Disclaimer* : It is important to note that due to the random nature of TraDis techniques, a gene that seems incorrectly classified in regard of its biological function does not mean the method is failing. Always verify if the results are in accordance with the data before the biological meaning is analysed.\n"
   ]
  },
  {
   "cell_type": "markdown",
   "metadata": {},
   "source": [
    "## TraDis techniques"
   ]
  },
  {
   "cell_type": "markdown",
   "metadata": {},
   "source": [
    "The different TraDis techniques share a common principle : The genomes of a bacterial population are statistically  saturated with transposon insertions. It means that statistically, every possible insertion site for the transposon is impacted at least one time in the bacterial population. The transposon insertion is disruptive for the gene, which means that if the gene impacted is essential, then this insertion will kill the bacteria and disappear from the population. "
   ]
  },
  {
   "cell_type": "markdown",
   "metadata": {},
   "source": [
    "<img src=\"../Images/design_tnseq_a.png\" alt=\"Design of Tnseq experiments-a\" style=\"width: 900px;\"/>\n",
    "\n"
   ]
  },
  {
   "cell_type": "markdown",
   "metadata": {},
   "source": [
    "An initial population of genomes is mutated so that the genome of the bacteria is saturated with transposon insertions. A library is called saturated if in the genomes across the whole population of bacteria, each potential insertion site has at least one insertion. The population is then divided into several media containing different growth conditions, to identify the impact of the insertions on the bacteria growth. After growth, the regions flanking the insertion are amplified and sequenced, allowing to determine the location of the insertion."
   ]
  },
  {
   "cell_type": "markdown",
   "metadata": {},
   "source": [
    "<img src=\"../Images/design_tnseq_b.png\" alt=\"Design of Tnseq experiments-b\" style=\"width: 900px;\"/>\n"
   ]
  },
  {
   "cell_type": "markdown",
   "metadata": {},
   "source": [
    "The sequences are aligned to the reference genome to identify the location of the regions flanking the insertions. The resulting data will show a discrete repartition of reads on each site. If a gene present several insertions, like the two leftmost genes in Condition A, it means that its disruption has little or no impact to the bacterial growth. On the other hand, when a gene shows no insertions at all, like the rightmost gene in Condition A, is means that any disruption in this gene killed the bacteria, meaning it is a gene essential to bacteria survival. If the library is sufficiently saturated, there is a clear threshold between essential and non-essential genes when you analyze the insertion rate per gene."
   ]
  },
  {
   "cell_type": "markdown",
   "metadata": {},
   "source": [
    "<cite data-cite=\"6932338/KV8VJY25\"></cite>"
   ]
  },
  {
   "cell_type": "markdown",
   "metadata": {},
   "source": [
    "Two type of transposon insertion methods exist:\n",
    "- Gene disruption, where we analyze only the disruptions. \n",
    "- Regulatory element insertion, where different promoters are inserted by the transposon, and we analyze the change in gene expression in addition to the disruption. This method will be the subject of another tutorial.\n"
   ]
  },
  {
   "cell_type": "markdown",
   "metadata": {},
   "source": [
    "Different types of transposons can be used depending of the goal of your analysis.\n",
    "\n",
    "- Randomly pooled tranposon\n",
    "    - Mariner-based transposons, common and stable transposons which target the “TA” dinucleotides. The TA are distributed relatively evenly along genome. The Mariner-based transposons can be inserted to impact statistically every gene, with in average more than 30 insertions site per kb. With the low insertion bias, it is easy to build saturated libraries. But local variations means less loci and less statistical power.\n",
    "    - Tn5-based vectors, which insert at random sites. This transposon do not require any target sequences. It is useful for specie where it is difficult to build mariner based transposons. But it has a preference for high GC content, causing insertion bias\n",
    "\n",
    "- Defined sequence transposon. It can be used to study interactions in pathways of interest, but also more precise targeting (small genes, pathways) for specific analyses\n",
    "\n"
   ]
  },
  {
   "cell_type": "markdown",
   "metadata": {},
   "source": [
    "### Mariner based"
   ]
  },
  {
   "cell_type": "markdown",
   "metadata": {},
   "source": [
    "Mariner based transposon insert at TA sites, which are about a quarter of million in a genome of 4Mb. In Escherichia coli, which has a GC content of ~50%, there are on average >30 potential insertion sites per 1 kilobase gene. The transposon construct usually contains a gene of resistance to an antibiotique, so the mutants can be selected, and sequencing promoters to sequence the region flanking the insertion <cite data-cite=\"6932338/KV8VJY25\"></cite>. \n",
    "\n",
    "Despite the theoretical randomness of mariner transposon insertions, studies has shown that Dna-binding proteina can prevent insertion of transposon at their binding location <cite data-cite=\"6932338/ESUL5ZJ8\"></cite>. This has been observed with H-NS protein, that causes a under representation of Mariner insertion in some AT rich regions. The ideal would be to have a control sequencing of the library before any growth, to be able to detect empty sites before selective pressure is applied. Some study suggest that the bias seems to lead to GC poor regions being less impacted by insertions, that could be compensated by normalizing on GC-content <cite data-cite=\"6932338/YRDSP7M7\"></cite>. \n"
   ]
  },
  {
   "cell_type": "markdown",
   "metadata": {},
   "source": [
    "### Tn5 Based"
   ]
  },
  {
   "cell_type": "markdown",
   "metadata": {},
   "source": [
    "Tn5 vectors insert at random sites in the genome, but has an insertion bias in favor of GC rich regions. It can also lead to hotspots of insertions that reduces the library overall complexity. This type of transposon can be prefered to Mariner transposon when they are difficult to construct for the studied specie <cite data-cite=\"6932338/KV8VJY25\"></cite>. This type of transposon is however inserting totally randomly in the genome, it shows a insertion preference for GC rich regions. This type of bias can be accounted for during the data processing by normalising the data for GC content. \n",
    "\n"
   ]
  },
  {
   "cell_type": "markdown",
   "metadata": {},
   "source": [
    "## Data"
   ]
  },
  {
   "cell_type": "markdown",
   "metadata": {},
   "source": [
    "The data pre-processing is pretty straight forward, including filtering and trimming indesxes and transposon sequences, alignment, and mapping coverage. "
   ]
  },
  {
   "cell_type": "markdown",
   "metadata": {},
   "source": [
    "\"Raw data were collected and analyzed using a series of custom scripts. The\n",
    "Fastx barcode splitter and trimmer tools, of the Fastx toolkit, were used to assess and trim the sequences (67). Sequence reads were first filtered by their inline indexes, allowing no mismatches. Transposon similarity matching was done by identifying the first 35 bp of the sequenced transposon in two parts: 25 bases (5= to 3=, corresponding to the PCR2 primer binding site) were matched, allowing for three mismatches, trimmed, and then the remaining 10 bases (corresponding to the sequenced transposon) matched, allowing for one mismatch, and trimmed. Sequences less than 20 bases long were removed using Trimmomatic (68). Trimmed, filtered sequences were then aligned to the reference genome E. coli BW25113 (accession no. CP009273.1), obtained from the NCBI genome repository (69). Where gene names differed between databases, the BW25113 annotation was used. The aligner bwa was used, with the mem algorithm (0.7.8-r455 [75]). Aligned reads were filtered to remove any soft clipped reads. The subsequent steps of conversion from SAM (sequence alignment/map) files to BAM (binary version of SAM) files, and the requisite sorting and indexing, were done using SAMtools (0.1.19-44428cd [70]). The BEDTools suite was used to create BED (browser extensible data) files which were intersected against the coding sequence boundaries defined in general feature format (.gff) files obtained from the NCBI (71). Custom python scripts were used to quantify insertion sites within the annotated CDS boundaries. Data were inspected manually using the Artemis genome browser (72). Essential\" <cite data-cite=\"6932338/9J4IFRXF\">"
   ]
  },
  {
   "cell_type": "markdown",
   "metadata": {},
   "source": [
    "## Tools"
   ]
  },
  {
   "cell_type": "markdown",
   "metadata": {},
   "source": [
    "A couple tools dedicated to TraDis exist, and we selected Transit for its availability , the (maintenance?) of the tool by the developpers, and the wide range of methods available. (Add quick description of other tools availables)"
   ]
  },
  {
   "cell_type": "markdown",
   "metadata": {},
   "source": [
    "\n",
    "### Transit\n",
    "Transit is a software that can be used to analyse TnSeq Data. It is compatible with Mariner and Tn5 tranposon. In total, 3 methods are available to assess gene essentiality in one sample.\n",
    "\n",
    "#### Gumbel method\n",
    "\n",
    "The Gumbel method performs a gene by gene analysis of essentiality for Mariner data based on the longest consecutive sequence of TA site without insertions in a gene. This allows to identify essential domains regardless of insertion at other location of the gene.\n",
    "\n",
    "The distribution governing the longest sequence of consecutive non insertion in non essential genes is  characterized by a Gumbel distribution. The distribution is built on the assumption that each site is independent in non-essential genes and therefore the sites are treated as bernouilli trials. This distribution is often used to model the distribution of maximums (or minimums) of a variable (See the [Wikipedia article on Gumbel distribution ](https://en.wikipedia.org/wiki/Gumbel_distribution)). The Gumbel distribution is used as a likelihood of non-essentiality, as the longest run of non-insertions should follow what is expected given the global distribution of non-insertion runs. The essential genes, whose runs of empty sites are longer than expected, are modeled through a normalized sigmoid function. This function reflect that any gene can be essential, except the gene were the run of non insertions are too smell to represent a domain.\n",
    "\n",
    "The total distribution of the maximum run of non-insertion per gene is therefore represented by a bimodal distribution composed of a Gumbel distribution of non-essential genes and a normalized sigmoid function of essential ones. The parameters of these distributions are estimated through a Metropolis–Hastings (MH) sampling procedure <cite data-cite=\"6932338/2SZ4993M\"></cite>.\n",
    "\n",
    "Using these two distribution, the posterior probability of each distribution is calculated for each gene. Some genes can be classified as \"Unclear\" if one probability is not winning over the other. Some other can be classified as \"Small\" if the space of TA sites covered by the gene is insufficient to categorize it (See the [Transit Manual for the Gumbel method](https://transit.readthedocs.io/en/latest/transit_methods.html#gumbel)).\n",
    "\n",
    "#### HMM method\n",
    "\n",
    "The HMM method performs a whole genome essentiality analysis for Mariner data. This approach uses the clustering of TA sites along the genome to identify essential regions, and then apply results to the annotation to identify genes containing essential regions. The HMM method provides a classification for each TA site into 4 states : Essential, Non-Essential, Growth Advantage, and Growth Defect.\n",
    "\n",
    "This method require a well-saturated library and is sensitive to sparse datasets <cite data-cite=\"6932338/HNBGDTP2\"></cite>.\n",
    "\n",
    "\n",
    "#### Tn5Gaps method\n",
    "\n",
    "The Tn5Gaps method is a method dedicated to the identification of essential genes in studies using Tn5 transposons. The analysis is performed on the whole genome to identify regions of non insertion overlapping with genes. It is based on a Gumbel analysis method <cite data-cite=\"6932338/DH78MLPP\"></cite> and adapted to Tn5 transposon specificities.  The main difference comes from the fact that Tn5 transposon can insert everywhere, thus\n",
    "creating libraries with lower insertion rates. The difference from the Gumbel method described above is that the run of non insertion are computer on the whole genome instead of individual genes. The longest run of non insertion considered is not the longest within the gene, but the longest one overlapping the gene.\n",
    "\n"
   ]
  },
  {
   "cell_type": "markdown",
   "metadata": {},
   "source": [
    "\n",
    "# Replication of the study\n"
   ]
  },
  {
   "cell_type": "markdown",
   "metadata": {},
   "source": [
    "## Methods"
   ]
  },
  {
   "cell_type": "markdown",
   "metadata": {},
   "source": [
    "### Method described in the paper"
   ]
  },
  {
   "cell_type": "markdown",
   "metadata": {},
   "source": [
    "The description of the essential genes prediction in the paper looks like this :\n",
    "\n",
    "\n",
    "\n",
    "\"Essential gene prediction. The frequency of insertion index scores was plotted in a histogram using\n",
    "the Freedman-Diaconis rule for choice of bin widths (see Fig. S1 in the supplemental material). Using the R MASS library (http://www.r-project.org), an exponential distribution (red line) was fitted to the left, “essential” mode (i.e., any data to the left of the trough in Fig. S1); a gamma distribution (blue line) was fitted to the right, “nonessential” mode (i.e., any data to the right of the trough). The probability of a gene belonging to each mode was calculated, and the ratio of these values was used to calculate a log likelihood score. Using a 12-fold likelihood threshold, based on the log likelihood scores, genes were assigned as “essential” if they were 12 times more likely to be in the left mode than in the right mode, and “nonessential” if they were 12 times more likely to be in the right mode (9). Genes with log likelihood scores between the upper and lower log2\n",
    "12 threshold values of 3.6 and ⫺3.6, respectively, were deemed January/February 2018 Volume 9 Issue 1 e02096-17 ® Downloaded from http://mbio.asm.org/ on May 1, 2019 by guest mbio.asm.org 15\n",
    "Goodall et al. ® “unclear.” A threshold cutoff of log2 (12) was chosen, as it is more stringent than log2 (4) (used by\n",
    "Langridge et al. [4]), and consistent with analysis used by Phan et al. (9).\" <cite data-cite=\"6932338/9J4IFRXF\">"
   ]
  },
  {
   "cell_type": "markdown",
   "metadata": {},
   "source": [
    "<img src=\"../Images/distrib_fitting_paper.png\" alt=\"The authors fit the saturation data with an exponential and a gamma distribution\" style=\"width: 600px;\"/>\n"
   ]
  },
  {
   "cell_type": "markdown",
   "metadata": {},
   "source": [
    "\"Frequency distribution of insertion index scores. The insertion index score for each coding sequence was calculated as the number of insertions per CDS divided by the CDS length in base pairs to normalize for gene length. The frequency of insertion index scores was plotted for both TL data (A) and LB data (B), and both followed a bimodal distribution. An exponential distribution model was fitted to the left mode that includes essential genes (red), and a gamma distribution model was fitted to the right, nonessential mode (blue). For a given insertion index score, the probability of belonging to each mode was calculated, and the ratio of these values was the log likelihood score. A gene was classified as essential if its log likelihood score was less than log2 12 and was therefore 12 times more likely to belong to the red mode than the blue mode. Download FIG S1, PDF file, 0.02 MB.\"  <cite data-cite=\"6932338/9J4IFRXF\">\n"
   ]
  },
  {
   "cell_type": "markdown",
   "metadata": {},
   "source": [
    "# Installations and Imports"
   ]
  },
  {
   "cell_type": "code",
   "execution_count": 1,
   "metadata": {},
   "outputs": [
    {
     "name": "stdout",
     "output_type": "stream",
     "text": [
      "Collecting package metadata (current_repodata.json): done\n",
      "Solving environment: done\n",
      "\n",
      "# All requested packages already installed.\n",
      "\n",
      "Collecting package metadata (current_repodata.json): done\n",
      "Solving environment: done\n",
      "\n",
      "# All requested packages already installed.\n",
      "\n",
      "Collecting package metadata (current_repodata.json): done\n",
      "Solving environment: done\n",
      "\n",
      "# All requested packages already installed.\n",
      "\n",
      "Collecting package metadata (current_repodata.json): done\n",
      "Solving environment: done\n",
      "\n",
      "# All requested packages already installed.\n",
      "\n"
     ]
    }
   ],
   "source": [
    "! conda install -y upsetplot\n",
    "! conda install -y pandasql\n",
    "! conda install -y matplotlib-venn\n",
    "! conda install -y seaborn"
   ]
  },
  {
   "cell_type": "code",
   "execution_count": 2,
   "metadata": {},
   "outputs": [],
   "source": [
    "import pandas as pd\n",
    "from pandasql import *\n",
    "from IPython.display import display\n",
    "import matplotlib.pyplot as plt\n",
    "import numpy as np\n",
    "import matplotlib as mpl\n",
    "import seaborn as sns\n",
    "import scipy\n",
    "from pylab import *\n",
    "from scipy.optimize import curve_fit\n",
    "import statistics\n",
    "from scipy import stats  \n",
    "import numpy as np\n",
    "from scipy.stats import norm\n",
    "pysqldf = lambda q: sqldf(q, globals())\n",
    "from matplotlib_venn import venn2, venn2_circles,venn3\n",
    "import matplotlib.gridspec as gridspec\n",
    "import itertools\n",
    "from upsetplot import from_memberships\n",
    "from upsetplot import plot as upplot\n"
   ]
  },
  {
   "cell_type": "markdown",
   "metadata": {},
   "source": [
    "### Calculation of saturation indexes\n",
    "\n",
    "We create a \"Gumbel dataframe\" object for easier manipulations down the line.\n",
    "The creation of Gumbel_df object import a tabulated file into a panda dataframe, rename the collumns, and calculate the saturation indexes.\n",
    "The saturation index of a gene is defined as the ratio of insertion on number of potential insertion sites."
   ]
  },
  {
   "cell_type": "code",
   "execution_count": 3,
   "metadata": {},
   "outputs": [],
   "source": [
    "class gumbel_df():\n",
    "    kind='Gumbel'\n",
    "    def __init__(self,file): #import the file, format dataframe, and add insertion rate \n",
    "        if isinstance(file,str) : \n",
    "            self.full=pd.read_csv(file, sep=\"\\t\", header=None, comment='#').fillna(value = '.')\n",
    "            # renaming the columns\n",
    "            self.full.rename(columns={0:'ID', 1:'name',2:'annot', 3:\"nbIns\",4:'nbsites',5:'r',6:'ovr',7:'pval',8:'call'},inplace=True)\n",
    "            self.full=self.full[self.full['nbsites']>0]\n",
    "            self.full['insRate']=self.full['nbIns']/self.full['nbsites']\n",
    "            self.binwidth=(2*scipy.stats.iqr(self.full.insRate))/(len(self.full.insRate)**(1.0/3.0))\n",
    "            self.nbbins=1/self.binwidth\n",
    "            self.full=self.full.replace('Non-essential','NE')\n",
    "            self.full=self.full.replace('Essential','E')\n",
    "        elif isinstance(file,gumbel_df) : \n",
    "            self.full=file.full.copy()\n",
    "            self.binwidth=file.binwidth\n",
    "            self.nbbins=file.nbbins\n",
    "        elif isinstance(file,pd.core.frame.DataFrame):\n",
    "            self.full=file.copy()\n",
    "            self.binwidth=(2*scipy.stats.iqr(self.full.insRate))/(len(self.full.insRate)**(1.0/3.0))\n",
    "            self.nbbins=1/self.binwidth\n",
    "    def get_ess(self,col) : # return essential genes for a collumn given in argument\n",
    "        return self.full[(self.full[col]=='E') | (self.full[col]=='ES') ]  \n",
    "    def get_ne(self,col) : # return non-essential genes for a collumn given in argument\n",
    "        return self.full[(self.full[col]=='NE') ] \n",
    "    def get_un(self,col) : # return undetermined genes for a collumn given in argument\n",
    "        return self.full[(self.full[col]=='U') ] \n",
    "    def copy(self):\n",
    "        new=gumbel_df(self)\n",
    "        return new\n"
   ]
  },
  {
   "cell_type": "code",
   "execution_count": 4,
   "metadata": {},
   "outputs": [],
   "source": [
    "DATA_DIR='Data/'"
   ]
  },
  {
   "cell_type": "code",
   "execution_count": 5,
   "metadata": {},
   "outputs": [],
   "source": [
    "transit_all= gumbel_df(DATA_DIR+'TRANSIT_all_constructs.tab')\n",
    "transit_control= gumbel_df(DATA_DIR+'TRANSIT_control_constructs.tab')\n"
   ]
  },
  {
   "cell_type": "markdown",
   "metadata": {},
   "source": [
    "### Histogram of frequencies of index scores\n",
    "\n",
    "The histogram is plotted with a specific number of bins, following the Freedman-Diaconis rule. Freedman and Diaconis determined the ideal bin size calculation to minimize the difference between estimated and empirical distributions.\n",
    "\n",
    "The calculation of the optimal bin size is made according to the following formula : \n",
    "\n",
    "<center> ${\\displaystyle {\\text{Bin width}}=2\\,{{\\text{IQR}}(x) \\over {\\sqrt[{3}]{n}}}}$ </center>\n",
    "\n",
    "$IQR(x)$ is the interquartile range of the insertion indexes, and $n$ is the number of genes.\n",
    "\n",
    "This formula provides an ideal bin size, which will allow us to calculate the ideal bin number with the following formula :  \n",
    "\n",
    "<center> ${\\displaystyle {\\text{Number of bins}}= {\\text{Interval size} \\over \\text{Bin Width}}}$</center>\n",
    " \n",
    "Since we have an interval of size 1 (insertion indexes have values between 0 and 1), we have :\n",
    "\n",
    "<center> ${\\displaystyle {\\text{Number of bins}}= {1 \\over \\text{Bin Width}}}$</center>\n",
    "\n",
    "This number is calculated during the creation of a Gumbel Dataframe object:\n"
   ]
  },
  {
   "cell_type": "markdown",
   "metadata": {},
   "source": [
    "### Comparing saturation frequency <a id='saturation'></a>"
   ]
  },
  {
   "cell_type": "markdown",
   "metadata": {},
   "source": [
    "Let's take a look  at the saturations frequencies"
   ]
  },
  {
   "cell_type": "code",
   "execution_count": 6,
   "metadata": {},
   "outputs": [
    {
     "data": {
      "image/png": "[encoded data removed]",
      "text/plain": [
       "<Figure size 1440x720 with 2 Axes>"
      ]
     },
     "metadata": {
      "needs_background": "light"
     },
     "output_type": "display_data"
    }
   ],
   "source": [
    "fig, ax = plt.subplots(figsize=(20,10))\n",
    "gs1 = gridspec.GridSpec(2, 2)\n",
    "gs1.update(wspace=0.05, hspace=0.3)\n",
    "\n",
    "plt.axis('on')\n",
    "\n",
    "pltA=plt.subplot(gs1[0]).set_title('All constructs', fontsize=16, loc='left')\n",
    "Avenn=sns.distplot(transit_all.full.insRate, bins=int(transit_all.nbbins), axlabel='Gene Saturation')\n",
    "\n",
    "pltB=plt.subplot(gs1[1]).set_title('Control constructs', fontsize=16, loc='left')\n",
    "Bvenn=sns.distplot(transit_all.full.insRate, bins=int(transit_control.nbbins), axlabel='Gene Saturation')\n",
    "\n",
    "ax.set_aspect('equal')\n",
    "plt.savefig('results/construct_comp.png')\n",
    "\n",
    "\n"
   ]
  },
  {
   "cell_type": "markdown",
   "metadata": {},
   "source": [
    "It appears that using the sum of counts between replicates provides a higher saturation overall, but causes the distribution of essential genes to be less defined. This could be explained by the high number of replicates and the small size of reads. The small size or reads can causes mis-aligments. The large number of replicates increases the probability that reads faulsely align to essential genes. When we sum the counts of replicated, this alignment accumulate and causes higher gene saturations. When we use the mean, a falsely aligned read will be compensated by empty sites in the other replicates. \n",
    "\n",
    "Let's run a regression on all constructs results."
   ]
  },
  {
   "cell_type": "code",
   "execution_count": 7,
   "metadata": {},
   "outputs": [],
   "source": [
    "transit=transit_all.copy()"
   ]
  },
  {
   "cell_type": "markdown",
   "metadata": {},
   "source": [
    "## Regression classification "
   ]
  },
  {
   "cell_type": "markdown",
   "metadata": {},
   "source": [
    "To plot the frequency of saturation indexes, we are using a probability density plot. \n",
    "This type of plot display the frequency of values such as the probability for a gene randomly picked in the population to have a saturation index between a and b is equal to the area under the curve of the probability density plot between a and b.\n",
    "Let's plot this histogram for both all constructs and only control constructs"
   ]
  },
  {
   "cell_type": "code",
   "execution_count": 8,
   "metadata": {},
   "outputs": [],
   "source": [
    "data=[float(i) for i in transit.full.insRate] #shape the insertion rate into a list of float"
   ]
  },
  {
   "cell_type": "code",
   "execution_count": 9,
   "metadata": {},
   "outputs": [
    {
     "data": {
      "image/png": "[encoded data removed]",
      "text/plain": [
       "<Figure size 432x288 with 1 Axes>"
      ]
     },
     "metadata": {
      "needs_background": "light"
     },
     "output_type": "display_data"
    }
   ],
   "source": [
    "y,x,_=plt.hist(data,int(transit.nbbins),alpha=1,label='data',facecolor=\"none\",edgecolor='black', density=True) "
   ]
  },
  {
   "cell_type": "markdown",
   "metadata": {},
   "source": [
    "We are storing into x and y the density data : \n",
    "- x is the limits of bins\n",
    "- y is the density value of each bins\n",
    "\n",
    "\n",
    "### Fitting 2 distributions to the histogram\n",
    "\n",
    "x including the limits of the bins, it contain 1 more element than y. \n",
    "To perform a regression, we need a y for each x, so we are transforming x into a list of median value of each bin : "
   ]
  },
  {
   "cell_type": "code",
   "execution_count": 10,
   "metadata": {},
   "outputs": [],
   "source": [
    "x=(x[1:]+x[:-1])/2 "
   ]
  },
  {
   "cell_type": "markdown",
   "metadata": {},
   "source": [
    "Now that we have the data of the saturation density, we will use it to identify the underlying distribution of essential and non-essential genes.\n",
    "We can see from the histogram that the saturation index have a bimodal distribution. A regression will allow us to fit one distribution to each mode. With the parameters estimated by the regression, we can calculate the probability of each gene to belong to one or the other distribution.\n",
    "\n",
    "\n",
    "I researched how to fit distributions to bimodal distributions, and found a couple of example of the curve_fit function from scipy. (https://www.geeksforgeeks.org/scipy-curve-fitting/, https://stackoverflow.com/questions/47110254/fitting-two-gaussians-on-less-expressed-bimodal-data/47133018, https://stackoverflow.com/questions/35990467/fit-two-gaussians-to-a-histogram-from-one-set-of-data-python)\n",
    "\n",
    "We are using the probability density function of the model distribution, as we have used the probability density function for the saturation disatribution.\n",
    "\n",
    "We start by defining the expected shape of the binomial distribution. A bimodal distribution pdf can be defined as the sum of two distribution pdf, such as the sum  of AUCs of the two pdfs equal 1 between 0 and 1.\n",
    "\n",
    "\n",
    "### Choosing a regression\n",
    "\n",
    "To determine the best distributions for the regression, I looked at the scale and shape of classic distributions here : https://threeplusone.com/pubs/FieldGuide.pdf\n",
    "\n",
    "In both cases, the distribution of non-essential genes can be fitted to a normal distribution.\n",
    "For the essential genes, I identified 3 different distribution that could fit : \n",
    "- Exponential distribution\n",
    "- Pearson distribution\n",
    "- Inverted Gamma distribution\n",
    "\n",
    "The 3 distributions seem to perform well"
   ]
  },
  {
   "cell_type": "code",
   "execution_count": 11,
   "metadata": {},
   "outputs": [
    {
     "data": {
      "text/plain": [
       "<matplotlib.legend.Legend at 0x118bfcd30>"
      ]
     },
     "execution_count": 11,
     "metadata": {},
     "output_type": "execute_result"
    },
    {
     "data": {
      "image/png": "[encoded data removed]",
      "text/plain": [
       "<Figure size 720x360 with 1 Axes>"
      ]
     },
     "metadata": {
      "needs_background": "light"
     },
     "output_type": "display_data"
    }
   ],
   "source": [
    "\n",
    "fig=plt.figure(figsize=(10,5))\n",
    "\n",
    "y,x,_=plt.hist(data,int(transit.nbbins),alpha=1,label='data',facecolor=\"none\",edgecolor='black', density=True) \n",
    "x=(x[1:]+x[:-1])/2 \n",
    "\n",
    "\n",
    "def bimodal(x, a_gamma, loc_gamma, scale_gamma, loc_skew, scale_skew):    \n",
    "    return stats.pearson3.pdf(x,  a_gamma, loc_gamma, scale_gamma)+stats.norm.pdf(x,loc_skew, scale_skew)\n",
    "\n",
    "expected=(10, 0, 0.257,0.7, 0.30)\n",
    "\n",
    "params,cov=curve_fit(bimodal,x,y,expected)\n",
    "sigma=sqrt(diag(cov))\n",
    "\n",
    "param_df=pd.DataFrame(data={'Parameters':params,'Sigma':sigma},index=bimodal.__code__.co_varnames[1:])\n",
    "a_gamma=param_df.loc['a_gamma','Parameters']\n",
    "loc_gamma=param_df.loc['loc_gamma','Parameters']\n",
    "scale_gamma=param_df.loc['scale_gamma','Parameters']\n",
    "loc_skew=param_df.loc['loc_skew','Parameters']\n",
    "scale_skew=param_df.loc['scale_skew','Parameters']\n",
    "\n",
    "\n",
    "\n",
    "#We now use the estimated parameters to plot the distributions\n",
    "plt.plot(x,stats.pearson3.pdf(x,a_gamma, loc_gamma, scale_gamma),color='red',lw=3,label='Pearson distribution',)\n",
    "plt.plot(x,stats.norm.pdf(x,loc_skew, scale_skew),color='blue',lw=3,label='Normal Distribution',)\n",
    "\n",
    "legend()"
   ]
  },
  {
   "cell_type": "markdown",
   "metadata": {},
   "source": [
    "However, the distribution of non essential genes behave unexpectedly around 0, which we do not see in the plot :"
   ]
  },
  {
   "cell_type": "code",
   "execution_count": 12,
   "metadata": {},
   "outputs": [
    {
     "data": {
      "text/plain": [
       "0.0"
      ]
     },
     "execution_count": 12,
     "metadata": {},
     "output_type": "execute_result"
    }
   ],
   "source": [
    "stats.pearson3.pdf(0,a_gamma, loc_gamma, scale_gamma)"
   ]
  },
  {
   "cell_type": "code",
   "execution_count": 13,
   "metadata": {},
   "outputs": [
    {
     "data": {
      "text/plain": [
       "[<matplotlib.lines.Line2D at 0x118c67fd0>]"
      ]
     },
     "execution_count": 13,
     "metadata": {},
     "output_type": "execute_result"
    },
    {
     "data": {
      "image/png": "[encoded data removed]",
      "text/plain": [
       "<Figure size 432x288 with 1 Axes>"
      ]
     },
     "metadata": {
      "needs_background": "light"
     },
     "output_type": "display_data"
    }
   ],
   "source": [
    "X=np.concatenate((np.flip(-x),x))\n",
    "plt.plot(X,stats.pearson3.pdf(X,a_gamma, loc_gamma, scale_gamma),color='red',lw=3,label='Pearson',)"
   ]
  },
  {
   "cell_type": "markdown",
   "metadata": {},
   "source": [
    "We can see that the distribution drops to 0 around x=0, giving us a probability of insRate=0 of 0. Which is not what we expect from our distribution.\n",
    "\n",
    "After trying the 3 distribution for each case, I decided to use an exponential distribution for the essential genes."
   ]
  },
  {
   "cell_type": "code",
   "execution_count": 14,
   "metadata": {},
   "outputs": [],
   "source": [
    "def bimodal(x, loc_gamma, scale_gamma, loc_skew, scale_skew):\n",
    "    return stats.expon.pdf(x, loc_gamma, scale_gamma)+stats.norm.pdf(x,loc_skew, scale_skew)"
   ]
  },
  {
   "cell_type": "markdown",
   "metadata": {},
   "source": [
    "### Choice of expected parameters\n",
    "\n",
    "#### Normal distribution\n",
    "\n",
    "\n",
    "Lets take a look at our normal distribution. The distribution in the 'all' data seem centered about x=0.6, with a variance arround 0.1 :"
   ]
  },
  {
   "cell_type": "code",
   "execution_count": 15,
   "metadata": {},
   "outputs": [
    {
     "data": {
      "text/plain": [
       "[<matplotlib.lines.Line2D at 0x118cdf1f0>]"
      ]
     },
     "execution_count": 15,
     "metadata": {},
     "output_type": "execute_result"
    },
    {
     "data": {
      "image/png": "[encoded data removed]",
      "text/plain": [
       "<Figure size 432x288 with 1 Axes>"
      ]
     },
     "metadata": {
      "needs_background": "light"
     },
     "output_type": "display_data"
    }
   ],
   "source": [
    "plt.plot(x,stats.norm.pdf(x,0.6, 0.1),color='blue',lw=3,label='Normal Distribution',)"
   ]
  },
  {
   "cell_type": "markdown",
   "metadata": {},
   "source": [
    "Let's repeat the same with the \"controls\" dataset . This time the normal distribution seem centered around x=0.7 with the same variance. "
   ]
  },
  {
   "cell_type": "markdown",
   "metadata": {},
   "source": [
    "#### Exponential distribution\n",
    "\n",
    "Let's start with what this distribution look like with a shift of 0 (our peak seems at x=0 ), and a scale parameter as 0.999, used as example in the scipy manual : https://docs.scipy.org/doc/scipy/reference/generated/scipy.stats.expon.html"
   ]
  },
  {
   "cell_type": "code",
   "execution_count": 16,
   "metadata": {},
   "outputs": [
    {
     "data": {
      "text/plain": [
       "[<matplotlib.lines.Line2D at 0x118dd3970>]"
      ]
     },
     "execution_count": 16,
     "metadata": {},
     "output_type": "execute_result"
    },
    {
     "data": {
      "image/png": "[encoded data removed]",
      "text/plain": [
       "<Figure size 432x288 with 1 Axes>"
      ]
     },
     "metadata": {
      "needs_background": "light"
     },
     "output_type": "display_data"
    }
   ],
   "source": [
    "plt.plot(x,stats.expon.pdf(x, 0, 0.999),color='blue',lw=3,label='Exponential Distribution',)"
   ]
  },
  {
   "cell_type": "markdown",
   "metadata": {},
   "source": [
    "We need our distribution to have a higher slope and a higher maximal value. Since the probability is divided by the scale, then reducing the scale should increase the values. Since the AUC is constant, increasing the value should increase the slope.\n",
    "Let's see :"
   ]
  },
  {
   "cell_type": "code",
   "execution_count": 17,
   "metadata": {},
   "outputs": [
    {
     "data": {
      "text/plain": [
       "[<matplotlib.lines.Line2D at 0x12094f6a0>]"
      ]
     },
     "execution_count": 17,
     "metadata": {},
     "output_type": "execute_result"
    },
    {
     "data": {
      "image/png": "[encoded data removed]",
      "text/plain": [
       "<Figure size 432x288 with 1 Axes>"
      ]
     },
     "metadata": {
      "needs_background": "light"
     },
     "output_type": "display_data"
    }
   ],
   "source": [
    "plt.plot(x,stats.expon.pdf(x, 0, 0.20),color='blue',lw=3,label='Exponential Distribution',)"
   ]
  },
  {
   "cell_type": "markdown",
   "metadata": {},
   "source": [
    "This look pretty close to our essential genes distribution.\n"
   ]
  },
  {
   "cell_type": "code",
   "execution_count": 18,
   "metadata": {},
   "outputs": [],
   "source": [
    "expected=( 0, 0.2,0.6, 0.11)"
   ]
  },
  {
   "cell_type": "markdown",
   "metadata": {},
   "source": [
    "### Fitting the estimated distribution to our data"
   ]
  },
  {
   "cell_type": "code",
   "execution_count": 19,
   "metadata": {},
   "outputs": [],
   "source": [
    "params,cov=curve_fit(bimodal,x,y,expected)\n",
    "sigma=sqrt(diag(cov))"
   ]
  },
  {
   "cell_type": "code",
   "execution_count": 20,
   "metadata": {},
   "outputs": [],
   "source": [
    "param_df=pd.DataFrame(data={'Parameters':params,'Sigma':sigma},index=bimodal.__code__.co_varnames[1:])\n",
    "loc_gamma=param_df.loc['loc_gamma','Parameters']\n",
    "scale_gamma=param_df.loc['scale_gamma','Parameters']\n",
    "loc_skew=param_df.loc['loc_skew','Parameters']\n",
    "scale_skew=param_df.loc['scale_skew','Parameters']"
   ]
  },
  {
   "cell_type": "code",
   "execution_count": 21,
   "metadata": {},
   "outputs": [
    {
     "data": {
      "image/png": "[encoded data removed]",
      "text/plain": [
       "<Figure size 720x360 with 1 Axes>"
      ]
     },
     "metadata": {
      "needs_background": "light"
     },
     "output_type": "display_data"
    }
   ],
   "source": [
    "fig=plt.figure(figsize=(10,5))\n",
    "\n",
    "y,x,_=plt.hist(data,int(transit.nbbins),alpha=1,label='data',facecolor=\"none\",edgecolor='black', density=True) \n",
    "x=(x[1:]+x[:-1])/2 \n",
    "#We now use the estimated parameters to plot the distributions\n",
    "plt.plot(x,stats.expon.pdf(x, loc_gamma, scale_gamma),color='red',lw=3,label='Exponential distribution',)\n",
    "plt.plot(x,stats.norm.pdf(x,loc_skew, scale_skew),color='blue',lw=3,label='Normal Distribution',)\n",
    "\n",
    "legend()\n",
    "plt.savefig('results/sant_regression.png')"
   ]
  },
  {
   "cell_type": "markdown",
   "metadata": {},
   "source": [
    "#### Distribution parameters"
   ]
  },
  {
   "cell_type": "code",
   "execution_count": 22,
   "metadata": {},
   "outputs": [
    {
     "data": {
      "text/html": [
       "<div>\n",
       "<style scoped>\n",
       "    .dataframe tbody tr th:only-of-type {\n",
       "        vertical-align: middle;\n",
       "    }\n",
       "\n",
       "    .dataframe tbody tr th {\n",
       "        vertical-align: top;\n",
       "    }\n",
       "\n",
       "    .dataframe thead th {\n",
       "        text-align: right;\n",
       "    }\n",
       "</style>\n",
       "<table border=\"1\" class=\"dataframe\">\n",
       "  <thead>\n",
       "    <tr style=\"text-align: right;\">\n",
       "      <th></th>\n",
       "      <th>Parameters</th>\n",
       "      <th>Sigma</th>\n",
       "    </tr>\n",
       "  </thead>\n",
       "  <tbody>\n",
       "    <tr>\n",
       "      <th>loc_gamma</th>\n",
       "      <td>-0.045983</td>\n",
       "      <td>0.012103</td>\n",
       "    </tr>\n",
       "    <tr>\n",
       "      <th>scale_gamma</th>\n",
       "      <td>0.025847</td>\n",
       "      <td>0.007674</td>\n",
       "    </tr>\n",
       "    <tr>\n",
       "      <th>loc_skew</th>\n",
       "      <td>0.602510</td>\n",
       "      <td>0.007702</td>\n",
       "    </tr>\n",
       "    <tr>\n",
       "      <th>scale_skew</th>\n",
       "      <td>0.114913</td>\n",
       "      <td>0.006289</td>\n",
       "    </tr>\n",
       "  </tbody>\n",
       "</table>\n",
       "</div>"
      ],
      "text/plain": [
       "             Parameters     Sigma\n",
       "loc_gamma     -0.045983  0.012103\n",
       "scale_gamma    0.025847  0.007674\n",
       "loc_skew       0.602510  0.007702\n",
       "scale_skew     0.114913  0.006289"
      ]
     },
     "execution_count": 22,
     "metadata": {},
     "output_type": "execute_result"
    }
   ],
   "source": [
    "param_df"
   ]
  },
  {
   "cell_type": "markdown",
   "metadata": {},
   "source": [
    "### Computation of likelihood scores and classification according to $log_2 4$ and $log_2 12$ <a id='comp_likelihood'></a>"
   ]
  },
  {
   "cell_type": "markdown",
   "metadata": {},
   "source": [
    "### Estimation of the probability to each gene to belong to the two distribution"
   ]
  },
  {
   "cell_type": "markdown",
   "metadata": {},
   "source": [
    "\n",
    "### Relation between the prior probability and the posterior probability\n",
    "\n",
    "The Goodall and al. paper classifies a gene as non essential if $log_2({p(gamma|x)}\\over {p(expon|x)}) > 12$ , and essential if $log_2({p(gamma|x)}\\over {p(expon|x)}) < -12$\n",
    "\n",
    "The only probability we have from the regression, are the cumulative density functions (cdf) and the probability density functions (pdf) of our distributions.\n",
    "\n",
    "$D.cdf(x)$ is the probability for an element of the distribution D to have a value equal of inferior to x.\n",
    "It can also be seen as the prior probability of x knowing that distribution D is true:  $p(x|D)$\n",
    "\n",
    "We are interested in the posterior probability of the distribution knowing x : $p(D|x)$\n",
    "\n",
    "According to the Baye's theorem, the relation between the two probabilities is : ${p(D|x)}={{ {p(x|D)} \\over {p(x)}} p{D}}$ \n",
    "\n",
    "with $p(x)$ the overall likelihood of the observation x. $p(x)$\n",
    "\n",
    "\n",
    "https://www.britannica.com/topic/Bayess-theorem\n",
    "\n",
    "---------------------------------------------------\n"
   ]
  },
  {
   "cell_type": "markdown",
   "metadata": {},
   "source": [
    "### Bayes for continuous"
   ]
  },
  {
   "cell_type": "markdown",
   "metadata": {},
   "source": [
    "To calculate the probability of genes to belong to each distribution, we use a bayes classifier (https://xavierbourretsicotte.github.io/Optimal_Bayes_Classifier.html), that calculates the score for each gene:"
   ]
  },
  {
   "cell_type": "code",
   "execution_count": 23,
   "metadata": {},
   "outputs": [],
   "source": [
    "def predict_Bayes_class(dataframe,loc_gamma, scale_gamma,loc_skew, scale_skew): \n",
    "    X=dataframe.insRate\n",
    "    scoreES =stats.expon.pdf(X,loc_gamma, scale_gamma)\n",
    "    dataframe['score_ES']=scoreES\n",
    "    scoreNE =stats.norm.pdf(X,loc_skew, scale_skew)\n",
    "    dataframe['score_NE']=scoreNE\n",
    "    return dataframe"
   ]
  },
  {
   "cell_type": "code",
   "execution_count": 24,
   "metadata": {},
   "outputs": [],
   "source": [
    "transit.full=predict_Bayes_class(transit.full,loc_gamma, scale_gamma ,loc_skew, scale_skew)"
   ]
  },
  {
   "cell_type": "markdown",
   "metadata": {},
   "source": [
    "We compute the ratio of probabilities, then the log_2 of the ratios, and finally the classification using a threshold 12:"
   ]
  },
  {
   "cell_type": "code",
   "execution_count": 25,
   "metadata": {},
   "outputs": [],
   "source": [
    "transit.full['bayes_ratio']=transit.full['score_ES']/transit.full['score_NE']"
   ]
  },
  {
   "cell_type": "code",
   "execution_count": 26,
   "metadata": {},
   "outputs": [],
   "source": [
    "transit.full['bayes_log']='.'\n",
    "for i,row in transit.full.iterrows():\n",
    "    if transit.full.loc[i,'bayes_ratio']!=0:\n",
    "        transit.full.loc[i,'bayes_log']=math.log(transit.full.loc[i,'bayes_ratio'],2)\n",
    "    else:\n",
    "        transit.full.loc[i,'bayes_log']=14"
   ]
  },
  {
   "cell_type": "markdown",
   "metadata": {},
   "source": [
    "#### Classification "
   ]
  },
  {
   "cell_type": "code",
   "execution_count": 27,
   "metadata": {},
   "outputs": [],
   "source": [
    "transit.full['Bayes_class']='U'\n",
    "for i,row in transit.full[transit.full.bayes_log>=12.0].iterrows():\n",
    "    transit.full.loc[i,'Bayes_class']='ES'\n",
    "for i,row in transit.full[transit.full.bayes_log<=-12.0].iterrows():\n",
    "    transit.full.loc[i,'Bayes_class']='NE'\n",
    "    \n",
    "transit.full['Bayes_class_4']='U'\n",
    "for i,row in transit.full[transit.full.bayes_log>=4.0].iterrows():\n",
    "    transit.full.loc[i,'Bayes_class_4']='ES'\n",
    "for i,row in transit.full[transit.full.bayes_log<=-4.0].iterrows():\n",
    "    transit.full.loc[i,'Bayes_class_4']='NE'"
   ]
  },
  {
   "cell_type": "markdown",
   "metadata": {},
   "source": [
    "#### Selecting the columns we need in the dataframe"
   ]
  },
  {
   "cell_type": "code",
   "execution_count": 28,
   "metadata": {},
   "outputs": [],
   "source": [
    "transit_small=transit.copy()"
   ]
  },
  {
   "cell_type": "code",
   "execution_count": 29,
   "metadata": {},
   "outputs": [],
   "source": [
    "transit_small.full=transit_small.full[['ID','name','annot','nbIns','nbsites','insRate','call','Bayes_class','Bayes_class_4']]"
   ]
  },
  {
   "cell_type": "code",
   "execution_count": 30,
   "metadata": {},
   "outputs": [
    {
     "data": {
      "text/html": [
       "<div>\n",
       "<style scoped>\n",
       "    .dataframe tbody tr th:only-of-type {\n",
       "        vertical-align: middle;\n",
       "    }\n",
       "\n",
       "    .dataframe tbody tr th {\n",
       "        vertical-align: top;\n",
       "    }\n",
       "\n",
       "    .dataframe thead th {\n",
       "        text-align: right;\n",
       "    }\n",
       "</style>\n",
       "<table border=\"1\" class=\"dataframe\">\n",
       "  <thead>\n",
       "    <tr style=\"text-align: right;\">\n",
       "      <th></th>\n",
       "      <th>ID</th>\n",
       "      <th>name</th>\n",
       "      <th>annot</th>\n",
       "      <th>nbIns</th>\n",
       "      <th>nbsites</th>\n",
       "      <th>insRate</th>\n",
       "      <th>call</th>\n",
       "      <th>Bayes_class</th>\n",
       "      <th>Bayes_class_4</th>\n",
       "    </tr>\n",
       "  </thead>\n",
       "  <tbody>\n",
       "    <tr>\n",
       "      <th>0</th>\n",
       "      <td>SAOUHSC_00001</td>\n",
       "      <td>dnaA</td>\n",
       "      <td>binds to the dnaA-box as an ATP-bound complex ...</td>\n",
       "      <td>4</td>\n",
       "      <td>113</td>\n",
       "      <td>0.035398</td>\n",
       "      <td>E</td>\n",
       "      <td>ES</td>\n",
       "      <td>ES</td>\n",
       "    </tr>\n",
       "    <tr>\n",
       "      <th>1</th>\n",
       "      <td>SAOUHSC_00002</td>\n",
       "      <td>SAOUHSC_00002</td>\n",
       "      <td>binds the polymerase to DNA and acts as a slid...</td>\n",
       "      <td>2</td>\n",
       "      <td>96</td>\n",
       "      <td>0.020833</td>\n",
       "      <td>E</td>\n",
       "      <td>ES</td>\n",
       "      <td>ES</td>\n",
       "    </tr>\n",
       "    <tr>\n",
       "      <th>2</th>\n",
       "      <td>SAOUHSC_00003</td>\n",
       "      <td>SAOUHSC_00003</td>\n",
       "      <td>conserved hypothetical protein</td>\n",
       "      <td>3</td>\n",
       "      <td>17</td>\n",
       "      <td>0.176471</td>\n",
       "      <td>U</td>\n",
       "      <td>U</td>\n",
       "      <td>U</td>\n",
       "    </tr>\n",
       "    <tr>\n",
       "      <th>3</th>\n",
       "      <td>SAOUHSC_00004</td>\n",
       "      <td>recF</td>\n",
       "      <td>Required for DNA replication%3B binds preferen...</td>\n",
       "      <td>15</td>\n",
       "      <td>105</td>\n",
       "      <td>0.142857</td>\n",
       "      <td>NE</td>\n",
       "      <td>U</td>\n",
       "      <td>ES</td>\n",
       "    </tr>\n",
       "    <tr>\n",
       "      <th>4</th>\n",
       "      <td>SAOUHSC_00005</td>\n",
       "      <td>SAOUHSC_00005</td>\n",
       "      <td>DNA gyrase%2C B subunit</td>\n",
       "      <td>2</td>\n",
       "      <td>159</td>\n",
       "      <td>0.012579</td>\n",
       "      <td>E</td>\n",
       "      <td>ES</td>\n",
       "      <td>ES</td>\n",
       "    </tr>\n",
       "  </tbody>\n",
       "</table>\n",
       "</div>"
      ],
      "text/plain": [
       "              ID           name  \\\n",
       "0  SAOUHSC_00001           dnaA   \n",
       "1  SAOUHSC_00002  SAOUHSC_00002   \n",
       "2  SAOUHSC_00003  SAOUHSC_00003   \n",
       "3  SAOUHSC_00004           recF   \n",
       "4  SAOUHSC_00005  SAOUHSC_00005   \n",
       "\n",
       "                                               annot  nbIns  nbsites  \\\n",
       "0  binds to the dnaA-box as an ATP-bound complex ...      4      113   \n",
       "1  binds the polymerase to DNA and acts as a slid...      2       96   \n",
       "2                     conserved hypothetical protein      3       17   \n",
       "3  Required for DNA replication%3B binds preferen...     15      105   \n",
       "4                            DNA gyrase%2C B subunit      2      159   \n",
       "\n",
       "    insRate call Bayes_class Bayes_class_4  \n",
       "0  0.035398    E          ES            ES  \n",
       "1  0.020833    E          ES            ES  \n",
       "2  0.176471    U           U             U  \n",
       "3  0.142857   NE           U            ES  \n",
       "4  0.012579    E          ES            ES  "
      ]
     },
     "execution_count": 30,
     "metadata": {},
     "output_type": "execute_result"
    }
   ],
   "source": [
    "transit_small.full.head()"
   ]
  },
  {
   "cell_type": "markdown",
   "metadata": {},
   "source": [
    "### Add Bio-Tradis prediction of essentiality <a id='add_pec'></a>"
   ]
  },
  {
   "cell_type": "code",
   "execution_count": 31,
   "metadata": {},
   "outputs": [],
   "source": [
    "biotrad_ess=pd.read_csv(DATA_DIR+'Biotradis.essen.csv', usecols=range(11), sep=\",\", header=0, comment='#').fillna(value = '.')\n",
    "biotrad_ambig=pd.read_csv(DATA_DIR+'Biotradis.ambig.csv', usecols=range(11), sep=\",\", header=0, comment='#').fillna(value = '.')\n",
    "biotrad_all=pd.read_csv(DATA_DIR+'Biotradis.all.csv', usecols=range(11), sep=\",\", header=0, comment='#').fillna(value = '.')"
   ]
  },
  {
   "cell_type": "code",
   "execution_count": 32,
   "metadata": {},
   "outputs": [],
   "source": [
    "transit_small.full['biotradis']='NA'\n",
    "for i,row in transit_small.full.iterrows():\n",
    "    if row.ID in biotrad_ess.locus_tag.values:\n",
    "        transit_small.full.loc[i,'biotradis']='ES'\n",
    "    elif row.ID in biotrad_ambig.locus_tag.values:\n",
    "        transit_small.full.loc[i,'biotradis']='U'\n",
    "    elif row.ID in biotrad_all.locus_tag.values:\n",
    "        transit_small.full.loc[i,'biotradis']='NE'"
   ]
  },
  {
   "cell_type": "markdown",
   "metadata": {},
   "source": [
    "#### Addition of the paper prediction to out data <a id='add_paper'></a>"
   ]
  },
  {
   "cell_type": "code",
   "execution_count": 33,
   "metadata": {},
   "outputs": [],
   "source": [
    "paper=pd.read_csv(DATA_DIR+'Santiago_essential_all_studies.csv', sep=\",\", header=0).fillna(value = '.')\n"
   ]
  },
  {
   "cell_type": "code",
   "execution_count": 34,
   "metadata": {},
   "outputs": [],
   "source": [
    "for i in [str(x) for x in paper.columns]:\n",
    "    nam=re.sub(r\"\\ \", \"_\", i)\n",
    "    paper.rename(columns={i:nam},inplace=True)"
   ]
  },
  {
   "cell_type": "code",
   "execution_count": 35,
   "metadata": {},
   "outputs": [],
   "source": [
    "dom_ess=pd.read_csv(DATA_DIR+'Santiago_domain_essential.csv', sep=\",\", header=0).fillna(value = '.')\n",
    "\n",
    "for i in [str(x) for x in dom_ess.columns]:\n",
    "    nam=re.sub(r\"\\ \", \"_\", i)\n",
    "    dom_ess.rename(columns={i:nam},inplace=True)"
   ]
  },
  {
   "cell_type": "code",
   "execution_count": 36,
   "metadata": {},
   "outputs": [],
   "source": [
    "non_ess=pd.read_csv(DATA_DIR+'Santiago_non_essential.csv', sep=\",\", header=0).fillna(value = '.')\n",
    "\n",
    "for i in [str(x) for x in non_ess.columns]:\n",
    "    nam=re.sub(r\"\\ \", \"_\", i)\n",
    "    non_ess.rename(columns={i:nam},inplace=True)"
   ]
  },
  {
   "cell_type": "code",
   "execution_count": 37,
   "metadata": {},
   "outputs": [],
   "source": [
    "non_ess=pysqldf(\"SELECT Gene_Locus FROM non_ess WHERE Gene_Locus!='.'\")\n",
    "santiagoNE=[]\n",
    "for i,row in non_ess.iterrows():\n",
    "    santiagoNE.append(row.Gene_Locus.split('-')[0])"
   ]
  },
  {
   "cell_type": "code",
   "execution_count": 38,
   "metadata": {},
   "outputs": [],
   "source": [
    "dom_ess=pysqldf(\"SELECT Gene_Locus FROM dom_ess WHERE Gene_Locus!='.'\")\n",
    "santiagoDif=[]\n",
    "for i,row in dom_ess.iterrows():\n",
    "    santiagoDif.append(row.Gene_Locus.split('-')[0])"
   ]
  },
  {
   "cell_type": "code",
   "execution_count": 39,
   "metadata": {},
   "outputs": [],
   "source": [
    "santiago_ess=pysqldf(\"SELECT Santiago_Essential_Genes FROM paper WHERE Santiago_Essential_Genes!='.'\")\n",
    "santiago=[]\n",
    "for i,row in santiago_ess.iterrows():\n",
    "    santiago.append(row.Santiago_Essential_Genes.split('-')[0])"
   ]
  },
  {
   "cell_type": "code",
   "execution_count": 40,
   "metadata": {},
   "outputs": [],
   "source": [
    "valentino_ess=pysqldf(\"SELECT Valentino_Essential_Genes FROM paper WHERE Valentino_Essential_Genes!='.'\")\n",
    "valentino=[]\n",
    "for i,row in valentino_ess.iterrows():\n",
    "    valentino.append(row.Valentino_Essential_Genes.split('-')[0])"
   ]
  },
  {
   "cell_type": "code",
   "execution_count": 41,
   "metadata": {},
   "outputs": [],
   "source": [
    "Chaudhuri_ess=pysqldf(\"SELECT Chaudhuri_Essential_Genes FROM paper WHERE Chaudhuri_Essential_Genes!='.'\")\n",
    "Chaudhuri=[]\n",
    "for i,row in Chaudhuri_ess.iterrows():\n",
    "    Chaudhuri.append(row.Chaudhuri_Essential_Genes.split('-')[0])"
   ]
  },
  {
   "cell_type": "code",
   "execution_count": 42,
   "metadata": {},
   "outputs": [
    {
     "data": {
      "text/html": [
       "<div>\n",
       "<style scoped>\n",
       "    .dataframe tbody tr th:only-of-type {\n",
       "        vertical-align: middle;\n",
       "    }\n",
       "\n",
       "    .dataframe tbody tr th {\n",
       "        vertical-align: top;\n",
       "    }\n",
       "\n",
       "    .dataframe thead th {\n",
       "        text-align: right;\n",
       "    }\n",
       "</style>\n",
       "<table border=\"1\" class=\"dataframe\">\n",
       "  <thead>\n",
       "    <tr style=\"text-align: right;\">\n",
       "      <th></th>\n",
       "      <th>ID</th>\n",
       "      <th>name</th>\n",
       "      <th>annot</th>\n",
       "      <th>nbIns</th>\n",
       "      <th>nbsites</th>\n",
       "      <th>insRate</th>\n",
       "      <th>call</th>\n",
       "      <th>Bayes_class</th>\n",
       "      <th>Bayes_class_4</th>\n",
       "      <th>biotradis</th>\n",
       "    </tr>\n",
       "  </thead>\n",
       "  <tbody>\n",
       "    <tr>\n",
       "      <th>0</th>\n",
       "      <td>SAOUHSC_00001</td>\n",
       "      <td>dnaA</td>\n",
       "      <td>binds to the dnaA-box as an ATP-bound complex ...</td>\n",
       "      <td>4</td>\n",
       "      <td>113</td>\n",
       "      <td>0.035398</td>\n",
       "      <td>E</td>\n",
       "      <td>ES</td>\n",
       "      <td>ES</td>\n",
       "      <td>ES</td>\n",
       "    </tr>\n",
       "    <tr>\n",
       "      <th>1</th>\n",
       "      <td>SAOUHSC_00002</td>\n",
       "      <td>SAOUHSC_00002</td>\n",
       "      <td>binds the polymerase to DNA and acts as a slid...</td>\n",
       "      <td>2</td>\n",
       "      <td>96</td>\n",
       "      <td>0.020833</td>\n",
       "      <td>E</td>\n",
       "      <td>ES</td>\n",
       "      <td>ES</td>\n",
       "      <td>ES</td>\n",
       "    </tr>\n",
       "    <tr>\n",
       "      <th>2</th>\n",
       "      <td>SAOUHSC_00003</td>\n",
       "      <td>SAOUHSC_00003</td>\n",
       "      <td>conserved hypothetical protein</td>\n",
       "      <td>3</td>\n",
       "      <td>17</td>\n",
       "      <td>0.176471</td>\n",
       "      <td>U</td>\n",
       "      <td>U</td>\n",
       "      <td>U</td>\n",
       "      <td>ES</td>\n",
       "    </tr>\n",
       "    <tr>\n",
       "      <th>3</th>\n",
       "      <td>SAOUHSC_00004</td>\n",
       "      <td>recF</td>\n",
       "      <td>Required for DNA replication%3B binds preferen...</td>\n",
       "      <td>15</td>\n",
       "      <td>105</td>\n",
       "      <td>0.142857</td>\n",
       "      <td>NE</td>\n",
       "      <td>U</td>\n",
       "      <td>ES</td>\n",
       "      <td>ES</td>\n",
       "    </tr>\n",
       "    <tr>\n",
       "      <th>4</th>\n",
       "      <td>SAOUHSC_00005</td>\n",
       "      <td>SAOUHSC_00005</td>\n",
       "      <td>DNA gyrase%2C B subunit</td>\n",
       "      <td>2</td>\n",
       "      <td>159</td>\n",
       "      <td>0.012579</td>\n",
       "      <td>E</td>\n",
       "      <td>ES</td>\n",
       "      <td>ES</td>\n",
       "      <td>ES</td>\n",
       "    </tr>\n",
       "  </tbody>\n",
       "</table>\n",
       "</div>"
      ],
      "text/plain": [
       "              ID           name  \\\n",
       "0  SAOUHSC_00001           dnaA   \n",
       "1  SAOUHSC_00002  SAOUHSC_00002   \n",
       "2  SAOUHSC_00003  SAOUHSC_00003   \n",
       "3  SAOUHSC_00004           recF   \n",
       "4  SAOUHSC_00005  SAOUHSC_00005   \n",
       "\n",
       "                                               annot  nbIns  nbsites  \\\n",
       "0  binds to the dnaA-box as an ATP-bound complex ...      4      113   \n",
       "1  binds the polymerase to DNA and acts as a slid...      2       96   \n",
       "2                     conserved hypothetical protein      3       17   \n",
       "3  Required for DNA replication%3B binds preferen...     15      105   \n",
       "4                            DNA gyrase%2C B subunit      2      159   \n",
       "\n",
       "    insRate call Bayes_class Bayes_class_4 biotradis  \n",
       "0  0.035398    E          ES            ES        ES  \n",
       "1  0.020833    E          ES            ES        ES  \n",
       "2  0.176471    U           U             U        ES  \n",
       "3  0.142857   NE           U            ES        ES  \n",
       "4  0.012579    E          ES            ES        ES  "
      ]
     },
     "execution_count": 42,
     "metadata": {},
     "output_type": "execute_result"
    }
   ],
   "source": [
    "transit_small.full.head()"
   ]
  },
  {
   "cell_type": "code",
   "execution_count": 43,
   "metadata": {},
   "outputs": [],
   "source": [
    "transit_small.full['Chaudhuri']='NA'\n",
    "transit_small.full['Santiago']='NA'\n",
    "transit_small.full['valentino']='NA'\n",
    "for i,row in transit_small.full.iterrows():\n",
    "    ID=str(row['ID'])\n",
    "    name=str(row['name'])\n",
    "    if  ID in Chaudhuri or name in Chaudhuri:\n",
    "        transit_small.full.loc[i,'Chaudhuri']=\"ES\"\n",
    "    if ID in santiago or name in santiago:\n",
    "        transit_small.full.loc[i,'Santiago']=\"ES\"\n",
    "    elif ID in santiagoDif or name in santiagoDif:\n",
    "        transit_small.full.loc[i,'Santiago']=\"DES\"\n",
    "    elif ID in santiagoNE or name in santiagoNE:\n",
    "        transit_small.full.loc[i,'Santiago']=\"NE\"\n",
    "    if ID in valentino or name in valentino:\n",
    "        transit_small.full.loc[i,'valentino']=\"ES\"\n"
   ]
  },
  {
   "cell_type": "code",
   "execution_count": 44,
   "metadata": {},
   "outputs": [
    {
     "data": {
      "text/plain": [
       "<matplotlib_venn._common.VennDiagram at 0x118c366a0>"
      ]
     },
     "execution_count": 44,
     "metadata": {},
     "output_type": "execute_result"
    },
    {
     "data": {
      "image/png": "[encoded data removed]",
      "text/plain": [
       "<Figure size 1440x720 with 2 Axes>"
      ]
     },
     "metadata": {},
     "output_type": "display_data"
    }
   ],
   "source": [
    "fig=plt.figure(figsize=(20,10))\n",
    "fig.suptitle(\"Essential Genes Prediction of 3 published studies\", fontsize=16)\n",
    "plt.subplot(1, 2, 1).set_title('A', fontsize=16)\n",
    "venn3([set(Chaudhuri), set(santiago),set(valentino)],set_labels = ('Chaudhuri et al.', 'Santiago et al.','Valentino et al.'))\n",
    "plt.subplot(1, 2, 2).set_title('B', fontsize=16)\n",
    "venn3([set(Chaudhuri), set(santiago+santiagoDif),set(valentino)],set_labels = ('Chaudhuri et al.', 'Santiago et al.','Valentino et al.'))"
   ]
  },
  {
   "cell_type": "markdown",
   "metadata": {},
   "source": [
    "Save resulting Dataframe"
   ]
  },
  {
   "cell_type": "code",
   "execution_count": 45,
   "metadata": {},
   "outputs": [],
   "source": [
    "transit_small.full.to_csv('results/All_studies.tab', sep=\"\\t\")"
   ]
  },
  {
   "cell_type": "markdown",
   "metadata": {},
   "source": [
    "## Upset plots"
   ]
  },
  {
   "cell_type": "markdown",
   "metadata": {},
   "source": [
    "Sets of Essential Genes for each method and study"
   ]
  },
  {
   "cell_type": "code",
   "execution_count": 46,
   "metadata": {},
   "outputs": [],
   "source": [
    "set_sant_AE=set(santiago+santiagoDif)\n",
    "set_sant_FE=set(santiago)\n",
    "set_transit=set(transit_small.get_ess('call').ID)\n",
    "set_bayes_12=set(transit_small.get_ess('Bayes_class').ID)\n",
    "set_bayes_4=set(transit_small.get_ess('Bayes_class_4').ID)\n",
    "set_Chaudhuri=set(transit_small.get_ess('Chaudhuri').ID)\n",
    "set_valentino=set(transit_small.get_ess('valentino').ID)\n",
    "set_biotradis=set(transit_small.get_ess('biotradis').ID)\n"
   ]
  },
  {
   "cell_type": "markdown",
   "metadata": {},
   "source": [
    "Data to use :\n",
    "- list of genes belonging to a set \n",
    "- name of a set ('Regression Threshold=12', 'Transit'...)\n",
    "- name of a combination (A, AB, AC, BC, ABC..)\n",
    "- size of set intersections\n",
    "\n",
    "Setting dictionnaries to organize the intersection data : \n",
    "- dic_set : Atttach the name to the list of gene for all set combinations\n",
    "- dic_com : Attach the labels to the names of all combinations\n",
    "- dic_name : Attach the name to the Label of single sets\n",
    "- dic tot : Contain the size of sets for all combinations\n",
    "\n"
   ]
  },
  {
   "cell_type": "code",
   "execution_count": 47,
   "metadata": {},
   "outputs": [],
   "source": [
    "dic_sets={}\n",
    "dic_comb={}\n",
    "dic_name={}\n",
    "dic_tot={}\n",
    "dic_name['A']='Santiago AE'\n",
    "dic_name['B']='Santiago FE'\n",
    "dic_name['C']='Transit'\n",
    "dic_name['D']='Reg. X=12'\n",
    "dic_name['E']='Reg. X=4'\n",
    "dic_name['F']='Chaudhuri'\n",
    "dic_name['G']='Valentino'\n",
    "dic_name['H']='Bio-Tradis'\n",
    "dic_sets['Santiago AE']=set_sant_AE\n",
    "dic_sets['Santiago FE']=set_sant_FE\n",
    "dic_sets['Transit']=set_transit\n",
    "dic_sets['Reg. X=12']=set_bayes_12\n",
    "dic_sets['Reg. X=4']=set_bayes_4\n",
    "dic_sets['Chaudhuri']=set_Chaudhuri\n",
    "dic_sets['Valentino']=set_valentino\n",
    "dic_sets['Bio-Tradis']=set_biotradis"
   ]
  },
  {
   "cell_type": "markdown",
   "metadata": {},
   "source": [
    "Creation of a dictionnary containing all possible combination between the members of a list. Key is a combination name, values is the list of labels contained in the combination"
   ]
  },
  {
   "cell_type": "code",
   "execution_count": 48,
   "metadata": {},
   "outputs": [],
   "source": [
    "stuff=['A','C','E','F','G']\n",
    "for i in stuff:\n",
    "    dic_comb[i]=dic_name[i]\n",
    "for i in range(0, len(stuff)+1):\n",
    "    for subset in itertools.combinations(stuff, i):\n",
    "        if len(subset)>1:\n",
    "            dic_comb[\"\".join(subset)]=[dic_name[i] for i in subset]\n",
    "        elif len(subset)==1:\n",
    "            dic_comb[\"\".join(subset)]=[dic_name[subset[0]]]\n",
    "        else:\n",
    "            dic_comb[\"\".join(subset)]=[]"
   ]
  },
  {
   "cell_type": "markdown",
   "metadata": {},
   "source": [
    "Calculation of intersection sets, and theiir sizes. A combination ABC in a space containing A,B,C, and D is the intersection of A, B, and C ensembles, excluding the genes belonging to D."
   ]
  },
  {
   "cell_type": "code",
   "execution_count": 49,
   "metadata": {},
   "outputs": [],
   "source": [
    "for i in dic_comb.keys():\n",
    "    if len(dic_comb[i])>1:\n",
    "        intset=dic_sets[dic_comb[i][0]]\n",
    "        for j in dic_comb[i][1:]:\n",
    "            intset=intset.intersection(dic_sets[j])\n",
    "        compl=[x for x in np.setdiff1d(dic_comb['ACEFG'],dic_comb[i])]\n",
    "        for k in compl:\n",
    "            intset=intset.difference(dic_sets[k])\n",
    "    elif len(dic_comb[i])==1:\n",
    "        intset=dic_sets[dic_comb[i][0]]\n",
    "        compl=[i for i in np.setdiff1d(dic_comb['ACEFG'],dic_comb[i])]\n",
    "        for k in compl:\n",
    "            intset=intset.difference(dic_sets[k])\n",
    "    else:\n",
    "        intset=[]\n",
    "    dic_tot[i]=len(intset)"
   ]
  },
  {
   "cell_type": "markdown",
   "metadata": {},
   "source": [
    "Creation of a lists containing :\n",
    "- The list of combination labels list\n",
    "- The list of combination set size\n",
    "\n",
    "These list are input to the 'from_memberships' function that create the matrix to input to the upset plot."
   ]
  },
  {
   "cell_type": "code",
   "execution_count": 50,
   "metadata": {},
   "outputs": [],
   "source": [
    "values=[i[1] for i in sorted(dic_tot.items(),key =  lambda kv:(kv[1])  , reverse=True  )]\n",
    "combin=[dic_comb[i[0]] for i in sorted(dic_tot.items(),key =  lambda kv:(kv[1])  , reverse=True  )]\n",
    "transit_upset = from_memberships(combin,data=values)"
   ]
  },
  {
   "cell_type": "markdown",
   "metadata": {},
   "source": [
    "#### Plot of the upSet plot. \n",
    "\n",
    "The plots can be organised by combination degrees with the option \" sort_by='degree' \". It means that the first collumns correspond to genes contained in only one set, then in two sets, etc...\n",
    "\n",
    "It can be organised by size of intersections with the option \" sort_by='cardinality' \"."
   ]
  },
  {
   "cell_type": "markdown",
   "metadata": {},
   "source": [
    "##### Essential genes"
   ]
  },
  {
   "cell_type": "code",
   "execution_count": 51,
   "metadata": {},
   "outputs": [
    {
     "data": {
      "text/plain": [
       "<Figure size 2160x1080 with 0 Axes>"
      ]
     },
     "metadata": {},
     "output_type": "display_data"
    },
    {
     "data": {
      "image/png": "[encoded data removed]",
      "text/plain": [
       "<Figure size 1158.25x352 with 4 Axes>"
      ]
     },
     "metadata": {
      "needs_background": "light"
     },
     "output_type": "display_data"
    }
   ],
   "source": [
    "fig=plt.figure(figsize=(30,15))\n",
    "upplot(transit_upset, sort_by='cardinality',orientation='horizontal', show_counts='%d')\n",
    "plt.savefig('results/sant_upset_ess_all.png')\n",
    "\n",
    "plt.show()"
   ]
  },
  {
   "cell_type": "markdown",
   "metadata": {},
   "source": [
    "Comparison of Thresholds used for the regression (Figure 9A)"
   ]
  },
  {
   "cell_type": "code",
   "execution_count": 52,
   "metadata": {},
   "outputs": [
    {
     "data": {
      "text/plain": [
       "<Figure size 2160x1080 with 0 Axes>"
      ]
     },
     "metadata": {},
     "output_type": "display_data"
    },
    {
     "data": {
      "image/png": "[encoded data removed]",
      "text/plain": [
       "<Figure size 646.25x320 with 4 Axes>"
      ]
     },
     "metadata": {
      "needs_background": "light"
     },
     "output_type": "display_data"
    }
   ],
   "source": [
    "dic_sets={}\n",
    "dic_comb={}\n",
    "dic_name={}\n",
    "dic_tot={}\n",
    "dic_name['A']='Santiago AE'\n",
    "dic_name['B']='Santiago FE'\n",
    "dic_name['C']='Reg X=12'\n",
    "dic_name['D']='Reg X=4'\n",
    "dic_sets['Santiago AE']=set_sant_AE\n",
    "dic_sets['Santiago FE']=set_sant_FE\n",
    "dic_sets['Reg X=12']=set_bayes_12\n",
    "dic_sets['Reg X=4']=set_bayes_4\n",
    "\n",
    "stuff=['A','B','C','D']\n",
    "for i in stuff:\n",
    "    dic_comb[i]=dic_name[i]\n",
    "for i in range(0, len(stuff)+1):\n",
    "    for subset in itertools.combinations(stuff, i):\n",
    "        if len(subset)>1:\n",
    "            dic_comb[\"\".join(subset)]=[dic_name[i] for i in subset]\n",
    "        elif len(subset)==1:\n",
    "            dic_comb[\"\".join(subset)]=[dic_name[subset[0]]]\n",
    "        else:\n",
    "            dic_comb[\"\".join(subset)]=[]\n",
    "\n",
    "for i in dic_comb.keys():\n",
    "    if len(dic_comb[i])>1:\n",
    "        intset=dic_sets[dic_comb[i][0]]\n",
    "        for j in dic_comb[i][1:]:\n",
    "            intset=intset.intersection(dic_sets[j])\n",
    "        compl=[x for x in np.setdiff1d(dic_comb['ABCD'],dic_comb[i])]\n",
    "        for k in compl:\n",
    "            intset=intset.difference(dic_sets[k])\n",
    "    elif len(dic_comb[i])==1:\n",
    "        intset=dic_sets[dic_comb[i][0]]\n",
    "        compl=[i for i in np.setdiff1d(dic_comb['ABCD'],dic_comb[i])]\n",
    "        for k in compl:\n",
    "            intset=intset.difference(dic_sets[k])\n",
    "    else:\n",
    "        intset=[]\n",
    "    dic_tot[i]=len(intset)\n",
    "    \n",
    "values=[i[1] for i in sorted(dic_tot.items(),key =  lambda kv:(kv[1])  , reverse=True  )]\n",
    "combin=[dic_comb[i[0]] for i in sorted(dic_tot.items(),key =  lambda kv:(kv[1])  , reverse=True  )]\n",
    "transit_upset = from_memberships(combin,data=values)\n",
    "\n",
    "fig=plt.figure(figsize=(30,15))\n",
    "\n",
    "upplot(transit_upset, orientation='horizontal', show_counts='%d')\n",
    "plt.savefig('results/sant_upset_ess_reg_comp.png')\n",
    "\n",
    "plt.show()"
   ]
  },
  {
   "cell_type": "markdown",
   "metadata": {},
   "source": [
    "Comparison with Biotradis (Figure 9C)"
   ]
  },
  {
   "cell_type": "code",
   "execution_count": 53,
   "metadata": {},
   "outputs": [
    {
     "data": {
      "text/plain": [
       "<Figure size 2160x1080 with 0 Axes>"
      ]
     },
     "metadata": {},
     "output_type": "display_data"
    },
    {
     "data": {
      "image/png": "[encoded data removed]",
      "text/plain": [
       "<Figure size 646.25x320 with 4 Axes>"
      ]
     },
     "metadata": {
      "needs_background": "light"
     },
     "output_type": "display_data"
    }
   ],
   "source": [
    "dic_sets={}\n",
    "dic_comb={}\n",
    "dic_name={}\n",
    "dic_tot={}\n",
    "dic_name['A']='Santiago AE'\n",
    "dic_name['B']='Santiago FE'\n",
    "dic_name['C']='Reg X=4'\n",
    "dic_name['D']='Bio-Tradis'\n",
    "dic_sets['Santiago AE']=set_sant_AE\n",
    "dic_sets['Santiago FE']=set_sant_FE\n",
    "dic_sets['Transit']=set_transit\n",
    "dic_sets['Reg X=4']=set_bayes_4\n",
    "dic_sets['Bio-Tradis']=set_biotradis\n",
    "\n",
    "\n",
    "stuff=['A','B','C','D']\n",
    "for i in stuff:\n",
    "    dic_comb[i]=dic_name[i]\n",
    "for i in range(0, len(stuff)+1):\n",
    "    for subset in itertools.combinations(stuff, i):\n",
    "        if len(subset)>1:\n",
    "            dic_comb[\"\".join(subset)]=[dic_name[i] for i in subset]\n",
    "        elif len(subset)==1:\n",
    "            dic_comb[\"\".join(subset)]=[dic_name[subset[0]]]\n",
    "        else:\n",
    "            dic_comb[\"\".join(subset)]=[]\n",
    "\n",
    "for i in dic_comb.keys():\n",
    "    if len(dic_comb[i])>1:\n",
    "        intset=dic_sets[dic_comb[i][0]]\n",
    "        for j in dic_comb[i][1:]:\n",
    "            intset=intset.intersection(dic_sets[j])\n",
    "        compl=[x for x in np.setdiff1d(dic_comb['ABCD'],dic_comb[i])]\n",
    "        for k in compl:\n",
    "            intset=intset.difference(dic_sets[k])\n",
    "    elif len(dic_comb[i])==1:\n",
    "        intset=dic_sets[dic_comb[i][0]]\n",
    "        compl=[i for i in np.setdiff1d(dic_comb['ABCD'],dic_comb[i])]\n",
    "        for k in compl:\n",
    "            intset=intset.difference(dic_sets[k])\n",
    "    else:\n",
    "        intset=[]\n",
    "    dic_tot[i]=len(intset)\n",
    "    \n",
    "values=[i[1] for i in sorted(dic_tot.items(),key =  lambda kv:(kv[1])  , reverse=True  )]\n",
    "combin=[dic_comb[i[0]] for i in sorted(dic_tot.items(),key =  lambda kv:(kv[1])  , reverse=True  )]\n",
    "transit_upset = from_memberships(combin,data=values)\n",
    "\n",
    "fig=plt.figure(figsize=(30,15))\n",
    "\n",
    "upplot(transit_upset,orientation='horizontal', show_counts='%d')\n",
    "plt.savefig('results/sant_upset_ess_biotrad.png')\n",
    "\n",
    "plt.show()"
   ]
  },
  {
   "cell_type": "markdown",
   "metadata": {},
   "source": [
    "Comparison with Transit (Figure 9E)"
   ]
  },
  {
   "cell_type": "code",
   "execution_count": 54,
   "metadata": {},
   "outputs": [
    {
     "data": {
      "text/plain": [
       "<Figure size 2160x1080 with 0 Axes>"
      ]
     },
     "metadata": {},
     "output_type": "display_data"
    },
    {
     "data": {
      "image/png": "[encoded data removed]",
      "text/plain": [
       "<Figure size 646.25x320 with 4 Axes>"
      ]
     },
     "metadata": {
      "needs_background": "light"
     },
     "output_type": "display_data"
    }
   ],
   "source": [
    "dic_sets={}\n",
    "dic_comb={}\n",
    "dic_name={}\n",
    "dic_tot={}\n",
    "dic_name['A']='Santiago AE'\n",
    "dic_name['B']='Santiago FE'\n",
    "dic_name['C']='Transit'\n",
    "dic_name['D']='Reg X=4'\n",
    "dic_sets['Santiago AE']=set_sant_AE\n",
    "dic_sets['Santiago FE']=set_sant_FE\n",
    "dic_sets['Transit']=set_transit\n",
    "dic_sets['Reg X=4']=set_bayes_4\n",
    "\n",
    "\n",
    "stuff=['A','B','C','D']\n",
    "for i in stuff:\n",
    "    dic_comb[i]=dic_name[i]\n",
    "for i in range(0, len(stuff)+1):\n",
    "    for subset in itertools.combinations(stuff, i):\n",
    "        if len(subset)>1:\n",
    "            dic_comb[\"\".join(subset)]=[dic_name[i] for i in subset]\n",
    "        elif len(subset)==1:\n",
    "            dic_comb[\"\".join(subset)]=[dic_name[subset[0]]]\n",
    "        else:\n",
    "            dic_comb[\"\".join(subset)]=[]\n",
    "\n",
    "for i in dic_comb.keys():\n",
    "    if len(dic_comb[i])>1:\n",
    "        intset=dic_sets[dic_comb[i][0]]\n",
    "        for j in dic_comb[i][1:]:\n",
    "            intset=intset.intersection(dic_sets[j])\n",
    "        compl=[x for x in np.setdiff1d(dic_comb['ABCD'],dic_comb[i])]\n",
    "        for k in compl:\n",
    "            intset=intset.difference(dic_sets[k])\n",
    "    elif len(dic_comb[i])==1:\n",
    "        intset=dic_sets[dic_comb[i][0]]\n",
    "        compl=[i for i in np.setdiff1d(dic_comb['ABCD'],dic_comb[i])]\n",
    "        for k in compl:\n",
    "            intset=intset.difference(dic_sets[k])\n",
    "    else:\n",
    "        intset=[]\n",
    "    dic_tot[i]=len(intset)\n",
    "    \n",
    "values=[i[1] for i in sorted(dic_tot.items(),key =  lambda kv:(kv[1])  , reverse=True  )]\n",
    "combin=[dic_comb[i[0]] for i in sorted(dic_tot.items(),key =  lambda kv:(kv[1])  , reverse=True  )]\n",
    "transit_upset = from_memberships(combin,data=values)\n",
    "\n",
    "fig=plt.figure(figsize=(30,15))\n",
    "\n",
    "upplot(transit_upset,orientation='horizontal', show_counts='%d')\n",
    "plt.savefig('results/sant_upset_ess_transit.png')\n",
    "\n",
    "plt.show()"
   ]
  },
  {
   "cell_type": "markdown",
   "metadata": {},
   "source": [
    "##### Non essential genes"
   ]
  },
  {
   "cell_type": "code",
   "execution_count": 55,
   "metadata": {},
   "outputs": [],
   "source": [
    "set_sant_NE=set(transit_small.get_ne('Santiago').ID)\n",
    "set_transit_NE=set(transit_small.get_ne('call').ID)\n",
    "set_bayes_12_NE=set(transit_small.get_ne('Bayes_class').ID)\n",
    "set_bayes_4_NE=set(transit_small.get_ne('Bayes_class_4').ID)\n",
    "set_biotradis_NE=set(transit_small.get_ne('biotradis').ID)\n",
    "\n",
    "set_Chaudhuri_NE=set(transit_small.get_ne('Chaudhuri').ID)\n",
    "set_valentino_NE=set(transit_small.get_ne('valentino').ID)"
   ]
  },
  {
   "cell_type": "markdown",
   "metadata": {},
   "source": [
    "Comparison of thresholds for non essential genes predictions (Figure 9B)"
   ]
  },
  {
   "cell_type": "code",
   "execution_count": 56,
   "metadata": {},
   "outputs": [
    {
     "data": {
      "text/plain": [
       "<Figure size 2160x1080 with 0 Axes>"
      ]
     },
     "metadata": {},
     "output_type": "display_data"
    },
    {
     "data": {
      "image/png": "[encoded data removed]",
      "text/plain": [
       "<Figure size 380x288 with 4 Axes>"
      ]
     },
     "metadata": {
      "needs_background": "light"
     },
     "output_type": "display_data"
    }
   ],
   "source": [
    "dic_sets={}\n",
    "dic_comb={}\n",
    "dic_name={}\n",
    "dic_tot={}\n",
    "dic_name['A']='Santiago'\n",
    "dic_name['B']='Reg X=12'\n",
    "dic_name['C']='Reg X=4'\n",
    "dic_sets['Santiago']=set_sant_NE\n",
    "dic_sets['Reg X=12']=set_bayes_12_NE\n",
    "dic_sets['Reg X=4']=set_bayes_4_NE\n",
    "\n",
    "stuff=['A','B','C']\n",
    "for i in stuff:\n",
    "    dic_comb[i]=dic_name[i]\n",
    "for i in range(0, len(stuff)+1):\n",
    "    for subset in itertools.combinations(stuff, i):\n",
    "        if len(subset)>1:\n",
    "            dic_comb[\"\".join(subset)]=[dic_name[i] for i in subset]\n",
    "        elif len(subset)==1:\n",
    "            dic_comb[\"\".join(subset)]=[dic_name[subset[0]]]\n",
    "        else:\n",
    "            dic_comb[\"\".join(subset)]=[]\n",
    "\n",
    "for i in dic_comb.keys():\n",
    "    if len(dic_comb[i])>1:\n",
    "        intset=dic_sets[dic_comb[i][0]]\n",
    "        for j in dic_comb[i][1:]:\n",
    "            intset=intset.intersection(dic_sets[j])\n",
    "        compl=[x for x in np.setdiff1d(dic_comb['ABC'],dic_comb[i])]\n",
    "        for k in compl:\n",
    "            intset=intset.difference(dic_sets[k])\n",
    "    elif len(dic_comb[i])==1:\n",
    "        intset=dic_sets[dic_comb[i][0]]\n",
    "        compl=[i for i in np.setdiff1d(dic_comb['ABC'],dic_comb[i])]\n",
    "        for k in compl:\n",
    "            intset=intset.difference(dic_sets[k])\n",
    "    else:\n",
    "        intset=[]\n",
    "    dic_tot[i]=len(intset)\n",
    "\n",
    "values_NE=[i[1] for i in sorted(dic_tot.items(),key =  lambda kv:(kv[1])  , reverse=True  )]\n",
    "combin_NE=[dic_comb[i[0]] for i in sorted(dic_tot.items(),key =  lambda kv:(kv[1])  , reverse=True  )]\n",
    "upset_NE = from_memberships(combin_NE,data=values_NE)\n",
    "\n",
    "\n",
    "fig=plt.figure(figsize=(30,15))\n",
    "\n",
    "upplot(upset_NE,orientation='horizontal', show_counts='%d')\n",
    "plt.savefig('results/sant_upset_ne_reg_comp.png')\n",
    "\n",
    "plt.show()\n",
    "            "
   ]
  },
  {
   "cell_type": "markdown",
   "metadata": {},
   "source": [
    "Comparison of non essential genes prediction with Bio-Tradis (Figure 9D)"
   ]
  },
  {
   "cell_type": "code",
   "execution_count": 57,
   "metadata": {},
   "outputs": [
    {
     "data": {
      "text/plain": [
       "<Figure size 2160x1080 with 0 Axes>"
      ]
     },
     "metadata": {},
     "output_type": "display_data"
    },
    {
     "data": {
      "image/png": "[encoded data removed]",
      "text/plain": [
       "<Figure size 377.875x288 with 4 Axes>"
      ]
     },
     "metadata": {
      "needs_background": "light"
     },
     "output_type": "display_data"
    }
   ],
   "source": [
    "dic_sets={}\n",
    "dic_comb={}\n",
    "dic_name={}\n",
    "dic_tot={}\n",
    "dic_name['A']='Santiago'\n",
    "dic_name['B']='Reg X=4'\n",
    "dic_name['C']='Bio-Tradis'\n",
    "dic_sets['Bio-Tradis']=set_biotradis_NE\n",
    "dic_sets['Santiago']=set_sant_NE\n",
    "dic_sets['Reg X=4']=set_bayes_4_NE\n",
    "\n",
    "\n",
    "stuff=['A','B','C']\n",
    "for i in stuff:\n",
    "    dic_comb[i]=dic_name[i]\n",
    "for i in range(0, len(stuff)+1):\n",
    "    for subset in itertools.combinations(stuff, i):\n",
    "        if len(subset)>1:\n",
    "            dic_comb[\"\".join(subset)]=[dic_name[i] for i in subset]\n",
    "        elif len(subset)==1:\n",
    "            dic_comb[\"\".join(subset)]=[dic_name[subset[0]]]\n",
    "        else:\n",
    "            dic_comb[\"\".join(subset)]=[]\n",
    "\n",
    "for i in dic_comb.keys():\n",
    "    if len(dic_comb[i])>1:\n",
    "        intset=dic_sets[dic_comb[i][0]]\n",
    "        for j in dic_comb[i][1:]:\n",
    "            intset=intset.intersection(dic_sets[j])\n",
    "        compl=[x for x in np.setdiff1d(dic_comb['ABC'],dic_comb[i])]\n",
    "        for k in compl:\n",
    "            intset=intset.difference(dic_sets[k])\n",
    "    elif len(dic_comb[i])==1:\n",
    "        intset=dic_sets[dic_comb[i][0]]\n",
    "        compl=[i for i in np.setdiff1d(dic_comb['ABC'],dic_comb[i])]\n",
    "        for k in compl:\n",
    "            intset=intset.difference(dic_sets[k])\n",
    "    else:\n",
    "        intset=[]\n",
    "    dic_tot[i]=len(intset)\n",
    "\n",
    "values_NE=[i[1] for i in sorted(dic_tot.items(),key =  lambda kv:(kv[1])  , reverse=True  )]\n",
    "combin_NE=[dic_comb[i[0]] for i in sorted(dic_tot.items(),key =  lambda kv:(kv[1])  , reverse=True  )]\n",
    "upset_NE = from_memberships(combin_NE,data=values_NE)\n",
    "\n",
    "\n",
    "fig=plt.figure(figsize=(30,15))\n",
    "\n",
    "upplot(upset_NE,orientation='horizontal', show_counts='%d')\n",
    "plt.savefig('results/sant_upset_ne_biotrad.png')\n",
    "\n",
    "plt.show()\n",
    "            "
   ]
  },
  {
   "cell_type": "markdown",
   "metadata": {},
   "source": [
    "Comparison of non-essential genes prediction with Transit (Figure 9F)"
   ]
  },
  {
   "cell_type": "code",
   "execution_count": 58,
   "metadata": {},
   "outputs": [
    {
     "data": {
      "text/plain": [
       "<Figure size 2160x1080 with 0 Axes>"
      ]
     },
     "metadata": {},
     "output_type": "display_data"
    },
    {
     "data": {
      "image/png": "[encoded data removed]",
      "text/plain": [
       "<Figure size 374x288 with 4 Axes>"
      ]
     },
     "metadata": {
      "needs_background": "light"
     },
     "output_type": "display_data"
    }
   ],
   "source": [
    "dic_sets={}\n",
    "dic_comb={}\n",
    "dic_name={}\n",
    "dic_tot={}\n",
    "dic_name['A']='Santiago'\n",
    "dic_name['B']='Transit'\n",
    "dic_name['C']='Reg X=4'\n",
    "dic_sets['Santiago']=set_sant_NE\n",
    "dic_sets['Transit']=set_transit_NE\n",
    "dic_sets['Reg X=4']=set_bayes_4_NE\n",
    "\n",
    "\n",
    "\n",
    "stuff=['A','B','C']\n",
    "for i in stuff:\n",
    "    dic_comb[i]=dic_name[i]\n",
    "for i in range(0, len(stuff)+1):\n",
    "    for subset in itertools.combinations(stuff, i):\n",
    "        if len(subset)>1:\n",
    "            dic_comb[\"\".join(subset)]=[dic_name[i] for i in subset]\n",
    "        elif len(subset)==1:\n",
    "            dic_comb[\"\".join(subset)]=[dic_name[subset[0]]]\n",
    "        else:\n",
    "            dic_comb[\"\".join(subset)]=[]\n",
    "\n",
    "for i in dic_comb.keys():\n",
    "    if len(dic_comb[i])>1:\n",
    "        intset=dic_sets[dic_comb[i][0]]\n",
    "        for j in dic_comb[i][1:]:\n",
    "            intset=intset.intersection(dic_sets[j])\n",
    "        compl=[x for x in np.setdiff1d(dic_comb['ABC'],dic_comb[i])]\n",
    "        for k in compl:\n",
    "            intset=intset.difference(dic_sets[k])\n",
    "    elif len(dic_comb[i])==1:\n",
    "        intset=dic_sets[dic_comb[i][0]]\n",
    "        compl=[i for i in np.setdiff1d(dic_comb['ABC'],dic_comb[i])]\n",
    "        for k in compl:\n",
    "            intset=intset.difference(dic_sets[k])\n",
    "    else:\n",
    "        intset=[]\n",
    "    dic_tot[i]=len(intset)\n",
    "\n",
    "values_NE=[i[1] for i in sorted(dic_tot.items(),key =  lambda kv:(kv[1])  , reverse=True  )]\n",
    "combin_NE=[dic_comb[i[0]] for i in sorted(dic_tot.items(),key =  lambda kv:(kv[1])  , reverse=True  )]\n",
    "upset_NE = from_memberships(combin_NE,data=values_NE)\n",
    "\n",
    "\n",
    "fig=plt.figure(figsize=(30,15))\n",
    "\n",
    "upplot(upset_NE,orientation='horizontal', show_counts='%d')\n",
    "plt.savefig('results/sant_upset_ne_transit.png')\n",
    "\n",
    "plt.show()\n",
    "            "
   ]
  }
 ],
 "metadata": {
  "cite2c": {
   "citations": {
    "6932338/2SZ4993M": {
     "DOI": "10.1093/bioinformatics/btt043",
     "URL": "https://academic.oup.com/bioinformatics/article-lookup/doi/10.1093/bioinformatics/btt043",
     "accessed": {
      "day": 5,
      "month": 6,
      "year": 2019
     },
     "author": [
      {
       "family": "DeJesus",
       "given": "Michael A."
      },
      {
       "family": "Zhang",
       "given": "Yanjia J."
      },
      {
       "family": "Sassetti",
       "given": "Christopher M."
      },
      {
       "family": "Rubin",
       "given": "Eric J."
      },
      {
       "family": "Sacchettini",
       "given": "James C."
      },
      {
       "family": "Ioerger",
       "given": "Thomas R."
      }
     ],
     "container-title": "Bioinformatics",
     "id": "6932338/2SZ4993M",
     "issue": "6",
     "issued": {
      "day": 15,
      "month": 3,
      "year": 2013
     },
     "language": "en",
     "page": "695-703",
     "page-first": "695",
     "title": "Bayesian analysis of gene essentiality based on sequencing of transposon insertion libraries",
     "type": "article-journal",
     "volume": "29"
    },
    "6932338/5LLRER7Y": {
     "URL": "https://journals.plos.org/plospathogens/article?id=10.1371/journal.ppat.1002251",
     "accessed": {
      "day": 5,
      "month": 6,
      "year": 2019
     },
     "id": "6932338/5LLRER7Y",
     "title": "High-Resolution Phenotypic Profiling Defines Genes Essential for Mycobacterial Growth and Cholesterol Catabolism",
     "type": "article"
    },
    "6932338/9J4IFRXF": {
     "abstract": "Transposon-directed insertion site sequencing (TraDIS) is a highthroughput method coupling transposon mutagenesis with short-fragment DNA sequencing. It is commonly used to identify essential genes. Single gene deletion libraries are considered the gold standard for identifying essential genes. Currently, the TraDIS method has not been benchmarked against such libraries, and therefore, it remains unclear whether the two methodologies are comparable. To address this, a high-density transposon library was constructed in Escherichia coli K-12. Essential genes predicted from sequencing of this library were compared to existing essential gene databases. To decrease false-positive identiﬁcation of essential genes, statistical data analysis included corrections for both gene length and genome length. Through this analysis, new essential genes and genes previously incorrectly designated essential were identiﬁed. We show that manual analysis of TraDIS data reveals novel features that would not have been detected by statistical analysis alone. Examples include short essential regions within genes, orientation-dependent effects, and ﬁne-resolution identiﬁcation of genome and protein features. Recognition of these insertion proﬁles in transposon mutagenesis data sets will assist genome annotation of less well characterized genomes and provides new insights into bacterial physiology and biochemistry.",
     "author": [
      {
       "family": "Goodall",
       "given": "Emily C A"
      },
      {
       "family": "Robinson",
       "given": "Ashley"
      },
      {
       "family": "Johnston",
       "given": "Iain G"
      },
      {
       "family": "Jabbari",
       "given": "Sara"
      },
      {
       "family": "Turner",
       "given": "Keith A"
      },
      {
       "family": "Cunningham",
       "given": "Adam F"
      },
      {
       "family": "Lund",
       "given": "Peter A"
      },
      {
       "family": "Cole",
       "given": "Jeffrey A"
      },
      {
       "family": "Henderson",
       "given": "Ian R"
      }
     ],
     "id": "6932338/9J4IFRXF",
     "issue": "1",
     "issued": {
      "year": 2018
     },
     "language": "en",
     "page": "18",
     "page-first": "18",
     "title": "The Essential Genome of Escherichia coli K-12",
     "type": "article-journal",
     "volume": "9"
    },
    "6932338/9THP52JU": {
     "DOI": "10.1186/1471-2105-12-480",
     "URL": "http://bmcbioinformatics.biomedcentral.com/articles/10.1186/1471-2105-12-480",
     "accessed": {
      "day": 6,
      "month": 6,
      "year": 2019
     },
     "author": [
      {
       "family": "Risso",
       "given": "Davide"
      },
      {
       "family": "Schwartz",
       "given": "Katja"
      },
      {
       "family": "Sherlock",
       "given": "Gavin"
      },
      {
       "family": "Dudoit",
       "given": "Sandrine"
      }
     ],
     "container-title": "BMC Bioinformatics",
     "container-title-short": "BMC Bioinformatics",
     "id": "6932338/9THP52JU",
     "issue": "1",
     "issued": {
      "year": 2011
     },
     "journalAbbreviation": "BMC Bioinformatics",
     "language": "en",
     "page": "480",
     "page-first": "480",
     "title": "GC-Content Normalization for RNA-Seq Data",
     "type": "article-journal",
     "volume": "12"
    },
    "6932338/A5YSBNQX": {
     "URL": "https://academic.oup.com/bioinformatics/article/29/6/695/184050",
     "accessed": {
      "day": 5,
      "month": 6,
      "year": 2019
     },
     "author": [
      {
       "family": "DeJesus",
       "given": "Michael A. ,"
      },
      {
       "family": "Zhang",
       "given": "Yanjia J."
      },
      {
       "family": "Christopher M.",
       "given": "Sassetti"
      },
      {
       "family": "Rubin",
       "given": "Eric J."
      },
      {
       "family": "Sacchettini",
       "given": "James C."
      },
      {
       "family": "Ioerger",
       "given": "Thomas R."
      }
     ],
     "id": "6932338/A5YSBNQX",
     "title": "Bayesian analysis of gene essentiality based on sequencing of transposon insertion libraries | Bioinformatics | Oxford Academic",
     "type": "article-journal"
    },
    "6932338/CY4FKA2X": {
     "URL": "https://academic.oup.com/bioinformatics/article/29/6/695/184050",
     "accessed": {
      "day": 5,
      "month": 6,
      "year": 2019
     },
     "id": "6932338/CY4FKA2X",
     "title": "Bayesian analysis of gene essentiality based on sequencing of transposon insertion libraries | Bioinformatics | Oxford Academic",
     "type": "article"
    },
    "6932338/D8LBWRWC": {
     "URL": "https://bmcbioinformatics.biomedcentral.com/articles/10.1186/1471-2105-14-303",
     "accessed": {
      "day": 5,
      "month": 6,
      "year": 2019
     },
     "id": "6932338/D8LBWRWC",
     "title": "A Hidden Markov Model for identifying essential and growth-defect regions in bacterial genomes from transposon insertion sequencing data | BMC Bioinformatics | Full Text",
     "type": "article"
    },
    "6932338/DH78MLPP": {
     "DOI": "10.1371/journal.ppat.1002251",
     "URL": "https://dx.plos.org/10.1371/journal.ppat.1002251",
     "accessed": {
      "day": 5,
      "month": 6,
      "year": 2019
     },
     "author": [
      {
       "family": "Griffin",
       "given": "Jennifer E."
      },
      {
       "family": "Gawronski",
       "given": "Jeffrey D."
      },
      {
       "family": "DeJesus",
       "given": "Michael A."
      },
      {
       "family": "Ioerger",
       "given": "Thomas R."
      },
      {
       "family": "Akerley",
       "given": "Brian J."
      },
      {
       "family": "Sassetti",
       "given": "Christopher M."
      }
     ],
     "container-title": "PLoS Pathogens",
     "container-title-short": "PLoS Pathog",
     "editor": [
      {
       "family": "Ramakrishnan",
       "given": "Lalita"
      }
     ],
     "id": "6932338/DH78MLPP",
     "issue": "9",
     "issued": {
      "day": 29,
      "month": 9,
      "year": 2011
     },
     "journalAbbreviation": "PLoS Pathog",
     "language": "en",
     "page": "e1002251",
     "page-first": "e1002251",
     "title": "High-Resolution Phenotypic Profiling Defines Genes Essential for Mycobacterial Growth and Cholesterol Catabolism",
     "type": "article-journal",
     "volume": "7"
    },
    "6932338/ESUL5ZJ8": {
     "DOI": "10.1128/mBio.01690-16",
     "URL": "https://mbio.asm.org/content/7/5/e01690-16",
     "abstract": "The property of transposons to randomly insert into target DNA has long been exploited for generalized mutagenesis and forward genetic screens. Newer applications that monitor the relative abundance of each transposon insertion in large libraries of mutants can be used to evaluate the roles in cellular fitness of all genes of an organism, provided that transposition is in fact random across all genes. In a recent article, Kimura and colleagues identified an important exception to the latter assumption [S. Kimura, T. P. Hubbard, B. M. Davis, M. K. Waldor, mBio 7(4):e01351-16, 2016, doi:10.1128/mBio.01351-16]. They provide evidence that the Mariner transposon exhibits locus-specific site preferences in the presence of the histone-like nucleoid structuring protein H-NS. This effect was shown to bias results for important virulence loci in Vibrio cholerae and to result in misidentification of genes involved in growth in vitro. Fortunately, the bulk of this bacterium’s genome was unaffected by this bias, and recognizing the H-NS effect allows filtering to improve the accuracy of the results.",
     "accessed": {
      "day": 6,
      "month": 6,
      "year": 2019
     },
     "author": [
      {
       "family": "Akerley",
       "given": "Brian J."
      }
     ],
     "container-title": "mBio",
     "id": "6932338/ESUL5ZJ8",
     "issue": "5",
     "issued": {
      "day": 2,
      "month": 11,
      "year": 2016
     },
     "language": "en",
     "note": "PMID: 27729512",
     "page": "e01690-16",
     "page-first": "e01690",
     "title": "No-Go Zones for Mariner Transposition",
     "type": "article-journal",
     "volume": "7"
    },
    "6932338/HNBGDTP2": {
     "DOI": "10.1186/1471-2105-14-303",
     "URL": "https://bmcbioinformatics.biomedcentral.com/articles/10.1186/1471-2105-14-303",
     "accessed": {
      "day": 5,
      "month": 6,
      "year": 2019
     },
     "author": [
      {
       "family": "DeJesus",
       "given": "Michael A"
      },
      {
       "family": "Ioerger",
       "given": "Thomas R"
      }
     ],
     "container-title": "BMC Bioinformatics",
     "container-title-short": "BMC Bioinformatics",
     "id": "6932338/HNBGDTP2",
     "issue": "1",
     "issued": {
      "year": 2013
     },
     "journalAbbreviation": "BMC Bioinformatics",
     "language": "en",
     "page": "303",
     "page-first": "303",
     "title": "A Hidden Markov Model for identifying essential and growth-defect regions in bacterial genomes from transposon insertion sequencing data",
     "type": "article-journal",
     "volume": "14"
    },
    "6932338/KV8VJY25": {
     "DOI": "10.1038/nrmicro.2015.7",
     "URL": "http://www.nature.com/articles/nrmicro.2015.7",
     "abstract": "Transposon insertion sequencing (TIS) is a powerful approach that can be extensively applied to the genome-wide definition of loci that are required for bacterial growth under diverse conditions. However, experimental design choices and stochastic biological processes can heavily influence the results of TIS experiments and affect downstream statistical analysis. In this Opinion article, we discuss TIS experimental parameters and how these factors relate to the benefits and limitations of the various statistical frameworks that can be applied to the computational analysis of TIS data.",
     "accessed": {
      "day": 23,
      "month": 5,
      "year": 2019
     },
     "author": [
      {
       "family": "Chao",
       "given": "Michael C."
      },
      {
       "family": "Abel",
       "given": "Sören"
      },
      {
       "family": "Davis",
       "given": "Brigid M."
      },
      {
       "family": "Waldor",
       "given": "Matthew K."
      }
     ],
     "container-title": "Nature Reviews Microbiology",
     "container-title-short": "Nat Rev Microbiol",
     "id": "6932338/KV8VJY25",
     "issue": "2",
     "issued": {
      "year": 2016
     },
     "journalAbbreviation": "Nat Rev Microbiol",
     "language": "en",
     "page": "119-128",
     "page-first": "119",
     "title": "The design and analysis of transposon insertion sequencing experiments",
     "type": "article-journal",
     "volume": "14"
    },
    "6932338/MJQRV22U": {
     "URL": "https://bmcbioinformatics.biomedcentral.com/articles/10.1186/1471-2105-14-303",
     "accessed": {
      "day": 5,
      "month": 6,
      "year": 2019
     },
     "author": [
      {
       "family": "Michael A DeJesus",
       "given": ""
      },
      {
       "family": "Thomas R Ioerger",
       "given": ""
      }
     ],
     "id": "6932338/MJQRV22U",
     "title": "A Hidden Markov Model for identifying essential and growth-defect regions in bacterial genomes from transposon insertion sequencing data | BMC Bioinformatics | Full Text",
     "type": "webpage"
    },
    "6932338/Q6WMPR6W": {
     "DOI": "10.1038/nrmicro.2015.7",
     "URL": "https://www.ncbi.nlm.nih.gov/pmc/articles/PMC5099075/",
     "abstract": "Transposon-insertion sequencing (TIS) is a powerful approach that can be widely applied to genome-wide definition of loci that are required for growth in diverse conditions. However, experimental design choices and stochastic biological processes can heavily influence the results of TIS experiments and affect downstream statistical analysis. Here, we discuss TIS experimental parameters and how these factors relate to the benefits and limitations of the various statistical frameworks that can be applied to computational analysis of TIS data.",
     "author": [
      {
       "family": "Chao",
       "given": "Michael C."
      },
      {
       "family": "Abel",
       "given": "Sören"
      },
      {
       "family": "Davis",
       "given": "Brigid M."
      },
      {
       "family": "Waldor",
       "given": "Matthew K."
      }
     ],
     "container-title": "Nature reviews. Microbiology",
     "container-title-short": "Nat Rev Microbiol",
     "id": "6932338/Q6WMPR6W",
     "issue": "2",
     "issued": {
      "month": 2,
      "year": 2016
     },
     "journalAbbreviation": "Nat Rev Microbiol",
     "note": "PMID: 26775926\nPMCID: PMC5099075",
     "page": "119-128",
     "page-first": "119",
     "title": "The Design and Analysis of Transposon-Insertion Sequencing Experiments",
     "type": "article-journal",
     "volume": "14"
    },
    "6932338/XQDF4CQQ": {
     "URL": "https://journals.plos.org/plospathogens/article?id=10.1371/journal.ppat.1002251",
     "accessed": {
      "day": 5,
      "month": 6,
      "year": 2019
     },
     "author": [
      {
       "family": "Jennifer E. Griffin",
       "given": ""
      },
      {
       "family": "Jeffrey D. Gawronski",
       "given": ""
      },
      {
       "family": "Michael A. DeJesus",
       "given": ""
      },
      {
       "family": "Ioerger",
       "given": "Thomas R."
      },
      {
       "family": "",
       "given": "Brian J. Akerley"
      },
      {
       "family": "Christopher M. Sassetti",
       "given": ""
      }
     ],
     "id": "6932338/XQDF4CQQ",
     "title": "High-Resolution Phenotypic Profiling Defines Genes Essential for Mycobacterial Growth and Cholesterol Catabolism",
     "type": "webpage"
    },
    "6932338/YRDSP7M7": {
     "URL": "http://biorxiv.org/lookup/doi/10.1101/563007",
     "abstract": "Enterohemorrhagic Escherichia coli O157:H7 (EHEC) is an important food-borne pathogen that colonizes the colon. Transposon-insertion sequencing (TIS) was used to identify genes required for EHEC and commensal E. coli K-12 growth in vitro and for EHEC growth in vivo in the infant rabbit colon. Surprisingly, many conserved loci contribute to EHEC's but not to K-12's growth in vitro, suggesting that gene acquisition during EHEC evolution has heightened the pathogen's reliance on certain metabolic processes that are dispensable for K-12. There was a restrictive bottleneck for EHEC colonization of the rabbit colon, which complicated identification of EHEC genes facilitating growth in vivo. Both a refined version of an existing analytic framework as well as PCA-based analysis were used to compensate for the effects of the infection bottleneck. These analyses confirmed that the EHEC LEE-encoded type III secretion apparatus is required for growth in vivo and revealed that only a few effectors are critical for in vivo fitness. Numerous mutants not previously associated with EHEC survival/growth in vivo also appeared attenuated in vivo, and a subset of these putative in vivo fitness factors were validated. Some were found to contribute to efficient type-three secretion while others, including tatABC, oxyR, envC, acrAB, and cvpA, promote EHEC resistance to host-derived stresses encountered in vivo. cvpA, which is also required for intestinal growth of several other enteric pathogens, proved to be required for EHEC, Vibrio cholerae and Vibrio parahaemolyticus resistance to the bile salt deoxycholate. Collectively, our findings provide a comprehensive framework for understanding EHEC growth in the intestine.",
     "accessed": {
      "day": 6,
      "month": 6,
      "year": 2019
     },
     "author": [
      {
       "family": "Warr",
       "given": "Alyson R"
      },
      {
       "family": "Hubbard",
       "given": "Troy P"
      },
      {
       "family": "Munera",
       "given": "Diana"
      },
      {
       "family": "Blondel",
       "given": "Carlos J"
      },
      {
       "family": "Abel zur Wiesch",
       "given": "Pia"
      },
      {
       "family": "Abel",
       "given": "Sören"
      },
      {
       "family": "Wang",
       "given": "Xiaoxue"
      },
      {
       "family": "Davis",
       "given": "Brigid M"
      },
      {
       "family": "Waldor",
       "given": "Matthew K."
      }
     ],
     "genre": "preprint",
     "id": "6932338/YRDSP7M7",
     "issued": {
      "day": 27,
      "month": 2,
      "year": 2019
     },
     "language": "en",
     "note": "DOI: 10.1101/563007",
     "publisher": "Microbiology",
     "title": "Transposon-insertion sequencing screens unveil requirements for EHEC growth and intestinal colonization",
     "type": "report"
    },
    "undefined": {
     "abstract": "Transposon-directed insertion site sequencing (TraDIS) is a highthroughput method coupling transposon mutagenesis with short-fragment DNA sequencing. It is commonly used to identify essential genes. Single gene deletion libraries are considered the gold standard for identifying essential genes. Currently, the TraDIS method has not been benchmarked against such libraries, and therefore, it remains unclear whether the two methodologies are comparable. To address this, a high-density transposon library was constructed in Escherichia coli K-12. Essential genes predicted from sequencing of this library were compared to existing essential gene databases. To decrease false-positive identiﬁcation of essential genes, statistical data analysis included corrections for both gene length and genome length. Through this analysis, new essential genes and genes previously incorrectly designated essential were identiﬁed. We show that manual analysis of TraDIS data reveals novel features that would not have been detected by statistical analysis alone. Examples include short essential regions within genes, orientation-dependent effects, and ﬁne-resolution identiﬁcation of genome and protein features. Recognition of these insertion proﬁles in transposon mutagenesis data sets will assist genome annotation of less well characterized genomes and provides new insights into bacterial physiology and biochemistry.",
     "author": [
      {
       "family": "Goodall",
       "given": "Emily C A"
      },
      {
       "family": "Robinson",
       "given": "Ashley"
      },
      {
       "family": "Johnston",
       "given": "Iain G"
      },
      {
       "family": "Jabbari",
       "given": "Sara"
      },
      {
       "family": "Turner",
       "given": "Keith A"
      },
      {
       "family": "Cunningham",
       "given": "Adam F"
      },
      {
       "family": "Lund",
       "given": "Peter A"
      },
      {
       "family": "Cole",
       "given": "Jeffrey A"
      },
      {
       "family": "Henderson",
       "given": "Ian R"
      }
     ],
     "id": "undefined",
     "issue": "1",
     "issued": {
      "year": 2018
     },
     "language": "en",
     "page": "18",
     "page-first": "18",
     "title": "The Essential Genome of Escherichia coli K-12",
     "type": "article-journal",
     "volume": "9"
    }
   }
  },
  "kernelspec": {
   "display_name": "Python 3",
   "language": "python",
   "name": "python3"
  },
  "language_info": {
   "codemirror_mode": {
    "name": "ipython",
    "version": 3
   },
   "file_extension": ".py",
   "mimetype": "text/x-python",
   "name": "python",
   "nbconvert_exporter": "python",
   "pygments_lexer": "ipython3",
   "version": "3.8.2"
  }
 },
 "nbformat": 4,
 "nbformat_minor": 4
}
