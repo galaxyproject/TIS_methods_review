{
 "cells": [
  {
   "cell_type": "markdown",
   "metadata": {},
   "source": [
    "# Abstract"
   ]
  },
  {
   "cell_type": "markdown",
   "metadata": {},
   "source": [
    "I am interested in Transposon sequencing analyses and I stumbled upon a paper <cite data-cite=\"6932338/9J4IFRXF\"></cite> that performed a TraDis analysis of the *Escherishia coli* K12 genome. TraDis methods, for Transposon Directed Insertion Sequencing, uses specific PCR amplification of regions flanking transposons that have been inserted in the genome. This paper compare TraDis results to single genes deletion libraries to identify essential genes. It also discuss the importance of correction for gene and genome length, as well as the manual curration of any TraDis results. \n",
    "\n",
    "In this notebook, I replicate their analysis, then compare it with the results of software for TraDis Data. "
   ]
  },
  {
   "cell_type": "markdown",
   "metadata": {},
   "source": [
    "# Table of contents\n",
    "\n",
    "<div id=\"toc\"></div>"
   ]
  },
  {
   "cell_type": "markdown",
   "metadata": {},
   "source": [
    "# Introduction"
   ]
  },
  {
   "cell_type": "markdown",
   "metadata": {},
   "source": [
    "This notebook contain a comparison of methods to analyse TraDis data to predict essential genes in *Escherichia Coli* K12. \n",
    "The first step is to understand the biology of the technic to assess any systematic biases that we would need to account for. This will impact the pre-processing of the data, from the raw reads to the count of insertion at each insertion site. \n",
    "\n",
    "I first tried to replicate the exact analysis presented in the paper <cite data-cite=\"6932338/9J4IFRXF\">.The paper present a simple method of ploting the genes saturations, and identifying the distributions corresponding to essential and essential genes. The genes are then classified in one distribution or the other, and we discuss the impact of the choices of thresholds and parameters.\n",
    "    \n",
    "The next step is to compare these results to the ones provided by a stand alone software, TRANSIT, that provides a classification based on the Gumbel distribution.\n",
    "\n",
    "And finally we compare the two techniques single gene deletion mutants libraries, and manually inspect the genes that are classifies differently in each case.\n",
    "\n",
    "*Disclaimer* : It is important to note that due to the random nature of TraDis techniques, a gene that seems incorrectly classified in regard of its biological function does not mean the method is failing. Always verify if the results are in accordance with the data before the biological meaning is analysed.\n"
   ]
  },
  {
   "cell_type": "markdown",
   "metadata": {},
   "source": [
    "## TraDis techniques"
   ]
  },
  {
   "cell_type": "markdown",
   "metadata": {},
   "source": [
    "The different TraDis techniques share a common principle : The genomes of a bacterial population are statistically  saturated with transposon insertions. It means that statistically, every possible insertion site for the transposon is impacted at least one time in the bacterial population. The transposon insertion is disruptive for the gene, which means that if the gene impacted is essential, then this insertion will kill the bacteria and disappear from the population. "
   ]
  },
  {
   "cell_type": "markdown",
   "metadata": {},
   "source": [
    "<img src=\"../Images/design_tnseq_a.png\" alt=\"Design of Tnseq experiments-a\" style=\"width: 900px;\"/>\n"
   ]
  },
  {
   "cell_type": "markdown",
   "metadata": {},
   "source": [
    "An initial population of genomes is mutated so that the genome of the bacteria is saturated with transposon insertions. A library is called saturated if in the genomes across the whole population of bacteria, each potential insertion site has at least one insertion. The population is then divided into several media containing different growth conditions, to identify the impact of the insertions on the bacteria growth. After growth, the regions flanking the insertion are amplified and sequenced, allowing to determine the location of the insertion."
   ]
  },
  {
   "cell_type": "markdown",
   "metadata": {},
   "source": [
    "<img src=\"../Images/design_tnseq_b.png\" alt=\"Design of Tnseq experiments-b\" style=\"width: 900px;\"/>\n"
   ]
  },
  {
   "cell_type": "markdown",
   "metadata": {},
   "source": [
    "The sequences are aligned to the reference genome to identify the location of the regions flanking the insertions. The resulting data will show a discrete repartition of reads on each site. If a gene present several insertions, like the two leftmost genes in Condition A, it means that its disruption has little or no impact to the bacterial growth. On the other hand, when a gene shows no insertions at all, like the rightmost gene in Condition A, is means that any disruption in this gene killed the bacteria, meaning it is a gene essential to bacteria survival. If the library is sufficiently saturated, there is a clear threshold between essential and non-essential genes when you analyze the insertion rate per gene."
   ]
  },
  {
   "cell_type": "markdown",
   "metadata": {},
   "source": [
    "<cite data-cite=\"6932338/KV8VJY25\"></cite>"
   ]
  },
  {
   "cell_type": "markdown",
   "metadata": {},
   "source": [
    "Two type of transposon insertion methods exist:\n",
    "- Gene disruption, where we analyze only the disruptions. \n",
    "- Regulatory element insertion, where different promoters are inserted by the transposon, and we analyze the change in gene expression in addition to the disruption. This method will be the subject of another tutorial.\n"
   ]
  },
  {
   "cell_type": "markdown",
   "metadata": {},
   "source": [
    "Different types of transposons can be used depending of the goal of your analysis.\n",
    "\n",
    "- Randomly pooled tranposon\n",
    "    - Mariner-based transposons, common and stable transposons which target the “TA” dinucleotides. The TA are distributed relatively evenly along genome. The Mariner-based transposons can be inserted to impact statistically every gene, with in average more than 30 insertions site per kb. With the low insertion bias, it is easy to build saturated libraries. But local variations means less loci and less statistical power.\n",
    "    - Tn5-based vectors, which insert at random sites. This transposon do not require any target sequences. It is useful for specie where it is difficult to build mariner based transposons. But it has a preference for high GC content, causing insertion bias\n",
    "\n",
    "- Defined sequence transposon. It can be used to study interactions in pathways of interest, but also more precise targeting (small genes, pathways) for specific analyses\n",
    "\n"
   ]
  },
  {
   "cell_type": "markdown",
   "metadata": {},
   "source": [
    "### Mariner based"
   ]
  },
  {
   "cell_type": "markdown",
   "metadata": {},
   "source": [
    "Mariner based transposon insert at TA sites, which are about a quarter of million in a genome of 4Mb. In Escherichia coli, which has a GC content of ~50%, there are on average >30 potential insertion sites per 1 kilobase gene. The transposon construct usually contains a gene of resistance to an antibiotique, so the mutants can be selected, and sequencing promoters to sequence the region flanking the insertion <cite data-cite=\"6932338/KV8VJY25\"></cite>. \n",
    "\n",
    "Despite the theoretical randomness of mariner transposon insertions, studies has shown that Dna-binding proteina can prevent insertion of transposon at their binding location <cite data-cite=\"6932338/ESUL5ZJ8\"></cite>. This has been observed with H-NS protein, that causes a under representation of Mariner insertion in some AT rich regions. The ideal would be to have a control sequencing of the library before any growth, to be able to detect empty sites before selective pressure is applied. Some study suggest that the bias seems to lead to GC poor regions being less impacted by insertions, that could be compensated by normalizing on GC-content <cite data-cite=\"6932338/YRDSP7M7\"></cite>. \n"
   ]
  },
  {
   "cell_type": "markdown",
   "metadata": {},
   "source": [
    "### Tn5 Based"
   ]
  },
  {
   "cell_type": "markdown",
   "metadata": {},
   "source": [
    "Tn5 vectors insert at random sites in the genome, but has an insertion bias in favor of GC rich regions. It can also lead to hotspots of insertions that reduces the library overall complexity. This type of transposon can be prefered to Mariner transposon when they are difficult to construct for the studied specie <cite data-cite=\"6932338/KV8VJY25\"></cite>. This type of transposon is however inserting totally randomly in the genome, it shows a insertion preference for GC rich regions. This type of bias can be accounted for during the data processing by normalising the data for GC content. \n",
    "\n"
   ]
  },
  {
   "cell_type": "markdown",
   "metadata": {},
   "source": [
    "## Data"
   ]
  },
  {
   "cell_type": "markdown",
   "metadata": {},
   "source": [
    "The data pre-processing is pretty straight forward, including filtering and trimming indesxes and transposon sequences, alignment, and mapping coverage. "
   ]
  },
  {
   "cell_type": "markdown",
   "metadata": {},
   "source": [
    "\"Raw data were collected and analyzed using a series of custom scripts. The\n",
    "Fastx barcode splitter and trimmer tools, of the Fastx toolkit, were used to assess and trim the sequences (67). Sequence reads were first filtered by their inline indexes, allowing no mismatches. Transposon similarity matching was done by identifying the first 35 bp of the sequenced transposon in two parts: 25 bases (5= to 3=, corresponding to the PCR2 primer binding site) were matched, allowing for three mismatches, trimmed, and then the remaining 10 bases (corresponding to the sequenced transposon) matched, allowing for one mismatch, and trimmed. Sequences less than 20 bases long were removed using Trimmomatic (68). Trimmed, filtered sequences were then aligned to the reference genome E. coli BW25113 (accession no. CP009273.1), obtained from the NCBI genome repository (69). Where gene names differed between databases, the BW25113 annotation was used. The aligner bwa was used, with the mem algorithm (0.7.8-r455 [75]). Aligned reads were filtered to remove any soft clipped reads. The subsequent steps of conversion from SAM (sequence alignment/map) files to BAM (binary version of SAM) files, and the requisite sorting and indexing, were done using SAMtools (0.1.19-44428cd [70]). The BEDTools suite was used to create BED (browser extensible data) files which were intersected against the coding sequence boundaries defined in general feature format (.gff) files obtained from the NCBI (71). Custom python scripts were used to quantify insertion sites within the annotated CDS boundaries. Data were inspected manually using the Artemis genome browser (72). Essential\" <cite data-cite=\"6932338/9J4IFRXF\">"
   ]
  },
  {
   "cell_type": "markdown",
   "metadata": {},
   "source": [
    "## Tools"
   ]
  },
  {
   "cell_type": "markdown",
   "metadata": {},
   "source": [
    "A couple tools dedicated to TraDis exist, and we selected Transit for its availability , the (maintenance?) of the tool by the developpers, and the wide range of methods available. (Add quick description of other tools availables)"
   ]
  },
  {
   "cell_type": "markdown",
   "metadata": {},
   "source": [
    "\n",
    "### Transit\n",
    "Transit is a software that can be used to analyse TnSeq Data. It is compatible with Mariner and Tn5 tranposon. In total, 3 methods are available to assess gene essentiality in one sample.\n",
    "\n",
    "#### Gumbel method\n",
    "\n",
    "The Gumbel method performs a gene by gene analysis of essentiality for Mariner data based on the longest consecutive sequence of TA site without insertions in a gene. This allows to identify essential domains regardless of insertion at other location of the gene.\n",
    "\n",
    "The distribution governing the longest sequence of consecutive non insertion in non essential genes is  characterized by a Gumbel distribution. The distribution is built on the assumption that each site is independent in non-essential genes and therefore the sites are treated as bernouilli trials. This distribution is often used to model the distribution of maximums (or minimums) of a variable (See the [Wikipedia article on Gumbel distribution ](https://en.wikipedia.org/wiki/Gumbel_distribution)). The Gumbel distribution is used as a likelihood of non-essentiality, as the longest run of non-insertions should follow what is expected given the global distribution of non-insertion runs. The essential genes, whose runs of empty sites are longer than expected, are modeled through a normalized sigmoid function. This function reflect that any gene can be essential, except the gene were the run of non insertions are too smell to represent a domain.\n",
    "\n",
    "The total distribution of the maximum run of non-insertion per gene is therefore represented by a bimodal distribution composed of a Gumbel distribution of non-essential genes and a normalized sigmoid function of essential ones. The parameters of these distributions are estimated through a Metropolis–Hastings (MH) sampling procedure <cite data-cite=\"6932338/2SZ4993M\"></cite>.\n",
    "\n",
    "Using these two distribution, the posterior probability of each distribution is calculated for each gene. Some genes can be classified as \"Unclear\" if one probability is not winning over the other. Some other can be classified as \"Small\" if the space of TA sites covered by the gene is insufficient to categorize it (See the [Transit Manual for the Gumbel method](https://transit.readthedocs.io/en/latest/transit_methods.html#gumbel)).\n",
    "\n",
    "#### HMM method\n",
    "\n",
    "The HMM method performs a whole genome essentiality analysis for Mariner data. This approach uses the clustering of TA sites along the genome to identify essential regions, and then apply results to the annotation to identify genes containing essential regions. The HMM method provides a classification for each TA site into 4 states : Essential, Non-Essential, Growth Advantage, and Growth Defect.\n",
    "\n",
    "This method require a well-saturated library and is sensitive to sparse datasets <cite data-cite=\"6932338/HNBGDTP2\"></cite>.\n",
    "\n",
    "\n",
    "#### Tn5Gaps method\n",
    "\n",
    "The Tn5Gaps method is a method dedicated to the identification of essential genes in studies using Tn5 transposons. The analysis is performed on the whole genome to identify regions of non insertion overlapping with genes. It is based on a Gumbel analysis method <cite data-cite=\"6932338/DH78MLPP\"></cite> and adapted to Tn5 transposon specificities.  The main difference comes from the fact that Tn5 transposon can insert everywhere, thus\n",
    "creating libraries with lower insertion rates. The difference from the Gumbel method described above is that the run of non insertion are computer on the whole genome instead of individual genes. The longest run of non insertion considered is not the longest within the gene, but the longest one overlapping the gene.\n",
    "\n"
   ]
  },
  {
   "cell_type": "markdown",
   "metadata": {},
   "source": [
    "## Installations and imports (To run first)"
   ]
  },
  {
   "cell_type": "code",
   "execution_count": 1,
   "metadata": {},
   "outputs": [
    {
     "name": "stdout",
     "output_type": "stream",
     "text": [
      "Collecting package metadata (current_repodata.json): done\n",
      "Solving environment: done\n",
      "\n",
      "# All requested packages already installed.\n",
      "\n",
      "Collecting package metadata (current_repodata.json): done\n",
      "Solving environment: done\n",
      "\n",
      "# All requested packages already installed.\n",
      "\n",
      "Collecting package metadata (current_repodata.json): done\n",
      "Solving environment: done\n",
      "\n",
      "# All requested packages already installed.\n",
      "\n",
      "Collecting package metadata (current_repodata.json): done\n",
      "Solving environment: done\n",
      "\n",
      "# All requested packages already installed.\n",
      "\n"
     ]
    }
   ],
   "source": [
    "! conda install -y upsetplot\n",
    "! conda install -y pandasql\n",
    "! conda install -y matplotlib-venn\n",
    "! conda install -y seaborn"
   ]
  },
  {
   "cell_type": "code",
   "execution_count": 2,
   "metadata": {},
   "outputs": [],
   "source": [
    "import pandas as pd\n",
    "from pandasql import *\n",
    "from IPython.display import display\n",
    "import matplotlib.pyplot as plt\n",
    "import numpy as np\n",
    "import matplotlib as mpl\n",
    "import seaborn as sns\n",
    "import scipy\n",
    "from pylab import *\n",
    "from scipy.optimize import curve_fit\n",
    "import statistics\n",
    "from scipy import stats  \n",
    "import numpy as np\n",
    "from scipy.stats import norm\n",
    "pysqldf = lambda q: sqldf(q, globals())\n",
    "from matplotlib_venn import venn2, venn2_circles,venn3\n",
    "import matplotlib.gridspec as gridspec\n",
    "import itertools\n",
    "from upsetplot import from_memberships\n",
    "from upsetplot import plot as upplot"
   ]
  },
  {
   "cell_type": "code",
   "execution_count": 3,
   "metadata": {
    "scrolled": true
   },
   "outputs": [],
   "source": [
    "%matplotlib inline"
   ]
  },
  {
   "cell_type": "markdown",
   "metadata": {},
   "source": [
    "# How I tried to repeat the Goodall and al. analysis"
   ]
  },
  {
   "cell_type": "markdown",
   "metadata": {},
   "source": [
    "In this paper the authors describe a method based on the regression of genes saturation for the classification of genes into essential or non essential categories."
   ]
  },
  {
   "cell_type": "markdown",
   "metadata": {},
   "source": [
    "he description of the essential genes prediction in the paper looks like this :\n",
    "\n",
    "\"Essential gene prediction. The frequency of insertion index scores was plotted in a histogram using the Freedman-Diaconis rule for choice of bin widths (see Fig. S1 in the supplemental material). Using the R MASS library (http://www.r-project.org), an exponential distribution (red line) was fitted to the left, “essential” mode (i.e., any data to the left of the trough in Fig. S1); a gamma distribution (blue line) was fitted to the right, “nonessential” mode (i.e., any data to the right of the trough). The probability of a gene belonging to each mode was calculated, and the ratio of these values was used to calculate a log likelihood score. Using a 12-fold likelihood threshold, based on the log likelihood scores, genes were assigned as “essential” if they were 12 times more likely to be in the left mode than in the right mode, and “nonessential” if they were 12 times more likely to be in the right mode (9). Genes with log likelihood scores between the upper and lower log2 12 threshold values of 3.6 and ⫺3.6, respectively, were deemed January/February 2018 Volume 9 Issue 1 e02096-17 ® Downloaded from http://mbio.asm.org/ on May 1, 2019 by guest mbio.asm.org 15 Goodall et al. ® “unclear.” A threshold cutoff of log2 (12) was chosen, as it is more stringent than log2 (4) (used by Langridge et al. [4]), and consistent with analysis used by Phan et al. (9).\" (Goodall et al. 2018)"
   ]
  },
  {
   "cell_type": "markdown",
   "metadata": {},
   "source": [
    "Let's unfold this :\n",
    "1. They calculate the insertion index scores\n",
    "2. They plot an instogram of the frequencies of this index\n",
    "    - They choose the number of bins for this histogram according to the Freedman-Diaconis Rule\n",
    "3. They fit 2 distributions to the histogram: \n",
    "    - Exponential distribution to the left : essential genes\n",
    "    - Gamma Distribution to the right : non essential genes\n",
    "4. They calculate the probability of a gene belonging to each mode\n",
    "5. They calculate a likelihood score using the ratio of these probabilities\n",
    "6. They classify the genes into the two ctegories based on the log2 of this ratio"
   ]
  },
  {
   "cell_type": "markdown",
   "metadata": {},
   "source": [
    "Let's now follow this analysis."
   ]
  },
  {
   "cell_type": "markdown",
   "metadata": {},
   "source": [
    "## Calculation of the insertion index score"
   ]
  },
  {
   "cell_type": "markdown",
   "metadata": {},
   "source": [
    "### Calculate the number of insertions per genes\n",
    "\n",
    "We are using this file to calculate the number of insertion per genes with Transit tools. Transit returns an output containing : \n",
    "1. Gene ID\n",
    "2. Gene name\n",
    "3. Gene description\n",
    "4. Number of insertions within the gene \n",
    "5. Number of potential insertion sites\n",
    "6. Number of nucleotides in the overlap of the longest run of empty site covering the gene\n",
    "7. Length of the overlap\n",
    "8. p-value\n",
    "9. Adjusted p-vaue\n",
    "10. Essentiality call\n",
    "\n",
    "We are using Transit with no normalization of the counts (--no-norm parameter). We use the 4 samples as replicates, adding the counts of the 4 sample for each site (-r Sum parameter)\n",
    "\n",
    "\n",
    "### Calculation of saturation indexes\n",
    "\n",
    "For now, we are only interested in repeating the analysis from Goodman et al. so we will ignore Transit predictions.\n",
    "\n",
    "\n",
    "We create a \"Gumbel dataframe\" object for easier manipulations down the line.\n",
    "The creation of Gumbel_df object import a tabulated file into a panda dataframe, rename the collumns, and calculate the saturation indexes.\n",
    "The saturation index of a gene is defined as the ratio of insertion on number of potential insertion sites."
   ]
  },
  {
   "cell_type": "code",
   "execution_count": 4,
   "metadata": {},
   "outputs": [],
   "source": [
    "class gumbel_df():\n",
    "    kind='Gumbel'\n",
    "    def __init__(self,file): #import the file, format dataframe, and add insertion rate \n",
    "        if isinstance(file,str) : \n",
    "            self.full=pd.read_csv(file, sep=\"\\t\", header=None, comment='#').fillna(value = '.')\n",
    "            # renaming the columns\n",
    "            self.full.rename(columns={0:'ID', 1:'name',2:'annot', 3:\"nbIns\",4:'nbsites',5:'r',6:'ovr',7:'span',8:'pval',9:'postprob',10:'call'},inplace=True)\n",
    "            self.full=self.full[self.full['nbsites']>0]\n",
    "            self.full['insRate']=self.full['nbIns']/self.full['nbsites']\n",
    "            self.binwidth=(2*scipy.stats.iqr(self.full.insRate))/(len(self.full.insRate)**(1.0/3.0))\n",
    "            self.nbbins=1/self.binwidth\n",
    "            self.full=self.full.replace('Non-essential','NE')\n",
    "            self.full=self.full.replace('Essential','E')\n",
    "        elif isinstance(file,gumbel_df) : \n",
    "            self.full=file.full.copy()\n",
    "            self.binwidth=file.binwidth\n",
    "            self.nbbins=file.nbbins\n",
    "        elif isinstance(file,pd.core.frame.DataFrame):\n",
    "            self.full=file.copy()\n",
    "            self.binwidth=(2*scipy.stats.iqr(self.full.insRate))/(len(self.full.insRate)**(1.0/3.0))\n",
    "            self.nbbins=1/self.binwidth\n",
    "    def get_ess(self,col) : # return essential genes for a collumn given in argument\n",
    "        return self.full[(self.full[col]=='E') | (self.full[col]=='ES') ]  \n",
    "    def get_ne(self,col) : # return non-essential genes for a collumn given in argument\n",
    "        return self.full[(self.full[col]=='NE') ] \n",
    "    def get_un(self,col) : # return undetermined genes for a collumn given in argument\n",
    "        return self.full[(self.full[col]=='U') ] \n",
    "    def copy(self):\n",
    "        new=gumbel_df(self)\n",
    "        return new\n"
   ]
  },
  {
   "cell_type": "code",
   "execution_count": 5,
   "metadata": {},
   "outputs": [],
   "source": [
    "DATA_DIR='Data/'"
   ]
  },
  {
   "cell_type": "code",
   "execution_count": 6,
   "metadata": {},
   "outputs": [],
   "source": [
    "transit= gumbel_df(DATA_DIR+'transit_results.tab')"
   ]
  },
  {
   "cell_type": "markdown",
   "metadata": {},
   "source": [
    "### Histogram of frequencies of index scores\n",
    "\n",
    "The histogram is plotted with a specific number of bins, following the Freedman-Diaconis rule. Freedman and Diaconis determined the ideal bin size calculation to minimize the difference between estimated and empirical distributions.\n",
    "\n",
    "The calculation of the optimal bin size is made according to the following formula : \n",
    "\n",
    "<center> ${\\displaystyle {\\text{Bin width}}=2\\,{{\\text{IQR}}(x) \\over {\\sqrt[{3}]{n}}}}$ </center>\n",
    "\n",
    "$IQR(x)$ is the interquartile range of the insertion indexes, and $n$ is the number of genes.\n",
    "\n",
    "This formula provides an ideal bin size, which will allow us to calculate the ideal bin number with the following formula :  \n",
    "\n",
    "<center> ${\\displaystyle {\\text{Number of bins}}= {\\text{Interval size} \\over \\text{Bin Width}}}$</center>\n",
    " \n",
    "Since we have an interval of size 1 (insertion indexes have values between 0 and 1), we have :\n",
    "\n",
    "<center> ${\\displaystyle {\\text{Number of bins}}= {1 \\over \\text{Bin Width}}}$</center>\n",
    "\n",
    "This number is calculated during the creation of a Gumbel Dataframe object:\n"
   ]
  },
  {
   "cell_type": "code",
   "execution_count": 7,
   "metadata": {},
   "outputs": [
    {
     "data": {
      "text/plain": [
       "61.068229400534776"
      ]
     },
     "execution_count": 7,
     "metadata": {},
     "output_type": "execute_result"
    }
   ],
   "source": [
    "transit.nbbins"
   ]
  },
  {
   "cell_type": "markdown",
   "metadata": {},
   "source": [
    "To plot the frequency of saturation indexes, we are using a probability density plot. \n",
    "This type of plot display the frequency of values such as the probability for a gene randomly picked in the population to have a saturation index between a and b is equal to the area under the curve of the probability density plot between a and b."
   ]
  },
  {
   "cell_type": "code",
   "execution_count": 8,
   "metadata": {},
   "outputs": [],
   "source": [
    "data=[float(i) for i in transit.full.insRate] #shape the insertion rate into a list of float"
   ]
  },
  {
   "cell_type": "code",
   "execution_count": 9,
   "metadata": {},
   "outputs": [
    {
     "data": {
      "image/png": "[encoded data removed]",
      "text/plain": [
       "<Figure size 432x288 with 1 Axes>"
      ]
     },
     "metadata": {
      "needs_background": "light"
     },
     "output_type": "display_data"
    }
   ],
   "source": [
    "y,x,_=plt.hist(data,int(transit.nbbins),alpha=1,label='data',facecolor=\"none\",edgecolor='black', density=True) "
   ]
  },
  {
   "cell_type": "code",
   "execution_count": 10,
   "metadata": {},
   "outputs": [
    {
     "data": {
      "text/plain": [
       "array([0.        , 0.01253616, 0.02507232, 0.03760849, 0.05014465,\n",
       "       0.06268081, 0.07521697, 0.08775313, 0.1002893 , 0.11282546,\n",
       "       0.12536162, 0.13789778, 0.15043394, 0.16297011, 0.17550627,\n",
       "       0.18804243, 0.20057859, 0.21311475, 0.22565092, 0.23818708,\n",
       "       0.25072324, 0.2632594 , 0.27579556, 0.28833173, 0.30086789,\n",
       "       0.31340405, 0.32594021, 0.33847637, 0.35101254, 0.3635487 ,\n",
       "       0.37608486, 0.38862102, 0.40115718, 0.41369335, 0.42622951,\n",
       "       0.43876567, 0.45130183, 0.46383799, 0.47637416, 0.48891032,\n",
       "       0.50144648, 0.51398264, 0.5265188 , 0.53905497, 0.55159113,\n",
       "       0.56412729, 0.57666345, 0.58919961, 0.60173578, 0.61427194,\n",
       "       0.6268081 , 0.63934426, 0.65188042, 0.66441659, 0.67695275,\n",
       "       0.68948891, 0.70202507, 0.71456123, 0.7270974 , 0.73963356,\n",
       "       0.75216972, 0.76470588])"
      ]
     },
     "execution_count": 10,
     "metadata": {},
     "output_type": "execute_result"
    }
   ],
   "source": [
    "x"
   ]
  },
  {
   "cell_type": "markdown",
   "metadata": {},
   "source": [
    "We are storing into x and y the density data : \n",
    "- x is the limits of bins\n",
    "- y is the density value of each bins\n",
    "\n",
    "\n",
    "### Fitting 2 distributions to the histogram\n",
    "\n",
    "x including the limits of the bins, it contain 1 more element than y. \n",
    "To perform a regression, we need a y for each x, so we are transforming x into a list of median value of each bin : "
   ]
  },
  {
   "cell_type": "code",
   "execution_count": 11,
   "metadata": {},
   "outputs": [],
   "source": [
    "x=(x[1:]+x[:-1])/2 # lower limit + higher limit divided by 2"
   ]
  },
  {
   "cell_type": "code",
   "execution_count": 12,
   "metadata": {},
   "outputs": [
    {
     "data": {
      "text/plain": [
       "array([0.00626808, 0.01880424, 0.03134041, 0.04387657, 0.05641273,\n",
       "       0.06894889, 0.08148505, 0.09402122, 0.10655738, 0.11909354,\n",
       "       0.1316297 , 0.14416586, 0.15670203, 0.16923819, 0.18177435,\n",
       "       0.19431051, 0.20684667, 0.21938284, 0.231919  , 0.24445516,\n",
       "       0.25699132, 0.26952748, 0.28206365, 0.29459981, 0.30713597,\n",
       "       0.31967213, 0.33220829, 0.34474446, 0.35728062, 0.36981678,\n",
       "       0.38235294, 0.3948891 , 0.40742527, 0.41996143, 0.43249759,\n",
       "       0.44503375, 0.45756991, 0.47010608, 0.48264224, 0.4951784 ,\n",
       "       0.50771456, 0.52025072, 0.53278689, 0.54532305, 0.55785921,\n",
       "       0.57039537, 0.58293153, 0.5954677 , 0.60800386, 0.62054002,\n",
       "       0.63307618, 0.64561234, 0.65814851, 0.67068467, 0.68322083,\n",
       "       0.69575699, 0.70829315, 0.72082932, 0.73336548, 0.74590164,\n",
       "       0.7584378 ])"
      ]
     },
     "execution_count": 12,
     "metadata": {},
     "output_type": "execute_result"
    }
   ],
   "source": [
    "x"
   ]
  },
  {
   "cell_type": "markdown",
   "metadata": {},
   "source": [
    "Now that we have the data of the saturation density, we will use it to identify the underlying distribution of essential and non-essential genes.\n",
    "We can see from the histogram that the saturation index have a bimodal distribution. A regression will allow us to fit one distribution to each mode. With the parameters estimated by the regression, we can calculate the probability of each gene to belong to one or the other distribution.\n",
    "\n",
    "\n",
    "I researched how to fit distributions to bimodal distributions, and found a couple of example of the curve_fit function from scipy. (https://www.geeksforgeeks.org/scipy-curve-fitting/, https://stackoverflow.com/questions/47110254/fitting-two-gaussians-on-less-expressed-bimodal-data/47133018, https://stackoverflow.com/questions/35990467/fit-two-gaussians-to-a-histogram-from-one-set-of-data-python)\n",
    "\n",
    "We are using the probability density function of the model distribution, as we have used the probability density function for the saturation disatribution.\n",
    "\n",
    "We start by defining the expected shape of the binomial distribution. A bimodal distribution pdf can be defined as the sum of two distribution pdf, such as the sum  of AUCs of the two pdfs equal 1 between 0 and 1.\n",
    "Here, we define our saturation index distribution as the sum of an exponential and a gamma distributions, as identified in Goodall et al."
   ]
  },
  {
   "cell_type": "code",
   "execution_count": 13,
   "metadata": {},
   "outputs": [],
   "source": [
    "def bimodal2(x,loc_expon, scale_expon, a_gamma ,loc_gamma, scale_gamma): \n",
    "    return stats.expon.pdf(x, loc_expon, scale_expon)+stats.gamma.pdf(x,a_gamma ,loc_gamma, scale_gamma)"
   ]
  },
  {
   "cell_type": "markdown",
   "metadata": {},
   "source": [
    "We also need to provide the expected parameters of the distribution. This allows the fitting method to anchor the research of true parameters. \n",
    "\n",
    "To determine these parameters, I researched the distributions and their parameters.\n",
    "\n",
    "Lets start with the exponential distribution (https://docs.scipy.org/doc/scipy/reference/generated/scipy.stats.expon.html)\n",
    "The standard probability function for the exponential distribution is $f(x)=exp(-x)$. \n",
    "\n",
    "The $loc$ parameter shift the distribution, and the scale parameter scale it such as \n",
    "\n",
    "${\\text{expon.pdf}(x,loc,scale)} =  { {{\\text{expon.pdf}}({{x-loc}\\over{scale}}) }  \\over {scale} }$\n",
    "\n",
    "The example in the manual page shows an exponential with the parameters $loc=0.5$ and $y=0.99$\n",
    "\n",
    "Let's see what is the result in our interval $[0,1]$\n"
   ]
  },
  {
   "cell_type": "code",
   "execution_count": 14,
   "metadata": {},
   "outputs": [
    {
     "data": {
      "text/plain": [
       "[<matplotlib.lines.Line2D at 0x11f95caf0>]"
      ]
     },
     "execution_count": 14,
     "metadata": {},
     "output_type": "execute_result"
    },
    {
     "data": {
      "image/png": "[encoded data removed]",
      "text/plain": [
       "<Figure size 432x288 with 1 Axes>"
      ]
     },
     "metadata": {
      "needs_background": "light"
     },
     "output_type": "display_data"
    }
   ],
   "source": [
    "plt.plot(x,stats.expon.pdf(x, 0.5, 0.999),color='red',lw=3,label='Exponential distribution')"
   ]
  },
  {
   "cell_type": "markdown",
   "metadata": {},
   "source": [
    "The highest point of this distribution is for x=0, let's see what happens if we chancge the loc parameter to 0"
   ]
  },
  {
   "cell_type": "code",
   "execution_count": 15,
   "metadata": {},
   "outputs": [
    {
     "data": {
      "text/plain": [
       "[<matplotlib.lines.Line2D at 0x11f9db610>]"
      ]
     },
     "execution_count": 15,
     "metadata": {},
     "output_type": "execute_result"
    },
    {
     "data": {
      "image/png": "[encoded data removed]",
      "text/plain": [
       "<Figure size 432x288 with 1 Axes>"
      ]
     },
     "metadata": {
      "needs_background": "light"
     },
     "output_type": "display_data"
    }
   ],
   "source": [
    "plt.plot(x,stats.expon.pdf(x, 0, 0.999),color='red',lw=3,label='Exponential distribution')"
   ]
  },
  {
   "cell_type": "markdown",
   "metadata": {},
   "source": [
    "This is better, but the slope is too mild, and the values too low (1 on the y axis instead of 3). Since the probability is divided by the scale, then reducing the scale should increase the values. Since the AUC is constant, increasing the value should increase the slope.\n",
    "Let's see "
   ]
  },
  {
   "cell_type": "code",
   "execution_count": 16,
   "metadata": {},
   "outputs": [
    {
     "data": {
      "text/plain": [
       "[<matplotlib.lines.Line2D at 0x11fb3f970>]"
      ]
     },
     "execution_count": 16,
     "metadata": {},
     "output_type": "execute_result"
    },
    {
     "data": {
      "image/png": "[encoded data removed]",
      "text/plain": [
       "<Figure size 432x288 with 1 Axes>"
      ]
     },
     "metadata": {
      "needs_background": "light"
     },
     "output_type": "display_data"
    }
   ],
   "source": [
    "plt.plot(x,stats.expon.pdf(x, 0, 0.5),color='red',lw=3,label='Exponential distribution')"
   ]
  },
  {
   "cell_type": "markdown",
   "metadata": {},
   "source": [
    "This is better, more in that direction :"
   ]
  },
  {
   "cell_type": "code",
   "execution_count": 17,
   "metadata": {},
   "outputs": [
    {
     "data": {
      "text/plain": [
       "[<matplotlib.lines.Line2D at 0x11fbb5c70>]"
      ]
     },
     "execution_count": 17,
     "metadata": {},
     "output_type": "execute_result"
    },
    {
     "data": {
      "image/png": "[encoded data removed]",
      "text/plain": [
       "<Figure size 432x288 with 1 Axes>"
      ]
     },
     "metadata": {
      "needs_background": "light"
     },
     "output_type": "display_data"
    }
   ],
   "source": [
    "plt.plot(x,stats.expon.pdf(x, 0, 0.05),color='red',lw=3,label='Exponential distribution')"
   ]
  },
  {
   "cell_type": "markdown",
   "metadata": {},
   "source": [
    "The slope angle looks good, but the y are too high, and the 0 point happens at a x too high. The highest point of the left mode of our distribution is between 2.5 and 3. This curve seem to reach this point at x=0.1 . Let's try to move the curve 0.1 to the left:"
   ]
  },
  {
   "cell_type": "code",
   "execution_count": 18,
   "metadata": {},
   "outputs": [
    {
     "data": {
      "text/plain": [
       "[<matplotlib.lines.Line2D at 0x11fd379a0>]"
      ]
     },
     "execution_count": 18,
     "metadata": {},
     "output_type": "execute_result"
    },
    {
     "data": {
      "image/png": "[encoded data removed]",
      "text/plain": [
       "<Figure size 432x288 with 1 Axes>"
      ]
     },
     "metadata": {
      "needs_background": "light"
     },
     "output_type": "display_data"
    }
   ],
   "source": [
    "plt.plot(x,stats.expon.pdf(x, -0.1, 0.05),color='red',lw=3,label='Exponential distribution')"
   ]
  },
  {
   "cell_type": "markdown",
   "metadata": {},
   "source": [
    "This looks good. Now we are doing the same thing with the gamma distribution : \n",
    "\n",
    "The pdf of gamma as a generalized form of : \n",
    "\n",
    "${{f}(x,a)} ={  {x^{a-1} \\text{exp}(-x)}  \\over  {\\Gamma(a)}   }$  \n",
    "\n",
    "where $\\Gamma(a)$ is the gamma function and  $a$ a shape parameter\n",
    "\n",
    "(https://docs.scipy.org/doc/scipy/reference/generated/scipy.stats.gamma.html)\n",
    "\n",
    "like the exponential distribution, the gamma distribution can be shifted or scaled with \n",
    "\n",
    "${\\text{gamma.pdf}(x,loc,scale)} =  { {{\\text{gamma.pdf}}({{x-loc}\\over{scale}},a) }  \\over {scale} }$\n",
    "\n",
    "The example in the manual of the function uses the parameters $a=1.99$, $loc=0.5$, and $scale=0.999$\n"
   ]
  },
  {
   "cell_type": "code",
   "execution_count": 19,
   "metadata": {},
   "outputs": [
    {
     "data": {
      "text/plain": [
       "[<matplotlib.lines.Line2D at 0x11fdb8ca0>]"
      ]
     },
     "execution_count": 19,
     "metadata": {},
     "output_type": "execute_result"
    },
    {
     "data": {
      "image/png": "[encoded data removed]",
      "text/plain": [
       "<Figure size 432x288 with 1 Axes>"
      ]
     },
     "metadata": {
      "needs_background": "light"
     },
     "output_type": "display_data"
    }
   ],
   "source": [
    "plt.plot(x,stats.gamma.pdf(x, 1.99,0.5, 0.999),color='red',lw=3,label='Gamma distribution')"
   ]
  },
  {
   "cell_type": "markdown",
   "metadata": {},
   "source": [
    "The function is equal to 0 until x is the value of the loc parameter. In our distribution, it looks like the distribution start increaseing at 0.05. Let's try using  $loc=0.05$. It also seems like we have the increase part of the distribution, and the rest is out of our interval. Let's try reducing it as well."
   ]
  },
  {
   "cell_type": "code",
   "execution_count": 20,
   "metadata": {},
   "outputs": [
    {
     "data": {
      "text/plain": [
       "[<matplotlib.lines.Line2D at 0x11ff35f70>]"
      ]
     },
     "execution_count": 20,
     "metadata": {},
     "output_type": "execute_result"
    },
    {
     "data": {
      "image/png": "[encoded data removed]",
      "text/plain": [
       "<Figure size 432x288 with 1 Axes>"
      ]
     },
     "metadata": {
      "needs_background": "light"
     },
     "output_type": "display_data"
    }
   ],
   "source": [
    "plt.plot(x,stats.gamma.pdf(x, 1.99,0.05, 0.5),color='red',lw=3,label='Gamma distribution')"
   ]
  },
  {
   "cell_type": "markdown",
   "metadata": {},
   "source": [
    "We now have a curve which seem to be a little to large, and with y values too low.\n",
    "To try and understand the the impact of the shape parameter $a$ on the curve, we can take a look at the wikipedia page for the gamma distribution (https://en.wikipedia.org/wiki/Gamma_distribution)\n",
    "\n",
    "We notice that the function we are using seem to lack a parameter, as the formula reported in wikipedia has two parameters. However, the second parameter is a scale parameter which is the scale parameter already included in the stats.gamma function.\n",
    "\n",
    "Indeed, if we compare the 2 formulas : \n",
    "\n",
    "Wikipedia : ${f(x,a,\\Theta)}={ {\\Theta^{a}x^{a-1}e^{-\\Theta x} }  \\over {\\Gamma(a)} }$\n",
    "\n",
    "stats.gamma : \n",
    "\n",
    "- ${{pdf}(x,a)} ={  {x^{a-1} \\text{e}(-x)}  \\over  {\\Gamma(a)}   }$  \n",
    "- ${\\text{gamma.pdf}(x,loc,scale)} =  { {{\\text{gamma.pdf}}(y,a) }  \\over {scale} }$\n",
    "- ${y}={{x-loc} \\over {scale} } $\n",
    "\n",
    "\n",
    "=>  ${{f}(x,a,loc,scale)} = {{  {y^{a-1} \\text{exp}(-y)}  \\over  {\\Gamma(a)}   } \\over {scale}}$  \n",
    "\n",
    "\n",
    "=> $ {f(x, a,loc,scale) }={{  { { {{x - loc} \\over { scale}}^{a-1} } {e^{{-(x-loc)} \\over {scale}}  }} \\over {\\Gamma(a)} } \\over {scale}} $\n",
    "\n",
    "\n",
    "=>  $ {f(x, a,loc,scale) } ={  {{{ (x - loc)^{a - 1} } \\over {scale^{a}}}  e^{{-(x - loc)}\\over{scale}}} \\over {\\Gamma(a)}  }$\n",
    "\n",
    "\n",
    "\n",
    "\n",
    " \n",
    " So if $loc=0$\n",
    "\n",
    "=>  $ {f(x, a,scale) } ={  {{{ x^{a - 1} } \\over {scale^{a}}} e^{{-x}\\over{scale}}} \\over {\\Gamma(a)}  }$\n",
    "\n",
    "\n",
    "=>  $ {f(x, a,scale) } ={  {{{ x^{a - 1} } \\over {scale^{a}}} } {{ e^{{-x}\\over{scale}}} \\over {\\Gamma(a)}  }}$\n",
    "\n",
    "\n",
    "\n",
    " if $scale =  {1\\over \\Theta}$ \n",
    " \n",
    "=>  $ {f(x, a,\\Theta) } ={  {{{{ x^{a - 1} } {\\Theta^{a}}} }{ e^{{-x}{\\Theta}}} \\over {\\Gamma(a)}  }}$\n",
    "\n",
    "Which is the formula found on wikipedia.\n",
    "\n",
    "We can then take a look at the gamma distribution shape, remembering that $k=a$ and $\\Theta={1 \\over scale}$\n",
    "\n",
    "\n",
    "\n",
    "\n"
   ]
  },
  {
   "cell_type": "markdown",
   "metadata": {},
   "source": [
    "<img src=\"../Images/Gamma_distribution_shape.png\" alt=\"Impact of parameters on the Gamma distribution shape\" style=\"width: 600px;\"/>"
   ]
  },
  {
   "cell_type": "markdown",
   "metadata": {},
   "source": [
    "We can see that, at $\\Theta$ egal, a higher $k$ ($a$)lead to a lower and wider 'bell' curve, and also seam to lead to less skew.A higher $\\Theta$ (so a lower scale) , seem to lead to higher and narrower \"bells\".\n",
    "\n",
    "The latest trial has a 'bell' curve too low and wide. Let's try then to reduce $a$ and $scale$. To simplify we will change on at a time. let's start with $a$ (we need to avoid a=1 and a integer, as they correspond to particular cases)"
   ]
  },
  {
   "cell_type": "code",
   "execution_count": 21,
   "metadata": {},
   "outputs": [
    {
     "data": {
      "text/plain": [
       "[<matplotlib.lines.Line2D at 0x11ffc1c70>]"
      ]
     },
     "execution_count": 21,
     "metadata": {},
     "output_type": "execute_result"
    },
    {
     "data": {
      "image/png": "[encoded data removed]",
      "text/plain": [
       "<Figure size 432x288 with 1 Axes>"
      ]
     },
     "metadata": {
      "needs_background": "light"
     },
     "output_type": "display_data"
    }
   ],
   "source": [
    "plt.plot(x,stats.gamma.pdf(x, 1.3,0.05, 0.5),color='red',lw=3,label='Gamma distribution')"
   ]
  },
  {
   "cell_type": "markdown",
   "metadata": {},
   "source": [
    "In this case, the curve is very skewed on the left, lets try to only change the scale"
   ]
  },
  {
   "cell_type": "code",
   "execution_count": 22,
   "metadata": {},
   "outputs": [
    {
     "data": {
      "text/plain": [
       "[<matplotlib.lines.Line2D at 0x11f942640>]"
      ]
     },
     "execution_count": 22,
     "metadata": {},
     "output_type": "execute_result"
    },
    {
     "data": {
      "image/png": "[encoded data removed]",
      "text/plain": [
       "<Figure size 432x288 with 1 Axes>"
      ]
     },
     "metadata": {
      "needs_background": "light"
     },
     "output_type": "display_data"
    }
   ],
   "source": [
    "plt.plot(x,stats.gamma.pdf(x, 1.99,0.05, 0.1),color='red',lw=3,label='Gamma distribution')"
   ]
  },
  {
   "cell_type": "markdown",
   "metadata": {},
   "source": [
    "The dimension of the curve seems better, we may need a bit higher and narrower still   "
   ]
  },
  {
   "cell_type": "code",
   "execution_count": 23,
   "metadata": {},
   "outputs": [
    {
     "data": {
      "text/plain": [
       "[<matplotlib.lines.Line2D at 0x11fea2c40>]"
      ]
     },
     "execution_count": 23,
     "metadata": {},
     "output_type": "execute_result"
    },
    {
     "data": {
      "image/png": "[encoded data removed]",
      "text/plain": [
       "<Figure size 432x288 with 1 Axes>"
      ]
     },
     "metadata": {
      "needs_background": "light"
     },
     "output_type": "display_data"
    }
   ],
   "source": [
    "plt.plot(x,stats.gamma.pdf(x, 1.99,0.05, 0.08),color='red',lw=3,label='Gamma distribution')"
   ]
  },
  {
   "cell_type": "markdown",
   "metadata": {},
   "source": [
    "Let's try the regression with these parameters as anchors for the bimodal distribution : \n",
    "\n",
    "\n"
   ]
  },
  {
   "cell_type": "code",
   "execution_count": 24,
   "metadata": {},
   "outputs": [],
   "source": [
    "expected=( -0.1, 0.05,1.99, 0.05, 0.08)\n"
   ]
  },
  {
   "cell_type": "markdown",
   "metadata": {},
   "source": [
    "We now run the curve_fit function, with the expected shape, the data to fit, and the expected parameters. The function return 2 arrays: one with the parameters, one with the covariances"
   ]
  },
  {
   "cell_type": "code",
   "execution_count": 25,
   "metadata": {},
   "outputs": [],
   "source": [
    "params,cov=curve_fit(bimodal2,x,y,expected) \n"
   ]
  },
  {
   "cell_type": "markdown",
   "metadata": {},
   "source": [
    "We use the covariances to calculate the standard deviations."
   ]
  },
  {
   "cell_type": "code",
   "execution_count": 26,
   "metadata": {},
   "outputs": [],
   "source": [
    "sigma=sqrt(diag(cov))"
   ]
  },
  {
   "cell_type": "code",
   "execution_count": 27,
   "metadata": {},
   "outputs": [
    {
     "data": {
      "text/plain": [
       "array([0.00837634, 0.00435514, 0.3950263 , 0.01013664, 0.00532531])"
      ]
     },
     "execution_count": 27,
     "metadata": {},
     "output_type": "execute_result"
    }
   ],
   "source": [
    "sigma"
   ]
  },
  {
   "cell_type": "code",
   "execution_count": 28,
   "metadata": {},
   "outputs": [],
   "source": [
    "#Creation of the parameter dataframe\n",
    "param_df=pd.DataFrame(data={'Parameters':params,'Sigma':sigma},index=bimodal2.__code__.co_varnames[1:])"
   ]
  },
  {
   "cell_type": "markdown",
   "metadata": {},
   "source": [
    "We now store the parameters and sigma in a dataframe, for easier manipulation:"
   ]
  },
  {
   "cell_type": "code",
   "execution_count": 29,
   "metadata": {},
   "outputs": [
    {
     "data": {
      "text/html": [
       "<div>\n",
       "<style scoped>\n",
       "    .dataframe tbody tr th:only-of-type {\n",
       "        vertical-align: middle;\n",
       "    }\n",
       "\n",
       "    .dataframe tbody tr th {\n",
       "        vertical-align: top;\n",
       "    }\n",
       "\n",
       "    .dataframe thead th {\n",
       "        text-align: right;\n",
       "    }\n",
       "</style>\n",
       "<table border=\"1\" class=\"dataframe\">\n",
       "  <thead>\n",
       "    <tr style=\"text-align: right;\">\n",
       "      <th></th>\n",
       "      <th>Parameters</th>\n",
       "      <th>Sigma</th>\n",
       "    </tr>\n",
       "  </thead>\n",
       "  <tbody>\n",
       "    <tr>\n",
       "      <th>loc_expon</th>\n",
       "      <td>-0.059444</td>\n",
       "      <td>0.008376</td>\n",
       "    </tr>\n",
       "    <tr>\n",
       "      <th>scale_expon</th>\n",
       "      <td>0.025213</td>\n",
       "      <td>0.004355</td>\n",
       "    </tr>\n",
       "    <tr>\n",
       "      <th>a_gamma</th>\n",
       "      <td>3.156730</td>\n",
       "      <td>0.395026</td>\n",
       "    </tr>\n",
       "    <tr>\n",
       "      <th>loc_gamma</th>\n",
       "      <td>0.052721</td>\n",
       "      <td>0.010137</td>\n",
       "    </tr>\n",
       "    <tr>\n",
       "      <th>scale_gamma</th>\n",
       "      <td>0.059513</td>\n",
       "      <td>0.005325</td>\n",
       "    </tr>\n",
       "  </tbody>\n",
       "</table>\n",
       "</div>"
      ],
      "text/plain": [
       "             Parameters     Sigma\n",
       "loc_expon     -0.059444  0.008376\n",
       "scale_expon    0.025213  0.004355\n",
       "a_gamma        3.156730  0.395026\n",
       "loc_gamma      0.052721  0.010137\n",
       "scale_gamma    0.059513  0.005325"
      ]
     },
     "execution_count": 29,
     "metadata": {},
     "output_type": "execute_result"
    }
   ],
   "source": [
    "param_df"
   ]
  },
  {
   "cell_type": "markdown",
   "metadata": {},
   "source": [
    "Let's take a look at how our estimated distribution fit with our data,"
   ]
  },
  {
   "cell_type": "code",
   "execution_count": 30,
   "metadata": {},
   "outputs": [],
   "source": [
    "loc_expon=param_df.loc['loc_expon','Parameters'] \n",
    "scale_expon=param_df.loc['scale_expon','Parameters'] \n",
    "a_gamma=param_df.loc['a_gamma','Parameters'] \n",
    "loc_gamma=param_df.loc['loc_gamma','Parameters'] \n",
    "scale_gamma=param_df.loc['scale_gamma','Parameters']"
   ]
  },
  {
   "cell_type": "code",
   "execution_count": 31,
   "metadata": {},
   "outputs": [
    {
     "data": {
      "image/png": "[encoded data removed]",
      "text/plain": [
       "<Figure size 720x360 with 1 Axes>"
      ]
     },
     "metadata": {
      "needs_background": "light"
     },
     "output_type": "display_data"
    }
   ],
   "source": [
    "fig=plt.figure(figsize=(10,5))\n",
    "y,x,_=plt.hist(data,int(transit.nbbins),alpha=1,label='Frequency of Gene Saturation indexes',facecolor=\"none\",edgecolor='black', density=True)\n",
    "plt.plot(x,stats.expon.pdf(x,loc_expon,scale_expon),color='red',lw=3,label='Exponential distribution')\n",
    "plt.plot(x,stats.gamma.pdf(x, a_gamma, loc_gamma, scale_gamma),color='blue',lw=3,label='Gamma Distribution')\n",
    "legend()\n",
    "plt.savefig('results/fitting.png')"
   ]
  },
  {
   "cell_type": "markdown",
   "metadata": {},
   "source": [
    "This look good. Now we will be using the estimated distribution to calculate the probability of each gene to belong to either distribution.\n",
    "\n",
    "\n",
    "### Relation between the prior probability and the posterior probability\n",
    "\n",
    "The Goodall and al. paper classifies a gene as non essential if $log_2({p(gamma|x)}\\over {p(expon|x)}) > 12$ , and essential if $log_2({p(gamma|x)}\\over {p(expon|x)}) < -12$\n",
    "\n",
    "WThe only probability we have from the regression, are the cumulative density function (cdf) of our distributions.\n",
    "\n",
    "$D.cdf(x)$ is the probability for an element of the distribution D to have a value equal of inferior to x.\n",
    "It can also be seen as the prior probability of x knowing that distribution D is true:  $p(x|D)$\n",
    "\n",
    "We are interested in the posterior probability of the distribution knowing x : $p(D|x)$\n",
    "\n",
    "According to the Baye's theorem, the relation between the two probabilities is : ${p(D|x)}={{ {p(x|D)} \\over {p(x)}} p{D}}$ \n",
    "\n",
    "with $p(x)$ the overall likelihood of the observation x. $p(x)$\n",
    "\n",
    "\n",
    "https://www.britannica.com/topic/Bayess-theorem\n",
    "\n",
    "---------------------------------------------------\n"
   ]
  },
  {
   "cell_type": "markdown",
   "metadata": {},
   "source": [
    "### Bayes for continuous"
   ]
  },
  {
   "cell_type": "markdown",
   "metadata": {},
   "source": [
    "To calculate the probability of genes to belong to each distribution, we use a bayes classifier (https://xavierbourretsicotte.github.io/Optimal_Bayes_Classifier.html), that calculates the score for each gene. The score is calculated using the pdf (probability density function), wich provide the relative likelihood of a value to belong to the population(or posterior probability https://en.wikipedia.org/wiki/Probability_density_function) :"
   ]
  },
  {
   "cell_type": "code",
   "execution_count": 32,
   "metadata": {},
   "outputs": [],
   "source": [
    "def predict_Bayes_class(dataframe,loc_expon, scale_expon, a_gamma ,loc_gamma, scale_gamma): \n",
    "    #Returns the predicted class from an optimal bayes classifier - distributions must be known\n",
    "    X=dataframe.insRate\n",
    "    scoreES = scipy.stats.expon.pdf(X,loc_expon, scale_expon)\n",
    "    dataframe['score_ES']=scoreES\n",
    "    scoreNE = scipy.stats.gamma.pdf(X,a_gamma ,loc_gamma, scale_gamma)\n",
    "    dataframe['score_NE']=scoreNE\n",
    "    return dataframe"
   ]
  },
  {
   "cell_type": "code",
   "execution_count": 33,
   "metadata": {},
   "outputs": [],
   "source": [
    "transit.full=predict_Bayes_class(transit.full,loc_expon, scale_expon, a_gamma ,loc_gamma, scale_gamma)"
   ]
  },
  {
   "cell_type": "markdown",
   "metadata": {},
   "source": [
    "We caompute the ratio of probabilities, then the log_2 of the ration, and finally the classification using a threshold 12:"
   ]
  },
  {
   "cell_type": "code",
   "execution_count": 34,
   "metadata": {},
   "outputs": [],
   "source": [
    "transit.full['bayes_ratio']=transit.full['score_ES']/transit.full['score_NE']"
   ]
  },
  {
   "cell_type": "code",
   "execution_count": 35,
   "metadata": {},
   "outputs": [],
   "source": [
    "transit.full['bayes_log']='.'\n",
    "for i,row in transit.full.iterrows():\n",
    "    transit.full.loc[i,'bayes_log']=math.log(transit.full.loc[i,'bayes_ratio'],2)\n"
   ]
  },
  {
   "cell_type": "code",
   "execution_count": 36,
   "metadata": {},
   "outputs": [],
   "source": [
    "transit.full['Bayes_class']='U'\n",
    "for i,row in transit.full[transit.full.bayes_log>=12.0].iterrows():\n",
    "    transit.full.loc[i,'Bayes_class']='ES'\n",
    "for i,row in transit.full[transit.full.bayes_log<=-12.0].iterrows():\n",
    "    transit.full.loc[i,'Bayes_class']='NE'"
   ]
  },
  {
   "cell_type": "markdown",
   "metadata": {},
   "source": [
    "Predicted essential genes:"
   ]
  },
  {
   "cell_type": "code",
   "execution_count": 37,
   "metadata": {},
   "outputs": [
    {
     "data": {
      "text/html": [
       "<div>\n",
       "<style scoped>\n",
       "    .dataframe tbody tr th:only-of-type {\n",
       "        vertical-align: middle;\n",
       "    }\n",
       "\n",
       "    .dataframe tbody tr th {\n",
       "        vertical-align: top;\n",
       "    }\n",
       "\n",
       "    .dataframe thead th {\n",
       "        text-align: right;\n",
       "    }\n",
       "</style>\n",
       "<table border=\"1\" class=\"dataframe\">\n",
       "  <thead>\n",
       "    <tr style=\"text-align: right;\">\n",
       "      <th></th>\n",
       "      <th>ID</th>\n",
       "      <th>name</th>\n",
       "      <th>annot</th>\n",
       "      <th>nbIns</th>\n",
       "      <th>nbsites</th>\n",
       "      <th>r</th>\n",
       "      <th>ovr</th>\n",
       "      <th>span</th>\n",
       "      <th>pval</th>\n",
       "      <th>postprob</th>\n",
       "      <th>call</th>\n",
       "      <th>insRate</th>\n",
       "      <th>score_ES</th>\n",
       "      <th>score_NE</th>\n",
       "      <th>bayes_ratio</th>\n",
       "      <th>bayes_log</th>\n",
       "      <th>Bayes_class</th>\n",
       "    </tr>\n",
       "  </thead>\n",
       "  <tbody>\n",
       "    <tr>\n",
       "      <th>20</th>\n",
       "      <td>BW25113_0023</td>\n",
       "      <td>rpsT</td>\n",
       "      <td>-</td>\n",
       "      <td>2</td>\n",
       "      <td>261</td>\n",
       "      <td>139</td>\n",
       "      <td>142</td>\n",
       "      <td>190</td>\n",
       "      <td>0.00000</td>\n",
       "      <td>0.00000</td>\n",
       "      <td>E</td>\n",
       "      <td>0.007663</td>\n",
       "      <td>2.769832</td>\n",
       "      <td>0.0</td>\n",
       "      <td>inf</td>\n",
       "      <td>inf</td>\n",
       "      <td>ES</td>\n",
       "    </tr>\n",
       "    <tr>\n",
       "      <th>22</th>\n",
       "      <td>BW25113_0025</td>\n",
       "      <td>ribF</td>\n",
       "      <td>-</td>\n",
       "      <td>14</td>\n",
       "      <td>939</td>\n",
       "      <td>284</td>\n",
       "      <td>284</td>\n",
       "      <td>284</td>\n",
       "      <td>0.00000</td>\n",
       "      <td>0.00000</td>\n",
       "      <td>E</td>\n",
       "      <td>0.014909</td>\n",
       "      <td>2.077920</td>\n",
       "      <td>0.0</td>\n",
       "      <td>inf</td>\n",
       "      <td>inf</td>\n",
       "      <td>ES</td>\n",
       "    </tr>\n",
       "    <tr>\n",
       "      <th>23</th>\n",
       "      <td>BW25113_0026</td>\n",
       "      <td>ileS</td>\n",
       "      <td>isoleucine tRNA synthetase</td>\n",
       "      <td>25</td>\n",
       "      <td>2814</td>\n",
       "      <td>450</td>\n",
       "      <td>450</td>\n",
       "      <td>450</td>\n",
       "      <td>0.00000</td>\n",
       "      <td>0.00000</td>\n",
       "      <td>E</td>\n",
       "      <td>0.008884</td>\n",
       "      <td>2.638858</td>\n",
       "      <td>0.0</td>\n",
       "      <td>inf</td>\n",
       "      <td>inf</td>\n",
       "      <td>ES</td>\n",
       "    </tr>\n",
       "    <tr>\n",
       "      <th>24</th>\n",
       "      <td>BW25113_0027</td>\n",
       "      <td>lspA</td>\n",
       "      <td>prolipoprotein signal peptidase (SPase II)</td>\n",
       "      <td>8</td>\n",
       "      <td>492</td>\n",
       "      <td>148</td>\n",
       "      <td>148</td>\n",
       "      <td>148</td>\n",
       "      <td>0.00000</td>\n",
       "      <td>0.00000</td>\n",
       "      <td>E</td>\n",
       "      <td>0.016260</td>\n",
       "      <td>1.969532</td>\n",
       "      <td>0.0</td>\n",
       "      <td>inf</td>\n",
       "      <td>inf</td>\n",
       "      <td>ES</td>\n",
       "    </tr>\n",
       "    <tr>\n",
       "      <th>26</th>\n",
       "      <td>BW25113_0029</td>\n",
       "      <td>ispH</td>\n",
       "      <td>-</td>\n",
       "      <td>12</td>\n",
       "      <td>948</td>\n",
       "      <td>290</td>\n",
       "      <td>290</td>\n",
       "      <td>290</td>\n",
       "      <td>0.00000</td>\n",
       "      <td>0.00000</td>\n",
       "      <td>E</td>\n",
       "      <td>0.012658</td>\n",
       "      <td>2.271993</td>\n",
       "      <td>0.0</td>\n",
       "      <td>inf</td>\n",
       "      <td>inf</td>\n",
       "      <td>ES</td>\n",
       "    </tr>\n",
       "    <tr>\n",
       "      <th>...</th>\n",
       "      <td>...</td>\n",
       "      <td>...</td>\n",
       "      <td>...</td>\n",
       "      <td>...</td>\n",
       "      <td>...</td>\n",
       "      <td>...</td>\n",
       "      <td>...</td>\n",
       "      <td>...</td>\n",
       "      <td>...</td>\n",
       "      <td>...</td>\n",
       "      <td>...</td>\n",
       "      <td>...</td>\n",
       "      <td>...</td>\n",
       "      <td>...</td>\n",
       "      <td>...</td>\n",
       "      <td>...</td>\n",
       "      <td>...</td>\n",
       "    </tr>\n",
       "    <tr>\n",
       "      <th>4258</th>\n",
       "      <td>BW25113_4621</td>\n",
       "      <td>yjbS</td>\n",
       "      <td>-</td>\n",
       "      <td>5</td>\n",
       "      <td>201</td>\n",
       "      <td>104</td>\n",
       "      <td>104</td>\n",
       "      <td>104</td>\n",
       "      <td>0.00001</td>\n",
       "      <td>0.00017</td>\n",
       "      <td>E</td>\n",
       "      <td>0.024876</td>\n",
       "      <td>1.399459</td>\n",
       "      <td>0.0</td>\n",
       "      <td>inf</td>\n",
       "      <td>inf</td>\n",
       "      <td>ES</td>\n",
       "    </tr>\n",
       "    <tr>\n",
       "      <th>4274</th>\n",
       "      <td>BW25113_4672</td>\n",
       "      <td>ymiB</td>\n",
       "      <td>-</td>\n",
       "      <td>3</td>\n",
       "      <td>102</td>\n",
       "      <td>40</td>\n",
       "      <td>40</td>\n",
       "      <td>40</td>\n",
       "      <td>1.00000</td>\n",
       "      <td>1.00000</td>\n",
       "      <td>NE</td>\n",
       "      <td>0.029412</td>\n",
       "      <td>1.169027</td>\n",
       "      <td>0.0</td>\n",
       "      <td>inf</td>\n",
       "      <td>inf</td>\n",
       "      <td>ES</td>\n",
       "    </tr>\n",
       "    <tr>\n",
       "      <th>4275</th>\n",
       "      <td>BW25113_4674</td>\n",
       "      <td>ynbG</td>\n",
       "      <td>-</td>\n",
       "      <td>0</td>\n",
       "      <td>63</td>\n",
       "      <td>63</td>\n",
       "      <td>66</td>\n",
       "      <td>212</td>\n",
       "      <td>0.00000</td>\n",
       "      <td>0.00000</td>\n",
       "      <td>E</td>\n",
       "      <td>0.000000</td>\n",
       "      <td>3.753592</td>\n",
       "      <td>0.0</td>\n",
       "      <td>inf</td>\n",
       "      <td>inf</td>\n",
       "      <td>ES</td>\n",
       "    </tr>\n",
       "    <tr>\n",
       "      <th>4278</th>\n",
       "      <td>BW25113_4677</td>\n",
       "      <td>yobI</td>\n",
       "      <td>-</td>\n",
       "      <td>2</td>\n",
       "      <td>63</td>\n",
       "      <td>39</td>\n",
       "      <td>39</td>\n",
       "      <td>68</td>\n",
       "      <td>0.07793</td>\n",
       "      <td>0.58730</td>\n",
       "      <td>NE</td>\n",
       "      <td>0.031746</td>\n",
       "      <td>1.065654</td>\n",
       "      <td>0.0</td>\n",
       "      <td>inf</td>\n",
       "      <td>inf</td>\n",
       "      <td>ES</td>\n",
       "    </tr>\n",
       "    <tr>\n",
       "      <th>4282</th>\n",
       "      <td>BW25113_4682</td>\n",
       "      <td>yqcG</td>\n",
       "      <td>-</td>\n",
       "      <td>7</td>\n",
       "      <td>138</td>\n",
       "      <td>37</td>\n",
       "      <td>37</td>\n",
       "      <td>37</td>\n",
       "      <td>1.00000</td>\n",
       "      <td>1.00000</td>\n",
       "      <td>NE</td>\n",
       "      <td>0.050725</td>\n",
       "      <td>0.502003</td>\n",
       "      <td>0.0</td>\n",
       "      <td>inf</td>\n",
       "      <td>inf</td>\n",
       "      <td>ES</td>\n",
       "    </tr>\n",
       "  </tbody>\n",
       "</table>\n",
       "<p>364 rows × 17 columns</p>\n",
       "</div>"
      ],
      "text/plain": [
       "                ID  name                                       annot  nbIns  \\\n",
       "20    BW25113_0023  rpsT                                           -      2   \n",
       "22    BW25113_0025  ribF                                           -     14   \n",
       "23    BW25113_0026  ileS                  isoleucine tRNA synthetase     25   \n",
       "24    BW25113_0027  lspA  prolipoprotein signal peptidase (SPase II)      8   \n",
       "26    BW25113_0029  ispH                                           -     12   \n",
       "...            ...   ...                                         ...    ...   \n",
       "4258  BW25113_4621  yjbS                                           -      5   \n",
       "4274  BW25113_4672  ymiB                                           -      3   \n",
       "4275  BW25113_4674  ynbG                                           -      0   \n",
       "4278  BW25113_4677  yobI                                           -      2   \n",
       "4282  BW25113_4682  yqcG                                           -      7   \n",
       "\n",
       "      nbsites    r  ovr  span     pval  postprob call   insRate  score_ES  \\\n",
       "20        261  139  142   190  0.00000   0.00000    E  0.007663  2.769832   \n",
       "22        939  284  284   284  0.00000   0.00000    E  0.014909  2.077920   \n",
       "23       2814  450  450   450  0.00000   0.00000    E  0.008884  2.638858   \n",
       "24        492  148  148   148  0.00000   0.00000    E  0.016260  1.969532   \n",
       "26        948  290  290   290  0.00000   0.00000    E  0.012658  2.271993   \n",
       "...       ...  ...  ...   ...      ...       ...  ...       ...       ...   \n",
       "4258      201  104  104   104  0.00001   0.00017    E  0.024876  1.399459   \n",
       "4274      102   40   40    40  1.00000   1.00000   NE  0.029412  1.169027   \n",
       "4275       63   63   66   212  0.00000   0.00000    E  0.000000  3.753592   \n",
       "4278       63   39   39    68  0.07793   0.58730   NE  0.031746  1.065654   \n",
       "4282      138   37   37    37  1.00000   1.00000   NE  0.050725  0.502003   \n",
       "\n",
       "      score_NE  bayes_ratio bayes_log Bayes_class  \n",
       "20         0.0          inf       inf          ES  \n",
       "22         0.0          inf       inf          ES  \n",
       "23         0.0          inf       inf          ES  \n",
       "24         0.0          inf       inf          ES  \n",
       "26         0.0          inf       inf          ES  \n",
       "...        ...          ...       ...         ...  \n",
       "4258       0.0          inf       inf          ES  \n",
       "4274       0.0          inf       inf          ES  \n",
       "4275       0.0          inf       inf          ES  \n",
       "4278       0.0          inf       inf          ES  \n",
       "4282       0.0          inf       inf          ES  \n",
       "\n",
       "[364 rows x 17 columns]"
      ]
     },
     "execution_count": 37,
     "metadata": {},
     "output_type": "execute_result"
    }
   ],
   "source": [
    "transit.get_ess('Bayes_class')"
   ]
  },
  {
   "cell_type": "markdown",
   "metadata": {},
   "source": [
    "### Comparison with the paper results\n",
    "\n",
    "We import the paper results in the dataframe"
   ]
  },
  {
   "cell_type": "code",
   "execution_count": 38,
   "metadata": {},
   "outputs": [],
   "source": [
    "paper=pd.read_csv(DATA_DIR+'Goodall_results.csv', sep=\",\", header=1, comment='#').fillna(value = '.')\n",
    "\n",
    "transit.full['paper']='NA'\n",
    "for i,row in transit.full.iterrows():\n",
    "    name=str(row['name'])\n",
    "    essentiality = paper[paper[\"Gene\"]==name].Essential\n",
    "    unclear = paper[paper[\"Gene\"]==name].Unclear\n",
    "    if len(essentiality)==1:\n",
    "        if unclear.values[0]==True:\n",
    "            transit.full.loc[i,'paper']=\"U\"\n",
    "        elif essentiality.values[0]==True:\n",
    "            transit.full.loc[i,'paper']=\"ES\"\n",
    "        else:\n",
    "            transit.full.loc[i,'paper']=\"NE\"\n",
    "    elif len(essentiality)>1 :\n",
    "        if [x for x in unclear][0]==True:\n",
    "            transit.full.loc[i,'paper']=\"U\"\n",
    "        elif [x for x in essentiality][0]==True:\n",
    "            transit.full.loc[i,'paper']=\"ES\"\n",
    "        else:\n",
    "            transit.full.loc[i,'paper']=\"NE\"\n",
    "    else :\n",
    "        transit.full.loc[i,'paper']=\".\"\n",
    "\n"
   ]
  },
  {
   "cell_type": "code",
   "execution_count": 39,
   "metadata": {},
   "outputs": [
    {
     "data": {
      "image/png": "[encoded data removed]",
      "text/plain": [
       "<Figure size 432x288 with 1 Axes>"
      ]
     },
     "metadata": {},
     "output_type": "display_data"
    }
   ],
   "source": [
    "venn2( [set(transit.get_ess('Bayes_class').name),set(transit.get_ess('paper').name)],set_labels = ('Regression','Paper'))\n",
    "plt.savefig('results/venn_temp.png')"
   ]
  },
  {
   "cell_type": "markdown",
   "metadata": {},
   "source": [
    "### Add KEio predicion of essentiality <a id='add_keio'></a>"
   ]
  },
  {
   "cell_type": "code",
   "execution_count": 40,
   "metadata": {},
   "outputs": [],
   "source": [
    "keio=pd.read_csv(DATA_DIR+'Keio_essential.csv', sep=\",\", header=1, comment='#').fillna(value = '.')\n",
    "\n"
   ]
  },
  {
   "cell_type": "code",
   "execution_count": 41,
   "metadata": {},
   "outputs": [],
   "source": [
    "for i in [str(x) for x in keio.columns]:\n",
    "    nam=re.sub(r\"[0-9]\\..\", \"\", i)\n",
    "    keio.rename(columns={i:nam},inplace=True)\n"
   ]
  },
  {
   "cell_type": "code",
   "execution_count": 42,
   "metadata": {},
   "outputs": [],
   "source": [
    "keio_ess=pysqldf(\"SELECT * FROM keio where gene!='.' AND gene!='none'\")"
   ]
  },
  {
   "cell_type": "code",
   "execution_count": 43,
   "metadata": {},
   "outputs": [],
   "source": [
    "keio_ess_list=[str(x) for x in keio_ess.gene]"
   ]
  },
  {
   "cell_type": "code",
   "execution_count": 44,
   "metadata": {},
   "outputs": [],
   "source": [
    "transit_wk=transit"
   ]
  },
  {
   "cell_type": "code",
   "execution_count": 45,
   "metadata": {},
   "outputs": [],
   "source": [
    "transit_wk.full['keio']='NA'\n",
    "for i,row in transit_wk.full.iterrows():\n",
    "    name=str(row['name'])\n",
    "    if name in keio_ess_list :\n",
    "        transit_wk.full.loc[i,'keio']=\"ES\"\n",
    "    else:\n",
    "        transit_wk.full.loc[i,'keio']=\"NE\"\n",
    "\n"
   ]
  },
  {
   "cell_type": "markdown",
   "metadata": {},
   "source": [
    "### Add PEC prediction of essentiality <a id='add_pec'></a>"
   ]
  },
  {
   "cell_type": "code",
   "execution_count": 46,
   "metadata": {},
   "outputs": [],
   "source": [
    "pec=pd.read_csv(DATA_DIR+'PECData.dat', sep=\"\\t\", header=0, comment='#').fillna(value = '.')\n"
   ]
  },
  {
   "cell_type": "code",
   "execution_count": 47,
   "metadata": {},
   "outputs": [],
   "source": [
    "for i in [str(x) for x in pec.columns]:\n",
    "    nam=re.sub(r\"\\(.+\\)\", \"\", i)\n",
    "    pec.rename(columns={i:nam},inplace=True)\n"
   ]
  },
  {
   "cell_type": "code",
   "execution_count": 48,
   "metadata": {},
   "outputs": [],
   "source": [
    "transit_all=transit_wk"
   ]
  },
  {
   "cell_type": "code",
   "execution_count": 49,
   "metadata": {
    "scrolled": true
   },
   "outputs": [],
   "source": [
    "transit_all.full['pec']='NA'\n",
    "for i,row in transit_all.full.iterrows():\n",
    "    name=str(row['name'])\n",
    "    essentiality = pec[pec[\"Orf\"]==name].Class\n",
    "    if len(essentiality)==1:\n",
    "        pred=essentiality.values[0]\n",
    "        if pred==1:\n",
    "            transit_all.full.loc[i,'pec']=\"ES\"\n",
    "        elif pred==2:\n",
    "            transit_all.full.loc[i,'pec']=\"NE\"\n",
    "        elif pred==3:\n",
    "            transit_all.full.loc[i,'pec']=\"U\"\n",
    "    elif len(essentiality)>1:\n",
    "        pred=[x for x in essentiality][0]\n",
    "        if pred==1:\n",
    "            transit_all.full.loc[i,'pec']=\"ES\"\n",
    "        elif pred==2:\n",
    "            transit_all.full.loc[i,'pec']=\"NE\"\n",
    "        elif pred==3:\n",
    "            transit_all.full.loc[i,'pec']=\"U\"\n",
    "    else :\n",
    "        transit_all.full.loc[i,'pec']=\".\"\n"
   ]
  },
  {
   "cell_type": "markdown",
   "metadata": {},
   "source": [
    "### Add Bio-Tradis prediction of essentiality <a id='add_pec'></a>"
   ]
  },
  {
   "cell_type": "code",
   "execution_count": 50,
   "metadata": {},
   "outputs": [],
   "source": [
    "biotrad_ess=pd.read_csv(DATA_DIR+'Biotradis.essen.csv', usecols=range(11), sep=\",\", header=0, comment='#').fillna(value = '.')\n",
    "biotrad_ambig=pd.read_csv(DATA_DIR+'Biotradis.ambig.csv', usecols=range(11), sep=\",\", header=0, comment='#').fillna(value = '.')\n",
    "biotrad_all=pd.read_csv(DATA_DIR+'Biotradis.all.csv', usecols=range(11), sep=\",\", header=0, comment='#').fillna(value = '.')"
   ]
  },
  {
   "cell_type": "code",
   "execution_count": 51,
   "metadata": {},
   "outputs": [],
   "source": [
    "transit_all.full['biotradis']='NA'\n",
    "for i,row in transit_all.full.iterrows():\n",
    "    if row.ID in biotrad_ess.locus_tag.values:\n",
    "        transit_all.full.loc[i,'biotradis']='ES'\n",
    "    elif row.ID in biotrad_ambig.locus_tag.values:\n",
    "        transit_all.full.loc[i,'biotradis']='U'\n",
    "    elif row.ID in biotrad_all.locus_tag.values:\n",
    "        transit_all.full.loc[i,'biotradis']='NE'"
   ]
  },
  {
   "cell_type": "markdown",
   "metadata": {},
   "source": [
    "### Calssification with Threshold =4"
   ]
  },
  {
   "cell_type": "code",
   "execution_count": 52,
   "metadata": {},
   "outputs": [],
   "source": [
    "transit.full['Bayes_class_4']='U'\n",
    "for i,row in transit.full[transit.full.bayes_log>=4.0].iterrows():\n",
    "    transit.full.loc[i,'Bayes_class_4']='ES'\n",
    "for i,row in transit.full[transit.full.bayes_log<=-4.0].iterrows():\n",
    "    transit.full.loc[i,'Bayes_class_4']='NE'"
   ]
  },
  {
   "cell_type": "markdown",
   "metadata": {},
   "source": [
    "Saving the resulting dataframe"
   ]
  },
  {
   "cell_type": "code",
   "execution_count": 53,
   "metadata": {},
   "outputs": [],
   "source": [
    "transit.full.to_csv(\"results/tradis_results_all_studies.tab\", sep=\"\\t\")"
   ]
  },
  {
   "cell_type": "markdown",
   "metadata": {},
   "source": [
    "## Upset Plots"
   ]
  },
  {
   "cell_type": "markdown",
   "metadata": {},
   "source": [
    "Get sets of essential genes for each method"
   ]
  },
  {
   "cell_type": "code",
   "execution_count": 54,
   "metadata": {},
   "outputs": [],
   "source": [
    "set_paper=set(transit_all.get_ess('paper').name)\n",
    "set_transit=set(transit_all.get_ess('call').name)\n",
    "set_bayes_12=set(transit_all.get_ess('Bayes_class').name)\n",
    "set_bayes_4=set(transit_all.get_ess('Bayes_class_4').name)\n",
    "set_pec=set(transit_all.get_ess('pec').name)\n",
    "set_keio=set(transit_all.get_ess('keio').name)\n",
    "set_biotradis=set(transit_all.get_ess('biotradis').name)\n"
   ]
  },
  {
   "cell_type": "markdown",
   "metadata": {},
   "source": [
    "Data to use :\n",
    "- list of genes belonging to a set \n",
    "- name of a set ('Regression Threshold=12', 'Transit'...)\n",
    "- name of a combination (A, AB, AC, BC, ABC..)\n",
    "- size of set intersections\n",
    "\n",
    "Setting dictionnaries to organize the intersection data : \n",
    "- dic_set : Atttach the name to the list of gene for all set combinations\n",
    "- dic_com : Attach the labels to the names of all combinations\n",
    "- dic_name : Attach the name to the Label of single sets\n",
    "- dic tot : Contain the size of sets for all combinations\n",
    "\n"
   ]
  },
  {
   "cell_type": "code",
   "execution_count": 55,
   "metadata": {},
   "outputs": [],
   "source": [
    "dic_sets={}\n",
    "dic_comb={}\n",
    "dic_name={}\n",
    "dic_tot={}\n",
    "dic_name['A']='Paper'\n",
    "dic_name['B']='Transit'\n",
    "dic_name['C']='Reg X=12'\n",
    "dic_name['D']='Reg X=4'\n",
    "dic_name['E']='PEC'\n",
    "dic_name['F']='Keio'\n",
    "dic_name['G']='Bio-Tradis'\n",
    "dic_sets['Paper']=set(set_paper)\n",
    "dic_sets['Transit']=set(set_transit)\n",
    "dic_sets['Reg X=12']=set(set_bayes_12)\n",
    "dic_sets['Reg X=4']=set(set_bayes_4)\n",
    "dic_sets['PEC']=set(set_pec)\n",
    "dic_sets['Keio']=set(set_keio)\n",
    "dic_sets['Bio-Tradis']=set(set_biotradis)"
   ]
  },
  {
   "cell_type": "markdown",
   "metadata": {},
   "source": [
    "Creation of a dictionnary containing all possible combination between the members of a list. Key is a combination name, values is the list of labels contained in the combination"
   ]
  },
  {
   "cell_type": "code",
   "execution_count": 56,
   "metadata": {},
   "outputs": [],
   "source": [
    "stuff=['A','C','E','F']\n",
    "for i in stuff:\n",
    "    dic_comb[i]=dic_name[i]\n",
    "for i in range(0, len(stuff)+1):\n",
    "    for subset in itertools.combinations(stuff, i):\n",
    "        if len(subset)>1:\n",
    "            dic_comb[\"\".join(subset)]=[dic_name[i] for i in subset]\n",
    "        elif len(subset)==1:\n",
    "            dic_comb[\"\".join(subset)]=[dic_name[subset[0]]]\n",
    "        else:\n",
    "            dic_comb[\"\".join(subset)]=[]"
   ]
  },
  {
   "cell_type": "markdown",
   "metadata": {},
   "source": [
    "Calculation of intersection sets, and theiir sizes. A combination ABC in a space containing A,B,C, and D is the intersection of A, B, and C ensembles, excluding the genes belonging to D."
   ]
  },
  {
   "cell_type": "code",
   "execution_count": 57,
   "metadata": {},
   "outputs": [],
   "source": [
    "for i in dic_comb.keys():\n",
    "    if len(dic_comb[i])>1:\n",
    "        intset=dic_sets[dic_comb[i][0]]\n",
    "        for j in dic_comb[i][1:]:\n",
    "            intset=intset.intersection(dic_sets[j])\n",
    "        compl=[x for x in np.setdiff1d(dic_comb['ACEF'],dic_comb[i])]\n",
    "        for k in compl:\n",
    "            intset=intset.difference(dic_sets[k])\n",
    "    elif len(dic_comb[i])==1:\n",
    "        intset=dic_sets[dic_comb[i][0]]\n",
    "        compl=[i for i in np.setdiff1d(dic_comb['ACEF'],dic_comb[i])]\n",
    "        for k in compl:\n",
    "            intset=intset.difference(dic_sets[k])\n",
    "    else:\n",
    "        intset=[]\n",
    "    dic_tot[i]=len(intset)"
   ]
  },
  {
   "cell_type": "markdown",
   "metadata": {},
   "source": [
    "Creation of a lists containing :\n",
    "- The list of combination labels list\n",
    "- The list of combination set size\n",
    "\n",
    "These list are input to the 'from_memberships' function that create the matrix to input to the upset plot."
   ]
  },
  {
   "cell_type": "code",
   "execution_count": 58,
   "metadata": {},
   "outputs": [],
   "source": [
    "values=[i[1] for i in sorted(dic_tot.items(),key =  lambda kv:(kv[1])  , reverse=True  )]\n",
    "combin=[dic_comb[i[0]] for i in sorted(dic_tot.items(),key =  lambda kv:(kv[1])  , reverse=True  )]\n",
    "transit_upset = from_memberships(combin,data=values)"
   ]
  },
  {
   "cell_type": "code",
   "execution_count": 59,
   "metadata": {},
   "outputs": [
    {
     "data": {
      "text/plain": [
       "Keio   PEC    Paper  Reg X=12\n",
       "True   True   True   True        230\n",
       "False  False  True   True         66\n",
       "       True   True   True         35\n",
       "True   False  False  False        15\n",
       "       True   False  False        14\n",
       "False  True   False  True         13\n",
       "       False  True   False        10\n",
       "              False  True         10\n",
       "True   False  True   True         10\n",
       "False  True   False  False         8\n",
       "True   True   True   False         2\n",
       "False  False  False  False         0\n",
       "       True   True   False         0\n",
       "True   False  True   False         0\n",
       "              False  True          0\n",
       "       True   False  True          0\n",
       "dtype: int64"
      ]
     },
     "execution_count": 59,
     "metadata": {},
     "output_type": "execute_result"
    }
   ],
   "source": [
    "transit_upset"
   ]
  },
  {
   "cell_type": "markdown",
   "metadata": {},
   "source": [
    "#### Plot of the upSet plot. \n",
    "\n",
    "The plots can be organised by combination degrees with the option \" sort_by='degree' \". It means that the first collumns correspond to genes contained in only one set, then in two sets, etc...\n",
    "\n",
    "It can be organised by size of intersections with the option \" sort_by='cardinality' \"."
   ]
  },
  {
   "cell_type": "markdown",
   "metadata": {},
   "source": [
    "##### Essential genes"
   ]
  },
  {
   "cell_type": "code",
   "execution_count": 60,
   "metadata": {},
   "outputs": [
    {
     "data": {
      "text/plain": [
       "<Figure size 2160x1080 with 0 Axes>"
      ]
     },
     "metadata": {},
     "output_type": "display_data"
    },
    {
     "data": {
      "image/png": "[encoded data removed]",
      "text/plain": [
       "<Figure size 636x320 with 4 Axes>"
      ]
     },
     "metadata": {
      "needs_background": "light"
     },
     "output_type": "display_data"
    }
   ],
   "source": [
    "fig=plt.figure(figsize=(30,15))\n",
    "\n",
    "upplot(transit_upset, sort_by='degree',orientation='horizontal', show_counts='%d')\n",
    "plt.suptitle('A',x=0.1, y=0.99 , fontsize=24 ,verticalalignment='top',horizontalalignment='left')\n",
    "plt.savefig('results/upset_ess_reg12.png')\n",
    "plt.show()"
   ]
  },
  {
   "cell_type": "markdown",
   "metadata": {},
   "source": [
    "Comparison of thresholds for gene essentiality prediction (Figure 3A)"
   ]
  },
  {
   "cell_type": "code",
   "execution_count": 61,
   "metadata": {},
   "outputs": [
    {
     "data": {
      "text/plain": [
       "<Figure size 2160x1080 with 0 Axes>"
      ]
     },
     "metadata": {},
     "output_type": "display_data"
    },
    {
     "data": {
      "image/png": "[encoded data removed]",
      "text/plain": [
       "<Figure size 380x288 with 4 Axes>"
      ]
     },
     "metadata": {
      "needs_background": "light"
     },
     "output_type": "display_data"
    }
   ],
   "source": [
    "dic_sets={}\n",
    "dic_comb={}\n",
    "dic_name={}\n",
    "dic_tot={}\n",
    "dic_name['A']='Paper'\n",
    "dic_name['B']='Reg X=4'\n",
    "dic_name['C']='Reg X=12'\n",
    "dic_sets['Paper']=set(set_paper)\n",
    "dic_sets['Reg X=12']=set(set_bayes_12)\n",
    "dic_sets['Reg X=4']=set(set_bayes_4)\n",
    "\n",
    "\n",
    "stuff=['A','B','C']\n",
    "for i in stuff:\n",
    "    dic_comb[i]=dic_name[i]\n",
    "for i in range(0, len(stuff)+1):\n",
    "    for subset in itertools.combinations(stuff, i):\n",
    "        if len(subset)>1:\n",
    "            dic_comb[\"\".join(subset)]=[dic_name[i] for i in subset]\n",
    "        elif len(subset)==1:\n",
    "            dic_comb[\"\".join(subset)]=[dic_name[subset[0]]]\n",
    "        else:\n",
    "            dic_comb[\"\".join(subset)]=[]\n",
    "\n",
    "for i in dic_comb.keys():\n",
    "    if len(dic_comb[i])>1:\n",
    "        intset=dic_sets[dic_comb[i][0]]\n",
    "        for j in dic_comb[i][1:]:\n",
    "            intset=intset.intersection(dic_sets[j])\n",
    "        compl=[x for x in np.setdiff1d(dic_comb['ABC'],dic_comb[i])]\n",
    "        for k in compl:\n",
    "            intset=intset.difference(dic_sets[k])\n",
    "    elif len(dic_comb[i])==1:\n",
    "        intset=dic_sets[dic_comb[i][0]]\n",
    "        compl=[i for i in np.setdiff1d(dic_comb['ABC'],dic_comb[i])]\n",
    "        for k in compl:\n",
    "            intset=intset.difference(dic_sets[k])\n",
    "    else:\n",
    "        intset=[]\n",
    "    dic_tot[i]=len(intset)\n",
    "\n",
    "values=[i[1] for i in sorted(dic_tot.items(),key =  lambda kv:(kv[1])  , reverse=True  )]\n",
    "combin=[dic_comb[i[0]] for i in sorted(dic_tot.items(),key =  lambda kv:(kv[1])  , reverse=True  )]\n",
    "transit_upset = from_memberships(combin,data=values)\n",
    "\n",
    "fig=plt.figure(figsize=(30,15))\n",
    "\n",
    "upplot(transit_upset, sort_by='degree',orientation='horizontal', show_counts='%d')\n",
    "plt.suptitle('A',x=0.1, y=0.99 , fontsize=24 ,verticalalignment='top',horizontalalignment='left')\n",
    "plt.savefig('results/upset_ess_reg_comp.png')\n",
    "plt.show()"
   ]
  },
  {
   "cell_type": "markdown",
   "metadata": {},
   "source": [
    "Comparison with Biotradis for gene essentiality prediction (Figure 3C)"
   ]
  },
  {
   "cell_type": "code",
   "execution_count": 62,
   "metadata": {},
   "outputs": [
    {
     "data": {
      "text/plain": [
       "<Figure size 2160x1080 with 0 Axes>"
      ]
     },
     "metadata": {},
     "output_type": "display_data"
    },
    {
     "data": {
      "image/png": "[encoded data removed]",
      "text/plain": [
       "<Figure size 377.875x288 with 4 Axes>"
      ]
     },
     "metadata": {
      "needs_background": "light"
     },
     "output_type": "display_data"
    }
   ],
   "source": [
    "dic_sets={}\n",
    "dic_comb={}\n",
    "dic_name={}\n",
    "dic_tot={}\n",
    "dic_name['A']='Paper'\n",
    "dic_name['B']='Reg X=4'\n",
    "dic_name['C']='Bio-Tradis'\n",
    "dic_sets['Paper']=set(set_paper)\n",
    "dic_sets['Reg X=4']=set(set_bayes_4)\n",
    "dic_sets['Bio-Tradis']=set(set_biotradis)\n",
    "\n",
    "\n",
    "stuff=['A','B','C']\n",
    "for i in stuff:\n",
    "    dic_comb[i]=dic_name[i]\n",
    "for i in range(0, len(stuff)+1):\n",
    "    for subset in itertools.combinations(stuff, i):\n",
    "        if len(subset)>1:\n",
    "            dic_comb[\"\".join(subset)]=[dic_name[i] for i in subset]\n",
    "        elif len(subset)==1:\n",
    "            dic_comb[\"\".join(subset)]=[dic_name[subset[0]]]\n",
    "        else:\n",
    "            dic_comb[\"\".join(subset)]=[]\n",
    "\n",
    "for i in dic_comb.keys():\n",
    "    if len(dic_comb[i])>1:\n",
    "        intset=dic_sets[dic_comb[i][0]]\n",
    "        for j in dic_comb[i][1:]:\n",
    "            intset=intset.intersection(dic_sets[j])\n",
    "        compl=[x for x in np.setdiff1d(dic_comb['ABC'],dic_comb[i])]\n",
    "        for k in compl:\n",
    "            intset=intset.difference(dic_sets[k])\n",
    "    elif len(dic_comb[i])==1:\n",
    "        intset=dic_sets[dic_comb[i][0]]\n",
    "        compl=[i for i in np.setdiff1d(dic_comb['ABC'],dic_comb[i])]\n",
    "        for k in compl:\n",
    "            intset=intset.difference(dic_sets[k])\n",
    "    else:\n",
    "        intset=[]\n",
    "    dic_tot[i]=len(intset)\n",
    "\n",
    "values=[i[1] for i in sorted(dic_tot.items(),key =  lambda kv:(kv[1])  , reverse=True  )]\n",
    "combin=[dic_comb[i[0]] for i in sorted(dic_tot.items(),key =  lambda kv:(kv[1])  , reverse=True  )]\n",
    "transit_upset = from_memberships(combin,data=values)\n",
    "\n",
    "fig=plt.figure(figsize=(30,15))\n",
    "\n",
    "upplot(transit_upset, sort_by='degree',orientation='horizontal', show_counts='%d')\n",
    "plt.suptitle('A',x=0.1, y=0.99 , fontsize=24 ,verticalalignment='top',horizontalalignment='left')\n",
    "plt.savefig('results/biotard_init.png')\n",
    "plt.show()"
   ]
  },
  {
   "cell_type": "markdown",
   "metadata": {},
   "source": [
    "Comparison with other Studies (Figure 5A)"
   ]
  },
  {
   "cell_type": "code",
   "execution_count": 63,
   "metadata": {},
   "outputs": [
    {
     "data": {
      "text/plain": [
       "<Figure size 2160x1080 with 0 Axes>"
      ]
     },
     "metadata": {},
     "output_type": "display_data"
    },
    {
     "data": {
      "image/png": "[encoded data removed]",
      "text/plain": [
       "<Figure size 1141.62x352 with 4 Axes>"
      ]
     },
     "metadata": {
      "needs_background": "light"
     },
     "output_type": "display_data"
    }
   ],
   "source": [
    "dic_sets={}\n",
    "dic_comb={}\n",
    "dic_name={}\n",
    "dic_tot={}\n",
    "dic_name['A']='Paper'\n",
    "dic_name['B']='Transit'\n",
    "dic_name['C']='Reg X=4'\n",
    "dic_name['D']='PEC'\n",
    "dic_name['E']='Keio'\n",
    "dic_sets['Paper']=set(set_paper)\n",
    "dic_sets['Transit']=set(set_transit)\n",
    "dic_sets['Reg X=4']=set(set_bayes_4)\n",
    "dic_sets['PEC']=set(set_pec)\n",
    "dic_sets['Keio']=set(set_keio)\n",
    "\n",
    "stuff=['A','B','C','D','E']\n",
    "for i in stuff:\n",
    "    dic_comb[i]=dic_name[i]\n",
    "for i in range(0, len(stuff)+1):\n",
    "    for subset in itertools.combinations(stuff, i):\n",
    "        if len(subset)>1:\n",
    "            dic_comb[\"\".join(subset)]=[dic_name[i] for i in subset]\n",
    "        elif len(subset)==1:\n",
    "            dic_comb[\"\".join(subset)]=[dic_name[subset[0]]]\n",
    "        else:\n",
    "            dic_comb[\"\".join(subset)]=[]\n",
    "\n",
    "for i in dic_comb.keys():\n",
    "    if len(dic_comb[i])>1:\n",
    "        intset=dic_sets[dic_comb[i][0]]\n",
    "        for j in dic_comb[i][1:]:\n",
    "            intset=intset.intersection(dic_sets[j])\n",
    "        compl=[x for x in np.setdiff1d(dic_comb['ABCDE'],dic_comb[i])]\n",
    "        for k in compl:\n",
    "            intset=intset.difference(dic_sets[k])\n",
    "    elif len(dic_comb[i])==1:\n",
    "        intset=dic_sets[dic_comb[i][0]]\n",
    "        compl=[i for i in np.setdiff1d(dic_comb['ABCDE'],dic_comb[i])]\n",
    "        for k in compl:\n",
    "            intset=intset.difference(dic_sets[k])\n",
    "    else:\n",
    "        intset=[]\n",
    "    dic_tot[i]=len(intset)\n",
    "\n",
    "values=[i[1] for i in sorted(dic_tot.items(),key =  lambda kv:(kv[1])  , reverse=True  )]\n",
    "combin=[dic_comb[i[0]] for i in sorted(dic_tot.items(),key =  lambda kv:(kv[1])  , reverse=True  )]\n",
    "transit_upset = from_memberships(combin,data=values)\n",
    "\n",
    "fig=plt.figure(figsize=(30,15))\n",
    "\n",
    "upplot(transit_upset, sort_by='degree',orientation='horizontal', show_counts='%d')\n",
    "plt.suptitle('A',x=0.1, y=0.99 , fontsize=24 ,verticalalignment='top',horizontalalignment='left')\n",
    "plt.savefig('results/upset_ess_all.png')\n",
    "plt.show()"
   ]
  },
  {
   "cell_type": "markdown",
   "metadata": {},
   "source": [
    "### List of non-essential genes <a id='list_ne'></a>"
   ]
  },
  {
   "cell_type": "code",
   "execution_count": 64,
   "metadata": {},
   "outputs": [],
   "source": [
    "set_paper_ne=set(transit_all.get_ne('paper').ID)\n",
    "set_transit_ne=set(transit_all.get_ne('call').ID)\n",
    "set_bayes_12_ne=set(transit_all.get_ne('Bayes_class').ID)\n",
    "set_bayes_4_ne=set(transit_all.get_ne('Bayes_class_4').ID)\n",
    "set_pec_ne=set(transit_all.get_ne('pec').ID)\n",
    "set_keio_ne=set(transit_all.get_ne('keio').ID)\n",
    "set_biotradis_ne=set(transit_all.get_ne('biotradis').ID)"
   ]
  },
  {
   "cell_type": "code",
   "execution_count": 65,
   "metadata": {},
   "outputs": [],
   "source": [
    "dic_sets={}\n",
    "dic_comb={}\n",
    "dic_name={}\n",
    "dic_tot={}\n",
    "dic_name['A']='Paper'\n",
    "dic_name['B']='Transit'\n",
    "dic_name['C']='Reg X=12'\n",
    "dic_name['D']='Reg X=4'\n",
    "dic_name['E']='PEC'\n",
    "dic_name['F']='Keio'\n",
    "dic_name['G']='Bio-Tradis'\n",
    "dic_sets['Paper']=set(set_paper_ne)\n",
    "dic_sets['Transit']=set(set_transit_ne)\n",
    "dic_sets['Reg X=12']=set(set_bayes_12_ne)\n",
    "dic_sets['Reg X=4']=set(set_bayes_4_ne)\n",
    "dic_sets['PEC']=set(set_pec_ne)\n",
    "dic_sets['Keio']=set(set_keio_ne)\n",
    "dic_sets['Bio-Tradis']=set(set_biotradis_ne)"
   ]
  },
  {
   "cell_type": "code",
   "execution_count": 66,
   "metadata": {},
   "outputs": [],
   "source": [
    "stuff=['A','C','D']\n",
    "for i in stuff:\n",
    "    dic_comb[i]=dic_name[i]\n",
    "for i in range(0, len(stuff)+1):\n",
    "    for subset in itertools.combinations(stuff, i):\n",
    "        if len(subset)>1:\n",
    "            dic_comb[\"\".join(subset)]=[dic_name[i] for i in subset]\n",
    "        elif len(subset)==1:\n",
    "            dic_comb[\"\".join(subset)]=[dic_name[subset[0]]]\n",
    "        else:\n",
    "            dic_comb[\"\".join(subset)]=[]"
   ]
  },
  {
   "cell_type": "markdown",
   "metadata": {},
   "source": [
    "Calculation of intersection sets, and theiir sizes. A combination ABC in a space containing A,B,C, and D is the intersection of A, B, and C ensembles, excluding the genes belonging to D."
   ]
  },
  {
   "cell_type": "code",
   "execution_count": 67,
   "metadata": {},
   "outputs": [],
   "source": [
    "for i in dic_comb.keys():\n",
    "    if len(dic_comb[i])>1:\n",
    "        intset=dic_sets[dic_comb[i][0]]\n",
    "        for j in dic_comb[i][1:]:\n",
    "            intset=intset.intersection(dic_sets[j])\n",
    "        compl=[x for x in np.setdiff1d(dic_comb['ACD'],dic_comb[i])]\n",
    "        for k in compl:\n",
    "            intset=intset.difference(dic_sets[k])\n",
    "    elif len(dic_comb[i])==1:\n",
    "        intset=dic_sets[dic_comb[i][0]]\n",
    "        compl=[i for i in np.setdiff1d(dic_comb['ACD'],dic_comb[i])]\n",
    "        for k in compl:\n",
    "            intset=intset.difference(dic_sets[k])\n",
    "    else:\n",
    "        intset=[]\n",
    "    dic_tot[i]=len(intset)"
   ]
  },
  {
   "cell_type": "markdown",
   "metadata": {},
   "source": [
    "Creation of a lists containing :\n",
    "- The list of combination labels list\n",
    "- The list of combination set size\n",
    "\n",
    "These list are input to the 'from_memberships' function that create the matrix to input to the upset plot."
   ]
  },
  {
   "cell_type": "code",
   "execution_count": 68,
   "metadata": {},
   "outputs": [],
   "source": [
    "values=[i[1] for i in sorted(dic_tot.items(),key =  lambda kv:(kv[1])  , reverse=True  )]\n",
    "combin=[dic_comb[i[0]] for i in sorted(dic_tot.items(),key =  lambda kv:(kv[1])  , reverse=True  )]\n",
    "transit_upset = from_memberships(combin,data=values)"
   ]
  },
  {
   "cell_type": "code",
   "execution_count": 69,
   "metadata": {},
   "outputs": [
    {
     "data": {
      "text/plain": [
       "<Figure size 2160x1080 with 0 Axes>"
      ]
     },
     "metadata": {},
     "output_type": "display_data"
    },
    {
     "data": {
      "image/png": "[encoded data removed]",
      "text/plain": [
       "<Figure size 380x288 with 4 Axes>"
      ]
     },
     "metadata": {
      "needs_background": "light"
     },
     "output_type": "display_data"
    }
   ],
   "source": [
    "fig=plt.figure(figsize=(30,15))\n",
    "\n",
    "upplot(transit_upset, sort_by='degree',orientation='horizontal', show_counts='%d')\n",
    "plt.suptitle('B',x=0.1, y=0.99 , fontsize=24 ,verticalalignment='top',horizontalalignment='left')\n",
    "plt.savefig('results/upset_ne_reg_comp.png')\n",
    "plt.show()"
   ]
  },
  {
   "cell_type": "markdown",
   "metadata": {},
   "source": [
    "Comparison with other Studies (Figure 5B)"
   ]
  },
  {
   "cell_type": "code",
   "execution_count": 70,
   "metadata": {},
   "outputs": [
    {
     "data": {
      "text/plain": [
       "<Figure size 2160x1080 with 0 Axes>"
      ]
     },
     "metadata": {},
     "output_type": "display_data"
    },
    {
     "data": {
      "image/png": "[encoded data removed]",
      "text/plain": [
       "<Figure size 1141.62x352 with 4 Axes>"
      ]
     },
     "metadata": {
      "needs_background": "light"
     },
     "output_type": "display_data"
    }
   ],
   "source": [
    "dic_sets={}\n",
    "dic_comb={}\n",
    "dic_name={}\n",
    "dic_tot={}\n",
    "dic_name['A']='Paper'\n",
    "dic_name['B']='Transit'\n",
    "dic_name['C']='Reg X=4'\n",
    "dic_name['D']='PEC'\n",
    "dic_name['E']='Keio'\n",
    "dic_sets['Paper']=set(set_paper_ne)\n",
    "dic_sets['Transit']=set(set_transit_ne)\n",
    "dic_sets['Reg X=4']=set(set_bayes_4_ne)\n",
    "dic_sets['PEC']=set(set_pec_ne)\n",
    "dic_sets['Keio']=set(set_keio_ne)\n",
    "\n",
    "\n",
    "stuff=['A','B','C','D','E']\n",
    "for i in stuff:\n",
    "    dic_comb[i]=dic_name[i]\n",
    "for i in range(0, len(stuff)+1):\n",
    "    for subset in itertools.combinations(stuff, i):\n",
    "        if len(subset)>1:\n",
    "            dic_comb[\"\".join(subset)]=[dic_name[i] for i in subset]\n",
    "        elif len(subset)==1:\n",
    "            dic_comb[\"\".join(subset)]=[dic_name[subset[0]]]\n",
    "        else:\n",
    "            dic_comb[\"\".join(subset)]=[]\n",
    "\n",
    "for i in dic_comb.keys():\n",
    "    if len(dic_comb[i])>1:\n",
    "        intset=dic_sets[dic_comb[i][0]]\n",
    "        for j in dic_comb[i][1:]:\n",
    "            intset=intset.intersection(dic_sets[j])\n",
    "        compl=[x for x in np.setdiff1d(dic_comb['ABCDE'],dic_comb[i])]\n",
    "        for k in compl:\n",
    "            intset=intset.difference(dic_sets[k])\n",
    "    elif len(dic_comb[i])==1:\n",
    "        intset=dic_sets[dic_comb[i][0]]\n",
    "        compl=[i for i in np.setdiff1d(dic_comb['ABCDE'],dic_comb[i])]\n",
    "        for k in compl:\n",
    "            intset=intset.difference(dic_sets[k])\n",
    "    else:\n",
    "        intset=[]\n",
    "    dic_tot[i]=len(intset)\n",
    "\n",
    "values=[i[1] for i in sorted(dic_tot.items(),key =  lambda kv:(kv[1])  , reverse=True  )]\n",
    "combin=[dic_comb[i[0]] for i in sorted(dic_tot.items(),key =  lambda kv:(kv[1])  , reverse=True  )]\n",
    "transit_upset = from_memberships(combin,data=values)\n",
    "\n",
    "fig=plt.figure(figsize=(30,15))\n",
    "\n",
    "upplot(transit_upset, sort_by='degree',orientation='horizontal', show_counts='%d')\n",
    "plt.suptitle('A',x=0.1, y=0.99 , fontsize=24 ,verticalalignment='top',horizontalalignment='left')\n",
    "plt.savefig('results/upset_ne_all.png')\n",
    "plt.show()"
   ]
  },
  {
   "cell_type": "markdown",
   "metadata": {},
   "source": [
    "### Generation of venn diagram for essential genes comparison with Transit (Figure 4) <a id='venn_ess'></a>"
   ]
  },
  {
   "cell_type": "code",
   "execution_count": 71,
   "metadata": {},
   "outputs": [
    {
     "data": {
      "image/png": "[encoded data removed]",
      "text/plain": [
       "<Figure size 1440x1440 with 2 Axes>"
      ]
     },
     "metadata": {},
     "output_type": "display_data"
    }
   ],
   "source": [
    "\n",
    "fig, ax = plt.subplots(figsize=(20,20))\n",
    "gs1 = gridspec.GridSpec(1, 2)\n",
    "gs1.update(wspace=0.025, hspace=0.05)\n",
    "\n",
    "plt.axis('on')\n",
    "\n",
    "pltA=plt.subplot(gs1[0]).set_title('A', fontsize=20, loc='left',y=0.95,x=0.005)\n",
    "Avenn=venn2([set_paper,set_transit],set_labels = ( 'Paper','Transit'))\n",
    "0\n",
    "pltB=plt.subplot(gs1[1]).set_title('B', fontsize=20, loc='left',y=0.95,x=0.005)\n",
    "Bvenn=venn2( [set_paper_ne,set_transit_ne],set_labels = ('Paper','Transit'))\n",
    "\n",
    "\n",
    "ax.set_aspect('equal')\n",
    "\n",
    "\n",
    "for text in Avenn.set_labels:\n",
    "    text.set_fontsize(18)\n",
    "for text in Avenn.subset_labels:\n",
    "    text.set_fontsize(18)\n",
    "for text in Bvenn.set_labels:\n",
    "    text.set_fontsize(18)\n",
    "for text in Bvenn.subset_labels:\n",
    "    text.set_fontsize(18)\n",
    "\n",
    "plt.savefig('results/transit_paper.png')"
   ]
  }
 ],
 "metadata": {
  "cite2c": {
   "citations": {
    "6932338/2SZ4993M": {
     "DOI": "10.1093/bioinformatics/btt043",
     "URL": "https://academic.oup.com/bioinformatics/article-lookup/doi/10.1093/bioinformatics/btt043",
     "accessed": {
      "day": 5,
      "month": 6,
      "year": 2019
     },
     "author": [
      {
       "family": "DeJesus",
       "given": "Michael A."
      },
      {
       "family": "Zhang",
       "given": "Yanjia J."
      },
      {
       "family": "Sassetti",
       "given": "Christopher M."
      },
      {
       "family": "Rubin",
       "given": "Eric J."
      },
      {
       "family": "Sacchettini",
       "given": "James C."
      },
      {
       "family": "Ioerger",
       "given": "Thomas R."
      }
     ],
     "container-title": "Bioinformatics",
     "id": "6932338/2SZ4993M",
     "issue": "6",
     "issued": {
      "day": 15,
      "month": 3,
      "year": 2013
     },
     "language": "en",
     "page": "695-703",
     "page-first": "695",
     "title": "Bayesian analysis of gene essentiality based on sequencing of transposon insertion libraries",
     "type": "article-journal",
     "volume": "29"
    },
    "6932338/5LLRER7Y": {
     "URL": "https://journals.plos.org/plospathogens/article?id=10.1371/journal.ppat.1002251",
     "accessed": {
      "day": 5,
      "month": 6,
      "year": 2019
     },
     "id": "6932338/5LLRER7Y",
     "title": "High-Resolution Phenotypic Profiling Defines Genes Essential for Mycobacterial Growth and Cholesterol Catabolism",
     "type": "article"
    },
    "6932338/9J4IFRXF": {
     "abstract": "Transposon-directed insertion site sequencing (TraDIS) is a highthroughput method coupling transposon mutagenesis with short-fragment DNA sequencing. It is commonly used to identify essential genes. Single gene deletion libraries are considered the gold standard for identifying essential genes. Currently, the TraDIS method has not been benchmarked against such libraries, and therefore, it remains unclear whether the two methodologies are comparable. To address this, a high-density transposon library was constructed in Escherichia coli K-12. Essential genes predicted from sequencing of this library were compared to existing essential gene databases. To decrease false-positive identiﬁcation of essential genes, statistical data analysis included corrections for both gene length and genome length. Through this analysis, new essential genes and genes previously incorrectly designated essential were identiﬁed. We show that manual analysis of TraDIS data reveals novel features that would not have been detected by statistical analysis alone. Examples include short essential regions within genes, orientation-dependent effects, and ﬁne-resolution identiﬁcation of genome and protein features. Recognition of these insertion proﬁles in transposon mutagenesis data sets will assist genome annotation of less well characterized genomes and provides new insights into bacterial physiology and biochemistry.",
     "author": [
      {
       "family": "Goodall",
       "given": "Emily C A"
      },
      {
       "family": "Robinson",
       "given": "Ashley"
      },
      {
       "family": "Johnston",
       "given": "Iain G"
      },
      {
       "family": "Jabbari",
       "given": "Sara"
      },
      {
       "family": "Turner",
       "given": "Keith A"
      },
      {
       "family": "Cunningham",
       "given": "Adam F"
      },
      {
       "family": "Lund",
       "given": "Peter A"
      },
      {
       "family": "Cole",
       "given": "Jeffrey A"
      },
      {
       "family": "Henderson",
       "given": "Ian R"
      }
     ],
     "id": "6932338/9J4IFRXF",
     "issue": "1",
     "issued": {
      "year": 2018
     },
     "language": "en",
     "page": "18",
     "page-first": "18",
     "title": "The Essential Genome of Escherichia coli K-12",
     "type": "article-journal",
     "volume": "9"
    },
    "6932338/9THP52JU": {
     "DOI": "10.1186/1471-2105-12-480",
     "URL": "http://bmcbioinformatics.biomedcentral.com/articles/10.1186/1471-2105-12-480",
     "accessed": {
      "day": 6,
      "month": 6,
      "year": 2019
     },
     "author": [
      {
       "family": "Risso",
       "given": "Davide"
      },
      {
       "family": "Schwartz",
       "given": "Katja"
      },
      {
       "family": "Sherlock",
       "given": "Gavin"
      },
      {
       "family": "Dudoit",
       "given": "Sandrine"
      }
     ],
     "container-title": "BMC Bioinformatics",
     "container-title-short": "BMC Bioinformatics",
     "id": "6932338/9THP52JU",
     "issue": "1",
     "issued": {
      "year": 2011
     },
     "journalAbbreviation": "BMC Bioinformatics",
     "language": "en",
     "page": "480",
     "page-first": "480",
     "title": "GC-Content Normalization for RNA-Seq Data",
     "type": "article-journal",
     "volume": "12"
    },
    "6932338/A5YSBNQX": {
     "URL": "https://academic.oup.com/bioinformatics/article/29/6/695/184050",
     "accessed": {
      "day": 5,
      "month": 6,
      "year": 2019
     },
     "author": [
      {
       "family": "DeJesus",
       "given": "Michael A. ,"
      },
      {
       "family": "Zhang",
       "given": "Yanjia J."
      },
      {
       "family": "Christopher M.",
       "given": "Sassetti"
      },
      {
       "family": "Rubin",
       "given": "Eric J."
      },
      {
       "family": "Sacchettini",
       "given": "James C."
      },
      {
       "family": "Ioerger",
       "given": "Thomas R."
      }
     ],
     "id": "6932338/A5YSBNQX",
     "title": "Bayesian analysis of gene essentiality based on sequencing of transposon insertion libraries | Bioinformatics | Oxford Academic",
     "type": "article-journal"
    },
    "6932338/CY4FKA2X": {
     "URL": "https://academic.oup.com/bioinformatics/article/29/6/695/184050",
     "accessed": {
      "day": 5,
      "month": 6,
      "year": 2019
     },
     "id": "6932338/CY4FKA2X",
     "title": "Bayesian analysis of gene essentiality based on sequencing of transposon insertion libraries | Bioinformatics | Oxford Academic",
     "type": "article"
    },
    "6932338/D8LBWRWC": {
     "URL": "https://bmcbioinformatics.biomedcentral.com/articles/10.1186/1471-2105-14-303",
     "accessed": {
      "day": 5,
      "month": 6,
      "year": 2019
     },
     "id": "6932338/D8LBWRWC",
     "title": "A Hidden Markov Model for identifying essential and growth-defect regions in bacterial genomes from transposon insertion sequencing data | BMC Bioinformatics | Full Text",
     "type": "article"
    },
    "6932338/DH78MLPP": {
     "DOI": "10.1371/journal.ppat.1002251",
     "URL": "https://dx.plos.org/10.1371/journal.ppat.1002251",
     "accessed": {
      "day": 5,
      "month": 6,
      "year": 2019
     },
     "author": [
      {
       "family": "Griffin",
       "given": "Jennifer E."
      },
      {
       "family": "Gawronski",
       "given": "Jeffrey D."
      },
      {
       "family": "DeJesus",
       "given": "Michael A."
      },
      {
       "family": "Ioerger",
       "given": "Thomas R."
      },
      {
       "family": "Akerley",
       "given": "Brian J."
      },
      {
       "family": "Sassetti",
       "given": "Christopher M."
      }
     ],
     "container-title": "PLoS Pathogens",
     "container-title-short": "PLoS Pathog",
     "editor": [
      {
       "family": "Ramakrishnan",
       "given": "Lalita"
      }
     ],
     "id": "6932338/DH78MLPP",
     "issue": "9",
     "issued": {
      "day": 29,
      "month": 9,
      "year": 2011
     },
     "journalAbbreviation": "PLoS Pathog",
     "language": "en",
     "page": "e1002251",
     "page-first": "e1002251",
     "title": "High-Resolution Phenotypic Profiling Defines Genes Essential for Mycobacterial Growth and Cholesterol Catabolism",
     "type": "article-journal",
     "volume": "7"
    },
    "6932338/ESUL5ZJ8": {
     "DOI": "10.1128/mBio.01690-16",
     "URL": "https://mbio.asm.org/content/7/5/e01690-16",
     "abstract": "The property of transposons to randomly insert into target DNA has long been exploited for generalized mutagenesis and forward genetic screens. Newer applications that monitor the relative abundance of each transposon insertion in large libraries of mutants can be used to evaluate the roles in cellular fitness of all genes of an organism, provided that transposition is in fact random across all genes. In a recent article, Kimura and colleagues identified an important exception to the latter assumption [S. Kimura, T. P. Hubbard, B. M. Davis, M. K. Waldor, mBio 7(4):e01351-16, 2016, doi:10.1128/mBio.01351-16]. They provide evidence that the Mariner transposon exhibits locus-specific site preferences in the presence of the histone-like nucleoid structuring protein H-NS. This effect was shown to bias results for important virulence loci in Vibrio cholerae and to result in misidentification of genes involved in growth in vitro. Fortunately, the bulk of this bacterium’s genome was unaffected by this bias, and recognizing the H-NS effect allows filtering to improve the accuracy of the results.",
     "accessed": {
      "day": 6,
      "month": 6,
      "year": 2019
     },
     "author": [
      {
       "family": "Akerley",
       "given": "Brian J."
      }
     ],
     "container-title": "mBio",
     "id": "6932338/ESUL5ZJ8",
     "issue": "5",
     "issued": {
      "day": 2,
      "month": 11,
      "year": 2016
     },
     "language": "en",
     "note": "PMID: 27729512",
     "page": "e01690-16",
     "page-first": "e01690",
     "title": "No-Go Zones for Mariner Transposition",
     "type": "article-journal",
     "volume": "7"
    },
    "6932338/HNBGDTP2": {
     "DOI": "10.1186/1471-2105-14-303",
     "URL": "https://bmcbioinformatics.biomedcentral.com/articles/10.1186/1471-2105-14-303",
     "accessed": {
      "day": 5,
      "month": 6,
      "year": 2019
     },
     "author": [
      {
       "family": "DeJesus",
       "given": "Michael A"
      },
      {
       "family": "Ioerger",
       "given": "Thomas R"
      }
     ],
     "container-title": "BMC Bioinformatics",
     "container-title-short": "BMC Bioinformatics",
     "id": "6932338/HNBGDTP2",
     "issue": "1",
     "issued": {
      "year": 2013
     },
     "journalAbbreviation": "BMC Bioinformatics",
     "language": "en",
     "page": "303",
     "page-first": "303",
     "title": "A Hidden Markov Model for identifying essential and growth-defect regions in bacterial genomes from transposon insertion sequencing data",
     "type": "article-journal",
     "volume": "14"
    },
    "6932338/KV8VJY25": {
     "DOI": "10.1038/nrmicro.2015.7",
     "URL": "http://www.nature.com/articles/nrmicro.2015.7",
     "abstract": "Transposon insertion sequencing (TIS) is a powerful approach that can be extensively applied to the genome-wide definition of loci that are required for bacterial growth under diverse conditions. However, experimental design choices and stochastic biological processes can heavily influence the results of TIS experiments and affect downstream statistical analysis. In this Opinion article, we discuss TIS experimental parameters and how these factors relate to the benefits and limitations of the various statistical frameworks that can be applied to the computational analysis of TIS data.",
     "accessed": {
      "day": 23,
      "month": 5,
      "year": 2019
     },
     "author": [
      {
       "family": "Chao",
       "given": "Michael C."
      },
      {
       "family": "Abel",
       "given": "Sören"
      },
      {
       "family": "Davis",
       "given": "Brigid M."
      },
      {
       "family": "Waldor",
       "given": "Matthew K."
      }
     ],
     "container-title": "Nature Reviews Microbiology",
     "container-title-short": "Nat Rev Microbiol",
     "id": "6932338/KV8VJY25",
     "issue": "2",
     "issued": {
      "year": 2016
     },
     "journalAbbreviation": "Nat Rev Microbiol",
     "language": "en",
     "page": "119-128",
     "page-first": "119",
     "title": "The design and analysis of transposon insertion sequencing experiments",
     "type": "article-journal",
     "volume": "14"
    },
    "6932338/MJQRV22U": {
     "URL": "https://bmcbioinformatics.biomedcentral.com/articles/10.1186/1471-2105-14-303",
     "accessed": {
      "day": 5,
      "month": 6,
      "year": 2019
     },
     "author": [
      {
       "family": "Michael A DeJesus",
       "given": ""
      },
      {
       "family": "Thomas R Ioerger",
       "given": ""
      }
     ],
     "id": "6932338/MJQRV22U",
     "title": "A Hidden Markov Model for identifying essential and growth-defect regions in bacterial genomes from transposon insertion sequencing data | BMC Bioinformatics | Full Text",
     "type": "webpage"
    },
    "6932338/Q6WMPR6W": {
     "DOI": "10.1038/nrmicro.2015.7",
     "URL": "https://www.ncbi.nlm.nih.gov/pmc/articles/PMC5099075/",
     "abstract": "Transposon-insertion sequencing (TIS) is a powerful approach that can be widely applied to genome-wide definition of loci that are required for growth in diverse conditions. However, experimental design choices and stochastic biological processes can heavily influence the results of TIS experiments and affect downstream statistical analysis. Here, we discuss TIS experimental parameters and how these factors relate to the benefits and limitations of the various statistical frameworks that can be applied to computational analysis of TIS data.",
     "author": [
      {
       "family": "Chao",
       "given": "Michael C."
      },
      {
       "family": "Abel",
       "given": "Sören"
      },
      {
       "family": "Davis",
       "given": "Brigid M."
      },
      {
       "family": "Waldor",
       "given": "Matthew K."
      }
     ],
     "container-title": "Nature reviews. Microbiology",
     "container-title-short": "Nat Rev Microbiol",
     "id": "6932338/Q6WMPR6W",
     "issue": "2",
     "issued": {
      "month": 2,
      "year": 2016
     },
     "journalAbbreviation": "Nat Rev Microbiol",
     "note": "PMID: 26775926\nPMCID: PMC5099075",
     "page": "119-128",
     "page-first": "119",
     "title": "The Design and Analysis of Transposon-Insertion Sequencing Experiments",
     "type": "article-journal",
     "volume": "14"
    },
    "6932338/XQDF4CQQ": {
     "URL": "https://journals.plos.org/plospathogens/article?id=10.1371/journal.ppat.1002251",
     "accessed": {
      "day": 5,
      "month": 6,
      "year": 2019
     },
     "author": [
      {
       "family": "Jennifer E. Griffin",
       "given": ""
      },
      {
       "family": "Jeffrey D. Gawronski",
       "given": ""
      },
      {
       "family": "Michael A. DeJesus",
       "given": ""
      },
      {
       "family": "Ioerger",
       "given": "Thomas R."
      },
      {
       "family": "",
       "given": "Brian J. Akerley"
      },
      {
       "family": "Christopher M. Sassetti",
       "given": ""
      }
     ],
     "id": "6932338/XQDF4CQQ",
     "title": "High-Resolution Phenotypic Profiling Defines Genes Essential for Mycobacterial Growth and Cholesterol Catabolism",
     "type": "webpage"
    },
    "6932338/YRDSP7M7": {
     "URL": "http://biorxiv.org/lookup/doi/10.1101/563007",
     "abstract": "Enterohemorrhagic Escherichia coli O157:H7 (EHEC) is an important food-borne pathogen that colonizes the colon. Transposon-insertion sequencing (TIS) was used to identify genes required for EHEC and commensal E. coli K-12 growth in vitro and for EHEC growth in vivo in the infant rabbit colon. Surprisingly, many conserved loci contribute to EHEC's but not to K-12's growth in vitro, suggesting that gene acquisition during EHEC evolution has heightened the pathogen's reliance on certain metabolic processes that are dispensable for K-12. There was a restrictive bottleneck for EHEC colonization of the rabbit colon, which complicated identification of EHEC genes facilitating growth in vivo. Both a refined version of an existing analytic framework as well as PCA-based analysis were used to compensate for the effects of the infection bottleneck. These analyses confirmed that the EHEC LEE-encoded type III secretion apparatus is required for growth in vivo and revealed that only a few effectors are critical for in vivo fitness. Numerous mutants not previously associated with EHEC survival/growth in vivo also appeared attenuated in vivo, and a subset of these putative in vivo fitness factors were validated. Some were found to contribute to efficient type-three secretion while others, including tatABC, oxyR, envC, acrAB, and cvpA, promote EHEC resistance to host-derived stresses encountered in vivo. cvpA, which is also required for intestinal growth of several other enteric pathogens, proved to be required for EHEC, Vibrio cholerae and Vibrio parahaemolyticus resistance to the bile salt deoxycholate. Collectively, our findings provide a comprehensive framework for understanding EHEC growth in the intestine.",
     "accessed": {
      "day": 6,
      "month": 6,
      "year": 2019
     },
     "author": [
      {
       "family": "Warr",
       "given": "Alyson R"
      },
      {
       "family": "Hubbard",
       "given": "Troy P"
      },
      {
       "family": "Munera",
       "given": "Diana"
      },
      {
       "family": "Blondel",
       "given": "Carlos J"
      },
      {
       "family": "Abel zur Wiesch",
       "given": "Pia"
      },
      {
       "family": "Abel",
       "given": "Sören"
      },
      {
       "family": "Wang",
       "given": "Xiaoxue"
      },
      {
       "family": "Davis",
       "given": "Brigid M"
      },
      {
       "family": "Waldor",
       "given": "Matthew K."
      }
     ],
     "genre": "preprint",
     "id": "6932338/YRDSP7M7",
     "issued": {
      "day": 27,
      "month": 2,
      "year": 2019
     },
     "language": "en",
     "note": "DOI: 10.1101/563007",
     "publisher": "Microbiology",
     "title": "Transposon-insertion sequencing screens unveil requirements for EHEC growth and intestinal colonization",
     "type": "report"
    },
    "undefined": {
     "abstract": "Transposon-directed insertion site sequencing (TraDIS) is a highthroughput method coupling transposon mutagenesis with short-fragment DNA sequencing. It is commonly used to identify essential genes. Single gene deletion libraries are considered the gold standard for identifying essential genes. Currently, the TraDIS method has not been benchmarked against such libraries, and therefore, it remains unclear whether the two methodologies are comparable. To address this, a high-density transposon library was constructed in Escherichia coli K-12. Essential genes predicted from sequencing of this library were compared to existing essential gene databases. To decrease false-positive identiﬁcation of essential genes, statistical data analysis included corrections for both gene length and genome length. Through this analysis, new essential genes and genes previously incorrectly designated essential were identiﬁed. We show that manual analysis of TraDIS data reveals novel features that would not have been detected by statistical analysis alone. Examples include short essential regions within genes, orientation-dependent effects, and ﬁne-resolution identiﬁcation of genome and protein features. Recognition of these insertion proﬁles in transposon mutagenesis data sets will assist genome annotation of less well characterized genomes and provides new insights into bacterial physiology and biochemistry.",
     "author": [
      {
       "family": "Goodall",
       "given": "Emily C A"
      },
      {
       "family": "Robinson",
       "given": "Ashley"
      },
      {
       "family": "Johnston",
       "given": "Iain G"
      },
      {
       "family": "Jabbari",
       "given": "Sara"
      },
      {
       "family": "Turner",
       "given": "Keith A"
      },
      {
       "family": "Cunningham",
       "given": "Adam F"
      },
      {
       "family": "Lund",
       "given": "Peter A"
      },
      {
       "family": "Cole",
       "given": "Jeffrey A"
      },
      {
       "family": "Henderson",
       "given": "Ian R"
      }
     ],
     "id": "undefined",
     "issue": "1",
     "issued": {
      "year": 2018
     },
     "language": "en",
     "page": "18",
     "page-first": "18",
     "title": "The Essential Genome of Escherichia coli K-12",
     "type": "article-journal",
     "volume": "9"
    }
   }
  },
  "kernelspec": {
   "display_name": "Python 3",
   "language": "python",
   "name": "python3"
  },
  "language_info": {
   "codemirror_mode": {
    "name": "ipython",
    "version": 3
   },
   "file_extension": ".py",
   "mimetype": "text/x-python",
   "name": "python",
   "nbconvert_exporter": "python",
   "pygments_lexer": "ipython3",
   "version": "3.8.2"
  }
 },
 "nbformat": 4,
 "nbformat_minor": 4
}
